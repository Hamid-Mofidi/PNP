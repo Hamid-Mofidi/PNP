{
 "cells": [
  {
   "cell_type": "code",
   "execution_count": 1,
   "id": "8f7445ba",
   "metadata": {
    "_cell_guid": "b1076dfc-b9ad-4769-8c92-a6c4dae69d19",
    "_uuid": "8f2839f25d086af736a60e9eeb907d3b93b6e0e5",
    "execution": {
     "iopub.execute_input": "2024-03-11T06:53:05.893225Z",
     "iopub.status.busy": "2024-03-11T06:53:05.892714Z",
     "iopub.status.idle": "2024-03-11T06:53:05.911630Z",
     "shell.execute_reply": "2024-03-11T06:53:05.910571Z"
    },
    "papermill": {
     "duration": 0.030789,
     "end_time": "2024-03-11T06:53:05.914421",
     "exception": false,
     "start_time": "2024-03-11T06:53:05.883632",
     "status": "completed"
    },
    "tags": []
   },
   "outputs": [],
   "source": [
    "import numpy as np\n",
    "#!pip install cupy\n",
    "#import cupy as np \n",
    "import matplotlib.pyplot as plt\n",
    "from tqdm import tqdm"
   ]
  },
  {
   "cell_type": "code",
   "execution_count": 2,
   "id": "9a418aae",
   "metadata": {
    "execution": {
     "iopub.execute_input": "2024-03-11T06:53:05.930692Z",
     "iopub.status.busy": "2024-03-11T06:53:05.930319Z",
     "iopub.status.idle": "2024-03-11T06:53:05.943331Z",
     "shell.execute_reply": "2024-03-11T06:53:05.942092Z"
    },
    "papermill": {
     "duration": 0.024791,
     "end_time": "2024-03-11T06:53:05.946134",
     "exception": false,
     "start_time": "2024-03-11T06:53:05.921343",
     "status": "completed"
    },
    "tags": []
   },
   "outputs": [],
   "source": [
    "def zeroth_order_terms(V, alpha, beta, L, R, z1, z2):\n",
    "    c10a = (1/z1) * ((1 - alpha) * L + alpha * R)\n",
    "    c20a = (-z1/z2) * c10a\n",
    "    c10b = (1/z1) * ((1 - beta) * L + beta * R)\n",
    "    c20b = (-z1/z2) * c10b\n",
    "    phi0a = V * (np.log(((1 - alpha) * L + alpha * R)) - np.log(R)) / (np.log(L) - np.log(R))\n",
    "    phi0b = V * (np.log(((1 - beta)  * L + beta * R)) - np.log(R)) / (np.log(L) - np.log(R))\n",
    "    y0 = ((1.0 / ((z1 - z2) * (L - R))) * np.log(((1 - alpha) * L + alpha * R) / ((1 - beta) * L + beta * R)))\n",
    "    J10 = ((L - R) / (z1 * (np.log(L) - np.log(R)))) * (z1 * V + np.log(L) - np.log(R))\n",
    "    J20 = ((R - L) / (z2 * (np.log(L) - np.log(R)))) * (z2 * V + np.log(L) - np.log(R))\n",
    "    return c10a, c20a, c10b, c20b, phi0a, phi0b, y0, J10, J20"
   ]
  },
  {
   "cell_type": "code",
   "execution_count": 3,
   "id": "2ef3d79c",
   "metadata": {
    "execution": {
     "iopub.execute_input": "2024-03-11T06:53:05.960779Z",
     "iopub.status.busy": "2024-03-11T06:53:05.960383Z",
     "iopub.status.idle": "2024-03-11T06:53:05.983347Z",
     "shell.execute_reply": "2024-03-11T06:53:05.982114Z"
    },
    "papermill": {
     "duration": 0.033732,
     "end_time": "2024-03-11T06:53:05.986199",
     "exception": false,
     "start_time": "2024-03-11T06:53:05.952467",
     "status": "completed"
    },
    "tags": []
   },
   "outputs": [],
   "source": [
    "def first_order_terms(V, alpha, beta, L, R, z1, z2):\n",
    "    c10a, c20a, c10b, c20b, phi0a, phi0b, y0, J10, J20 = zeroth_order_terms(V, alpha, beta, L, R, z1, z2)\n",
    "    c11a = (z2 * alpha * (phi0b - phi0a) / (z1 - z2)) - (1 / (2 * (z1 - z2)))\n",
    "    c21a = (z1 * alpha * (phi0b - phi0a) / (z2 - z1)) - (1 / (2 * (z2 - z1)))\n",
    "    c11b = (z2 * (1 - beta) * (phi0a - phi0b) / (z1 - z2)) - (1 / (2 * (z1 - z2)))\n",
    "    c21b = (z1 * (1 - beta) * (phi0a - phi0b) / (z2 - z1)) - (1 / (2 * (z2 - z1)))\n",
    "    c1L  = L / z1\n",
    "    c1R  = R / z1\n",
    "    T0   =   J10 +  J20\n",
    "\n",
    "    A = -((beta - alpha) * (L - R) ** 2) / (((1 - alpha) * L + alpha * R) * ((1 - beta) * L + beta * R) * (np.log(L) - np.log(R)))\n",
    "    B = ( np.log(((1 - beta) * L + beta * R)) - np.log(((1 - alpha) * L + alpha * R))  ) / A\n",
    "\n",
    "    lambda_val = V / (np.log(L) - np.log(R))\n",
    "    phi1a = ((1 + z1 * lambda_val) * (1 + z2 * lambda_val) * (c10b - c10a) * (np.log(c1L) - np.log(c10a))) / (z1 * (z1 - z2) * c10a * c10b * (np.log(c1R) - np.log(c1L))) \\\n",
    "                  + (1 / (2 * z1 * (z1 - z2) * c10a)) + (lambda_val * ((z2 * alpha * (phi0b - phi0a)) / ((z1 - z2) * c10a) ) )\n",
    "    phi1b = ((1 + z1 * lambda_val) * (1 + z2 * lambda_val) * (c10b - c10a) * (np.log(c1R) - np.log(c10b))) / (z1 * (z1 - z2) * c10a * c10b * (np.log(c1R) - np.log(c1L))) \\\n",
    "                  + (1 / (2 * z1 * (z1 - z2) * c10b)) + (lambda_val * ((z2 * (1 - beta) * (phi0a - phi0b)) / ((z1 - z2) * c10b) ) )\n",
    "    y1 = (((1 - beta) * c1L + alpha * c1R) * (phi0a - phi0b)) / (z1 * (z1 - z2) * T0 * c10a * c10b) \\\n",
    "           + ((np.log(c10a) - np.log(c10b)) * (phi0a - phi0b)) / (z1 * (z1 - z2) * T0 * (c1L - c1R)) \\\n",
    "            - (((z2 * J10 + z1 * J20) * (c10a - c10b)) / (z1 ** 2 * z2 * (z1 - z2) * T0 ** 2 * c10a * c10b))\n",
    "    J11 = ( (A * (z2 * (1 - B) * V + np.log(L) - np.log(R))) / ((z1 - z2) * (np.log(L) - np.log(R))**2) ) * (z1 * V + np.log(L) - np.log(R))\n",
    "    J21 = ( (A * (z1 * (1 - B) * V + np.log(L) - np.log(R))) / ((z2 - z1) * (np.log(L) - np.log(R))**2) ) * (z2 * V + np.log(L) - np.log(R))\n",
    "\n",
    "\n",
    "    return c11a, c21a, c11b, c21b, phi1a, phi1b, y1, J11, J21"
   ]
  },
  {
   "cell_type": "code",
   "execution_count": 4,
   "id": "5af4aca9",
   "metadata": {
    "execution": {
     "iopub.execute_input": "2024-03-11T06:53:06.001013Z",
     "iopub.status.busy": "2024-03-11T06:53:06.000612Z",
     "iopub.status.idle": "2024-03-11T06:53:06.012251Z",
     "shell.execute_reply": "2024-03-11T06:53:06.010865Z"
    },
    "papermill": {
     "duration": 0.022659,
     "end_time": "2024-03-11T06:53:06.015169",
     "exception": false,
     "start_time": "2024-03-11T06:53:05.992510",
     "status": "completed"
    },
    "tags": []
   },
   "outputs": [],
   "source": [
    "def calculate_voltage_ranges(L, R):\n",
    "    alpha = 1/3\n",
    "    beta = 2/3\n",
    "    z1 = 1\n",
    "    z2 = -1\n",
    "\n",
    "    A = -((beta - alpha) * (L - R) ** 2) / (((1 - alpha) * L + alpha * R) * ((1 - beta) * L + beta * R) * (np.log(L) - np.log(R)))\n",
    "    B = ( np.log(((1 - beta) * L + beta * R)) - np.log(((1 - alpha) * L + alpha * R))  ) / A\n",
    "\n",
    "    Vq1 = (np.log(R) - np.log(L)) / (z2 * (1 - B))\n",
    "    Vq2 = (np.log(R) - np.log(L)) / (z1 * (1 - B))\n",
    "\n",
    "    Vqmin = np.min([Vq1, Vq2])\n",
    "    Vqmax = np.max([Vq1, Vq2])\n",
    "\n",
    "    V1_range = np.linspace(Vqmin-80, Vqmin, 200)\n",
    "    V2_range = np.linspace(Vqmin, Vqmax, 200)\n",
    "    V3_range = np.linspace(Vqmax, Vqmax+80, 200)\n",
    "\n",
    "    return alpha, beta, z1, z2, V1_range, V2_range, V3_range"
   ]
  },
  {
   "cell_type": "code",
   "execution_count": 5,
   "id": "f24cd011",
   "metadata": {
    "execution": {
     "iopub.execute_input": "2024-03-11T06:53:06.029690Z",
     "iopub.status.busy": "2024-03-11T06:53:06.029325Z",
     "iopub.status.idle": "2024-03-11T06:53:06.076973Z",
     "shell.execute_reply": "2024-03-11T06:53:06.075321Z"
    },
    "papermill": {
     "duration": 0.058606,
     "end_time": "2024-03-11T06:53:06.080104",
     "exception": false,
     "start_time": "2024-03-11T06:53:06.021498",
     "status": "completed"
    },
    "tags": []
   },
   "outputs": [],
   "source": [
    " # Define the second order terms\n",
    "def second_order_terms(V, alpha, beta, L, R, z1, z2):\n",
    "    # Constants\n",
    "    c10a, c20a, c10b, c20b, phi0a, phi0b, y0, J10, J20 = zeroth_order_terms(V, alpha, beta, L, R, z1, z2)\n",
    "    c11a, c21a, c11b, c21b, phi1a, phi1b, y1, J11, J21 = first_order_terms(V, alpha, beta, L, R, z1, z2)\n",
    "    H1 = 1.0\n",
    "    phiL = V\n",
    "    phiR = 0.0\n",
    "    c1L  = L\n",
    "    c1R  = R\n",
    "    T0   = J10 +  J20\n",
    "    T1   = J11 +  J21\n",
    "    I1   = J11 - J21\n",
    "\n",
    "    # Intermediate calculations\n",
    "    A1 = -(c1L - c10a) / (alpha * H1 * (np.log(c1L) - np.log(c10a)))\n",
    "    B1 = (c10b - c1R) / ((1 - beta) * (np.log(c10b) - np.log(c1R)))\n",
    "\n",
    "    A2_1 = (-(phi1a - phi1b) / 2) * (\n",
    "    1 + (V - phi0a) / (np.log(c1L) - np.log(c10a)) - (V - phi0a) * (c1L - c10a) / ((np.log(c1L) - np.log(c10a))**2 * c10a) )\n",
    "\n",
    "    A2_2 = ((c1L - c10a) / (alpha * (np.log(c1L) - np.log(c10a))) ) * (\n",
    "    -alpha * (phi0b - phi0a) / (2 * (2 * c10a)**2))\n",
    "\n",
    "    A2_3 = (-(phi0a - phi0b) / (H1 * (np.log(c1L) - np.log(c10a)) * 4) ) * (\n",
    "    2 * phi1a - (2 * (c1L - c10a) * phi1a / ((np.log(c1L) - np.log(c10a)) * c10a)) - 1 / (2 * c10a)\n",
    "    + (c1L - c10a) / (2  * (np.log(c1L) - np.log(c10a)) * c10a**2)\n",
    "    -(c11a + c21a) * (V - phi0a) * (c1L + c10a) / (2 * (np.log(c1L) - np.log(c10a)) * c10a**2) )\n",
    "\n",
    "    A2 = A2_1 - A2_2 - A2_3\n",
    "\n",
    "    # B2:\n",
    "    B2_1 = (-(phi1a - phi1b) / 2) * (\n",
    "    1 + phi0b / (np.log(c10b) - np.log(c1R)) - phi0b * (c10b - c1R) / ((np.log(c10b) - np.log(c1R))**2 * c10b))\n",
    "\n",
    "    B2_2 = ((c10b - c1R) / ((1 - beta) * (np.log(c10b) - np.log(c1R)))) * (\n",
    "    -(1 - beta) * (phi0a - phi0b) / (2 * ( 2 * c10b)**2) )\n",
    "\n",
    "    B2_3 = (-(phi0b - phi0a) / ((np.log(c10b) - np.log(c1R)) * 4)) * (\n",
    "    2* phi1b - 2 * (c10b - c1R) * phi1b / ((np.log(c10b) - np.log(c1R)) * c10b) - (1 / (2  * c10b))\n",
    "    + (c10b - c1R) / (2 * (np.log(c10b) - np.log(c1R)) * c10b**2)\n",
    "    -(c11b + c21b) * phi0b * (c1R + c10b) / (2 * (np.log(c10b) - np.log(c1R)) * c10b**2))\n",
    "\n",
    "\n",
    "    B2 = B2_1 + B2_2 - B2_3\n",
    "\n",
    "    # C:\n",
    "    C_1 = -( c11a +  c21a) / (2 * (2 * c10a)**2)\n",
    "    C_2 = ( c11b + c21b) / (2 * (2 * c10b)**2)\n",
    "    C_3 = 0 #(z1 + z2) * ((c10b)**2 - (c10a)**2) / (12 * (z1 * (z1 - z2) * c10a * c10b)**2)\n",
    "    C_4 = -I1 * y1\n",
    "\n",
    "    C_5 = (2 * (L - R) * V * y1) / ( (np.log(L) - np.log(R)) * c10a) * (\n",
    "    (-alpha * (phi0b - phi0a) / 2) - (c10a * (phi0a - phi0b) / T0) - 1 / 2)\n",
    "\n",
    "    C_6 = -V * (1 / (c10a)**2 - 1 / (c10b)**2)/ (8 * (np.log(L) - np.log(R)))\n",
    "\n",
    "    C_7 = -(phi1a - phi1b) * V * ((1 / 2) * (alpha / c10a + (1 - beta) / c10b) + y0)/ (np.log(L) - np.log(R))\n",
    "\n",
    "    C_8 = -(V / (2 * (np.log(L) - np.log(R)) ) ) * (T0 * y1 + T1 * y0)**2\n",
    "\n",
    "    C_9 = (-V * (phi0a - phi0b) * y0 / (c10a * (np.log(L) - np.log(R))) ) * (\n",
    "        -alpha * (phi0b - phi0a) / 2 - (1 / 2) )\n",
    "\n",
    "    C_10 = (J11 * V / (T0 * (np.log(L) - np.log(R))) ) * (1 / c10b - 1 / c10a)\n",
    "\n",
    "    C_11 = (J10 * (phi0a - phi0b) * V) * (1 / c10b - 1 / c10a) / (T0**2 * (np.log(L) - np.log(R)))\n",
    "\n",
    "    C = C_1 + C_2 + C_3 + C_4 + C_5 + C_6 + C_7 + C_8 + C_9 + C_10 + C_11\n",
    "\n",
    "\n",
    "    # Calculate c12a, c22a, c12b, c22b\n",
    "    c12a = 1 / (32 * c10a) + ((phi1a - phi1b) * alpha) / 2\n",
    "    c22a = 1 / (32 * c10a) + ((phi1a - phi1b) * alpha) / 2\n",
    "    c12b = 1 / (32 * c10b) - ((phi1a - phi1b) * (1 - beta)) / 2\n",
    "    c22b = 1 / (32 * c10b) - ((phi1a - phi1b) * (1 - beta)) / 2\n",
    "\n",
    "    # Calculate phi2a, phi2b\n",
    "    phi2a = (B1 * C - 2 * y0 * B1 * A2 + y0 * B1 * (phi1b - phi1a)  +\n",
    "              B2 - A2) / (A1 - B1 + 2 * y0 * A1 * B1)\n",
    "    phi2b = (1 - 2 * y0 * A1) * phi2a + C - 2 * y0 * A2 + y0 * (phi1b - phi1a) \n",
    "\n",
    "    # Calculate y2\n",
    "    y2_1 = ((phi1a - phi1b) * y0 / T0) - y1 / c10a * (\n",
    "    (-alpha * (phi0b - phi0a) / 2) - c10a * (phi0a - phi0b) /  T0 - (1 /2) )\n",
    "\n",
    "    y2_2 = (1 / (8 * T0)) * (1 / (c10a)**2 - 1 / (c10b)**2)\n",
    "\n",
    "    y2_3 = ((phi1a - phi1b) / (2 * T0)) * (alpha / c10a + (1 - beta) / c10b)\n",
    "\n",
    "    y2_4 = (1 / (2 * T0)) * (T0 * y1 + T1 * y0)**2\n",
    "\n",
    "    y2_5 = (phi0a - phi0b) * y0 / (T0 * c10a) * (\n",
    "        -alpha * (phi0b - phi0a) / 2 - 1 / 2 )\n",
    "\n",
    "    y2_6 = J11 / (-T0**2) * (1 / c10b - 1 / c10a)\n",
    "\n",
    "    y2_7 = J10 * (phi0a - phi0b) / (-T0**3) * (1 / c10b - 1 / c10a)\n",
    "\n",
    "    y2 = y2_1 + y2_2 + y2_3 + y2_4 + y2_5 + y2_6 + y2_7\n",
    "\n",
    "\n",
    "\n",
    "\n",
    "\n",
    "    # Calculate J12 and J22:\n",
    "    Jcommon_1 = -(phi1a - phi1b) / 2\n",
    "    Jcommon_2 = (c1L - c10a) / (alpha * (np.log(c1L) - np.log(c10a)))\n",
    "    Jcommon_3 = phi2a - alpha * (phi0b - phi0a) / (8 * c10a**2) \n",
    "    Jcommon_4 = -(phi0a - phi0b) / ((np.log(c1L) - np.log(c10a)) * 4)\n",
    "    Jcommon_5 = 2 * phi1a - ( 2 * (c1L - c10a) * phi1a / ((np.log(c1L) - np.log(c10a)) * c10a) ) - 1 / (2 * c10a) + (c1L - c10a) / (2 * (np.log(c1L) - np.log(c10a)) * (c10a**2)) - (c11a + c21a) * (phiL - phi0a) * (c1L + c10a) / (2 * (np.log(c1L) - np.log(c10a)) * (c10a**2))\n",
    "    \n",
    "    J_term2 = Jcommon_2 * Jcommon_3\n",
    "    J_term3 = Jcommon_4 * Jcommon_5\n",
    "    \n",
    "    #\n",
    "    J_term11 = 1 + (phiL - phi0a) / (np.log(c1L) - np.log(c10a)) - (phiL - phi0a) * (c1L - c10a) / ((np.log(c1L) - np.log(c10a))**2 * c10a)\n",
    "    J_term12 = -1+ (phiL - phi0a) / (np.log(c1L) - np.log(c10a)) - (phiL - phi0a) * (c1L - c10a) / ((np.log(c1L) - np.log(c10a))**2 * c10a)\n",
    "    \n",
    "    \n",
    "    J12_term1 = Jcommon_1 * J_term11\n",
    "\n",
    "    J12 = J12_term1 - J_term2 - J_term3\n",
    "\n",
    "    # Calculate J22:\n",
    "    J22_term1 = - Jcommon_1 * J_term12\n",
    "\n",
    "    J22 = J22_term1 + J_term2 + J_term3 \n",
    "\n",
    "\n",
    "    return c12a, c22a, c12b, c22b, phi2a, phi2b, y2, J12, J22\n",
    "\n",
    "\n",
    "#result = second_order_terms(V, alpha, beta, L, R, z1, z2)\n",
    "#print(result)\n"
   ]
  },
  {
   "cell_type": "code",
   "execution_count": 6,
   "id": "7d7da7f2",
   "metadata": {
    "execution": {
     "iopub.execute_input": "2024-03-11T06:53:06.094508Z",
     "iopub.status.busy": "2024-03-11T06:53:06.094006Z",
     "iopub.status.idle": "2024-03-11T06:53:06.102267Z",
     "shell.execute_reply": "2024-03-11T06:53:06.100981Z"
    },
    "papermill": {
     "duration": 0.018439,
     "end_time": "2024-03-11T06:53:06.104860",
     "exception": false,
     "start_time": "2024-03-11T06:53:06.086421",
     "status": "completed"
    },
    "tags": []
   },
   "outputs": [],
   "source": [
    "# Identify consecutive indices and keep one element per consecutive sequence with minimum absolute value\n",
    "def keep_min_abs_per_consecutive(indices, values):\n",
    "    result_indices = []\n",
    "    i = 0\n",
    "    while i < len(indices):\n",
    "        j = i + 1\n",
    "        while j < len(indices) and indices[j] == indices[j - 1] + 1:\n",
    "            j += 1\n",
    "\n",
    "        # Find the index with minimum absolute value in the consecutive sequence\n",
    "        min_abs_index = min(range(i, j), key=lambda k: abs(values[indices[k]]))\n",
    "        result_indices.append(indices[min_abs_index])\n",
    "        i = j\n",
    "\n",
    "    return np.array(result_indices)"
   ]
  },
  {
   "cell_type": "code",
   "execution_count": 7,
   "id": "421f9d07",
   "metadata": {
    "execution": {
     "iopub.execute_input": "2024-03-11T06:53:06.119984Z",
     "iopub.status.busy": "2024-03-11T06:53:06.119581Z",
     "iopub.status.idle": "2024-03-11T06:53:06.128539Z",
     "shell.execute_reply": "2024-03-11T06:53:06.127507Z"
    },
    "papermill": {
     "duration": 0.019107,
     "end_time": "2024-03-11T06:53:06.130915",
     "exception": false,
     "start_time": "2024-03-11T06:53:06.111808",
     "status": "completed"
    },
    "tags": []
   },
   "outputs": [],
   "source": [
    "def remove_close_roots(V_zero, V_range,  distance_threshold=0.3):\n",
    "    sorted_indices = np.searchsorted(V_range, V_zero)\n",
    "    #sorted_roots = V_zero[sorted_indices]\n",
    "\n",
    "    result_indices = [sorted_indices[0]]\n",
    "    \n",
    "    for i in range(1, len(sorted_indices)):\n",
    "        distance = V_range[sorted_indices[i]] - V_range[result_indices[-1]]\n",
    "\n",
    "        if distance >= distance_threshold:\n",
    "            result_indices.append(sorted_indices[i])\n",
    "            #print('1=', V_range[sorted_roots[i]])\n",
    "\n",
    "        elif distance < distance_threshold and abs(V_range[sorted_indices[i]]) < abs(V_range[result_indices[-1]]):\n",
    "            result_indices.pop()  # Remove the last added index\n",
    "            result_indices.append(sorted_indices[i])\n",
    "            #print('2=', x_values[sorted_roots[i]])\n",
    "\n",
    "        #else:\n",
    "         #       result_indices.append(sorted_indices[-1])\n",
    "                #print('3=', x_values[sorted_roots[-1]])\n",
    "\n",
    "    return V_range[np.array(result_indices)]"
   ]
  },
  {
   "cell_type": "code",
   "execution_count": 8,
   "id": "63784f7b",
   "metadata": {
    "execution": {
     "iopub.execute_input": "2024-03-11T06:53:06.145520Z",
     "iopub.status.busy": "2024-03-11T06:53:06.145087Z",
     "iopub.status.idle": "2024-03-11T06:53:06.160467Z",
     "shell.execute_reply": "2024-03-11T06:53:06.159271Z"
    },
    "papermill": {
     "duration": 0.026516,
     "end_time": "2024-03-11T06:53:06.163716",
     "exception": false,
     "start_time": "2024-03-11T06:53:06.137200",
     "status": "completed"
    },
    "tags": []
   },
   "outputs": [],
   "source": [
    "def remove_same_sign_points(V_zero, V_range, J1_prd2, J2_prd2):\n",
    "    new_V_zero = []\n",
    "\n",
    "    LHS_index = np.abs(V_range - (V_zero[0] - 10) ).argmin()\n",
    "    mid_0_1 = (V_zero[0] + V_zero[1]) / 2\n",
    "    mid_0_1_index = np.abs(V_range - mid_0_1).argmin()\n",
    "    sign_J1_prd2_LHS = np.sign(J1_prd2[LHS_index])\n",
    "    sign_J2_prd2_LHS = np.sign(J2_prd2[LHS_index])\n",
    "    sign_J1_prd2_0_1 = np.sign(J1_prd2[mid_0_1_index])\n",
    "    sign_J2_prd2_0_1 = np.sign(J2_prd2[mid_0_1_index])\n",
    "\n",
    "    if sign_J1_prd2_LHS != sign_J1_prd2_0_1 or sign_J2_prd2_LHS != sign_J2_prd2_0_1:\n",
    "        new_V_zero.append(V_zero[0])\n",
    "\n",
    "\n",
    "    for i in range(1, len(V_zero) - 1):\n",
    "        midpoint_prev = (V_zero[i - 1] + V_zero[i]) / 2\n",
    "        midpoint_next = (V_zero[i + 1] + V_zero[i]) / 2\n",
    "        mid_index_prev = np.abs(V_range - midpoint_prev).argmin()\n",
    "        mid_index_next = np.abs(V_range - midpoint_next).argmin()\n",
    "\n",
    "        # Append the signs for the current midpoint\n",
    "        sign_J1_prd2_prev = np.sign(J1_prd2[mid_index_prev])\n",
    "        sign_J2_prd2_prev = np.sign(J2_prd2[mid_index_prev])\n",
    "        sign_J1_prd2_next = np.sign(J1_prd2[mid_index_next])\n",
    "        sign_J2_prd2_next = np.sign(J2_prd2[mid_index_next])\n",
    "\n",
    "        threshold_value = 5 * 1e-1\n",
    "\n",
    "        if (\n",
    "            sign_J1_prd2_prev != sign_J1_prd2_next or\n",
    "            sign_J2_prd2_prev != sign_J2_prd2_next\n",
    "            ) and (\n",
    "            abs(J1_prd2[mid_index_prev]) > threshold_value and\n",
    "            abs(J2_prd2[mid_index_prev]) > threshold_value and\n",
    "            abs(J1_prd2[mid_index_next]) > threshold_value and\n",
    "            abs(J2_prd2[mid_index_next]) > threshold_value\n",
    "            ):\n",
    "            new_V_zero.append(V_zero[i])\n",
    "\n",
    "\n",
    "\n",
    "    RHS_index = np.abs(V_range - (V_zero[-1] + 10) ).argmin()\n",
    "    sign_J1_prd2_RHS = np.sign(J1_prd2[RHS_index])\n",
    "    sign_J2_prd2_RHS = np.sign(J2_prd2[RHS_index])\n",
    "    if sign_J1_prd2_next != sign_J1_prd2_RHS or sign_J2_prd2_next != sign_J2_prd2_RHS:\n",
    "        new_V_zero.append(V_zero[-1])\n",
    "\n",
    "\n",
    "    return np.array(new_V_zero)\n"
   ]
  },
  {
   "cell_type": "code",
   "execution_count": 9,
   "id": "9c09f5d9",
   "metadata": {
    "execution": {
     "iopub.execute_input": "2024-03-11T06:53:06.179190Z",
     "iopub.status.busy": "2024-03-11T06:53:06.178747Z",
     "iopub.status.idle": "2024-03-11T06:59:37.122510Z",
     "shell.execute_reply": "2024-03-11T06:59:37.121544Z"
    },
    "papermill": {
     "duration": 390.955682,
     "end_time": "2024-03-11T06:59:37.125987",
     "exception": false,
     "start_time": "2024-03-11T06:53:06.170305",
     "status": "completed"
    },
    "tags": []
   },
   "outputs": [
    {
     "name": "stderr",
     "output_type": "stream",
     "text": [
      "Processing time:   0%|          | 0/40 [00:00<?, ?it/s]"
     ]
    },
    {
     "name": "stdout",
     "output_type": "stream",
     "text": [
      "L =  0.05\n"
     ]
    },
    {
     "name": "stderr",
     "output_type": "stream",
     "text": [
      "Processing time:   2%|▎         | 1/40 [00:12<08:08, 12.52s/it]"
     ]
    },
    {
     "name": "stdout",
     "output_type": "stream",
     "text": [
      "L =  0.09871794871794873\n"
     ]
    },
    {
     "name": "stderr",
     "output_type": "stream",
     "text": [
      "Processing time:   5%|▌         | 2/40 [00:23<07:20, 11.59s/it]"
     ]
    },
    {
     "name": "stdout",
     "output_type": "stream",
     "text": [
      "L =  0.14743589743589744\n"
     ]
    },
    {
     "name": "stderr",
     "output_type": "stream",
     "text": [
      "Processing time:   8%|▊         | 3/40 [00:34<06:51, 11.11s/it]"
     ]
    },
    {
     "name": "stdout",
     "output_type": "stream",
     "text": [
      "L =  0.19615384615384618\n"
     ]
    },
    {
     "name": "stderr",
     "output_type": "stream",
     "text": [
      "Processing time:  10%|█         | 4/40 [00:44<06:29, 10.81s/it]"
     ]
    },
    {
     "name": "stdout",
     "output_type": "stream",
     "text": [
      "L =  0.2448717948717949\n"
     ]
    },
    {
     "name": "stderr",
     "output_type": "stream",
     "text": [
      "Processing time:  12%|█▎        | 5/40 [00:54<06:10, 10.59s/it]"
     ]
    },
    {
     "name": "stdout",
     "output_type": "stream",
     "text": [
      "L =  0.2935897435897436\n"
     ]
    },
    {
     "name": "stderr",
     "output_type": "stream",
     "text": [
      "Processing time:  15%|█▌        | 6/40 [01:04<05:55, 10.46s/it]"
     ]
    },
    {
     "name": "stdout",
     "output_type": "stream",
     "text": [
      "L =  0.3423076923076923\n"
     ]
    },
    {
     "name": "stderr",
     "output_type": "stream",
     "text": [
      "Processing time:  18%|█▊        | 7/40 [01:14<05:41, 10.34s/it]"
     ]
    },
    {
     "name": "stdout",
     "output_type": "stream",
     "text": [
      "L =  0.391025641025641\n"
     ]
    },
    {
     "name": "stderr",
     "output_type": "stream",
     "text": [
      "Processing time:  20%|██        | 8/40 [01:25<05:29, 10.28s/it]"
     ]
    },
    {
     "name": "stdout",
     "output_type": "stream",
     "text": [
      "L =  0.43974358974358974\n"
     ]
    },
    {
     "name": "stderr",
     "output_type": "stream",
     "text": [
      "Processing time:  22%|██▎       | 9/40 [01:35<05:17, 10.25s/it]"
     ]
    },
    {
     "name": "stdout",
     "output_type": "stream",
     "text": [
      "L =  0.48846153846153845\n"
     ]
    },
    {
     "name": "stderr",
     "output_type": "stream",
     "text": [
      "Processing time:  25%|██▌       | 10/40 [01:44<05:02, 10.10s/it]"
     ]
    },
    {
     "name": "stdout",
     "output_type": "stream",
     "text": [
      "L =  0.5371794871794872\n"
     ]
    },
    {
     "name": "stderr",
     "output_type": "stream",
     "text": [
      "Processing time:  28%|██▊       | 11/40 [01:54<04:49,  9.98s/it]"
     ]
    },
    {
     "name": "stdout",
     "output_type": "stream",
     "text": [
      "L =  0.5858974358974359\n"
     ]
    },
    {
     "name": "stderr",
     "output_type": "stream",
     "text": [
      "Processing time:  30%|███       | 12/40 [02:04<04:37,  9.90s/it]"
     ]
    },
    {
     "name": "stdout",
     "output_type": "stream",
     "text": [
      "L =  0.6346153846153847\n"
     ]
    },
    {
     "name": "stderr",
     "output_type": "stream",
     "text": [
      "Processing time:  32%|███▎      | 13/40 [02:14<04:25,  9.83s/it]"
     ]
    },
    {
     "name": "stdout",
     "output_type": "stream",
     "text": [
      "L =  0.6833333333333333\n"
     ]
    },
    {
     "name": "stderr",
     "output_type": "stream",
     "text": [
      "Processing time:  35%|███▌      | 14/40 [02:23<04:13,  9.74s/it]"
     ]
    },
    {
     "name": "stdout",
     "output_type": "stream",
     "text": [
      "L =  0.7320512820512821\n"
     ]
    },
    {
     "name": "stderr",
     "output_type": "stream",
     "text": [
      "Processing time:  38%|███▊      | 15/40 [02:33<04:01,  9.66s/it]"
     ]
    },
    {
     "name": "stdout",
     "output_type": "stream",
     "text": [
      "L =  0.7807692307692308\n"
     ]
    },
    {
     "name": "stderr",
     "output_type": "stream",
     "text": [
      "Processing time:  40%|████      | 16/40 [02:42<03:50,  9.59s/it]"
     ]
    },
    {
     "name": "stdout",
     "output_type": "stream",
     "text": [
      "L =  0.8294871794871795\n"
     ]
    },
    {
     "name": "stderr",
     "output_type": "stream",
     "text": [
      "Processing time:  42%|████▎     | 17/40 [02:51<03:38,  9.50s/it]"
     ]
    },
    {
     "name": "stdout",
     "output_type": "stream",
     "text": [
      "L =  0.8782051282051283\n"
     ]
    },
    {
     "name": "stderr",
     "output_type": "stream",
     "text": [
      "Processing time:  45%|████▌     | 18/40 [03:01<03:28,  9.46s/it]"
     ]
    },
    {
     "name": "stdout",
     "output_type": "stream",
     "text": [
      "L =  0.926923076923077\n"
     ]
    },
    {
     "name": "stderr",
     "output_type": "stream",
     "text": [
      "Processing time:  48%|████▊     | 19/40 [03:10<03:17,  9.41s/it]"
     ]
    },
    {
     "name": "stdout",
     "output_type": "stream",
     "text": [
      "L =  0.9756410256410257\n"
     ]
    },
    {
     "name": "stderr",
     "output_type": "stream",
     "text": [
      "Processing time:  50%|█████     | 20/40 [03:19<03:06,  9.33s/it]"
     ]
    },
    {
     "name": "stdout",
     "output_type": "stream",
     "text": [
      "L =  1.0243589743589743\n"
     ]
    },
    {
     "name": "stderr",
     "output_type": "stream",
     "text": [
      "Processing time:  52%|█████▎    | 21/40 [03:28<02:56,  9.27s/it]"
     ]
    },
    {
     "name": "stdout",
     "output_type": "stream",
     "text": [
      "L =  1.073076923076923\n"
     ]
    },
    {
     "name": "stderr",
     "output_type": "stream",
     "text": [
      "Processing time:  55%|█████▌    | 22/40 [03:37<02:46,  9.26s/it]"
     ]
    },
    {
     "name": "stdout",
     "output_type": "stream",
     "text": [
      "L =  1.1217948717948718\n"
     ]
    },
    {
     "name": "stderr",
     "output_type": "stream",
     "text": [
      "Processing time:  57%|█████▊    | 23/40 [03:47<02:37,  9.25s/it]"
     ]
    },
    {
     "name": "stdout",
     "output_type": "stream",
     "text": [
      "L =  1.1705128205128206\n"
     ]
    },
    {
     "name": "stderr",
     "output_type": "stream",
     "text": [
      "Processing time:  60%|██████    | 24/40 [03:56<02:27,  9.24s/it]"
     ]
    },
    {
     "name": "stdout",
     "output_type": "stream",
     "text": [
      "L =  1.2192307692307693\n"
     ]
    },
    {
     "name": "stderr",
     "output_type": "stream",
     "text": [
      "Processing time:  62%|██████▎   | 25/40 [04:05<02:19,  9.29s/it]"
     ]
    },
    {
     "name": "stdout",
     "output_type": "stream",
     "text": [
      "L =  1.267948717948718\n"
     ]
    },
    {
     "name": "stderr",
     "output_type": "stream",
     "text": [
      "Processing time:  65%|██████▌   | 26/40 [04:15<02:10,  9.34s/it]"
     ]
    },
    {
     "name": "stdout",
     "output_type": "stream",
     "text": [
      "L =  1.3166666666666667\n"
     ]
    },
    {
     "name": "stderr",
     "output_type": "stream",
     "text": [
      "Processing time:  68%|██████▊   | 27/40 [04:24<02:01,  9.38s/it]"
     ]
    },
    {
     "name": "stdout",
     "output_type": "stream",
     "text": [
      "L =  1.3653846153846154\n"
     ]
    },
    {
     "name": "stderr",
     "output_type": "stream",
     "text": [
      "Processing time:  70%|███████   | 28/40 [04:34<01:53,  9.42s/it]"
     ]
    },
    {
     "name": "stdout",
     "output_type": "stream",
     "text": [
      "L =  1.4141025641025642\n"
     ]
    },
    {
     "name": "stderr",
     "output_type": "stream",
     "text": [
      "Processing time:  72%|███████▎  | 29/40 [04:43<01:43,  9.45s/it]"
     ]
    },
    {
     "name": "stdout",
     "output_type": "stream",
     "text": [
      "L =  1.462820512820513\n"
     ]
    },
    {
     "name": "stderr",
     "output_type": "stream",
     "text": [
      "Processing time:  75%|███████▌  | 30/40 [04:53<01:34,  9.49s/it]"
     ]
    },
    {
     "name": "stdout",
     "output_type": "stream",
     "text": [
      "L =  1.5115384615384615\n"
     ]
    },
    {
     "name": "stderr",
     "output_type": "stream",
     "text": [
      "Processing time:  78%|███████▊  | 31/40 [05:02<01:25,  9.53s/it]"
     ]
    },
    {
     "name": "stdout",
     "output_type": "stream",
     "text": [
      "L =  1.5602564102564103\n"
     ]
    },
    {
     "name": "stderr",
     "output_type": "stream",
     "text": [
      "Processing time:  80%|████████  | 32/40 [05:12<01:16,  9.59s/it]"
     ]
    },
    {
     "name": "stdout",
     "output_type": "stream",
     "text": [
      "L =  1.608974358974359\n"
     ]
    },
    {
     "name": "stderr",
     "output_type": "stream",
     "text": [
      "Processing time:  82%|████████▎ | 33/40 [05:22<01:07,  9.62s/it]"
     ]
    },
    {
     "name": "stdout",
     "output_type": "stream",
     "text": [
      "L =  1.6576923076923078\n"
     ]
    },
    {
     "name": "stderr",
     "output_type": "stream",
     "text": [
      "Processing time:  85%|████████▌ | 34/40 [05:32<00:57,  9.65s/it]"
     ]
    },
    {
     "name": "stdout",
     "output_type": "stream",
     "text": [
      "L =  1.7064102564102566\n"
     ]
    },
    {
     "name": "stderr",
     "output_type": "stream",
     "text": [
      "Processing time:  88%|████████▊ | 35/40 [05:41<00:48,  9.68s/it]"
     ]
    },
    {
     "name": "stdout",
     "output_type": "stream",
     "text": [
      "L =  1.755128205128205\n"
     ]
    },
    {
     "name": "stderr",
     "output_type": "stream",
     "text": [
      "Processing time:  90%|█████████ | 36/40 [05:51<00:38,  9.69s/it]"
     ]
    },
    {
     "name": "stdout",
     "output_type": "stream",
     "text": [
      "L =  1.8038461538461539\n"
     ]
    },
    {
     "name": "stderr",
     "output_type": "stream",
     "text": [
      "Processing time:  92%|█████████▎| 37/40 [06:01<00:29,  9.74s/it]"
     ]
    },
    {
     "name": "stdout",
     "output_type": "stream",
     "text": [
      "L =  1.8525641025641026\n"
     ]
    },
    {
     "name": "stderr",
     "output_type": "stream",
     "text": [
      "Processing time:  95%|█████████▌| 38/40 [06:11<00:19,  9.74s/it]"
     ]
    },
    {
     "name": "stdout",
     "output_type": "stream",
     "text": [
      "L =  1.9012820512820514\n"
     ]
    },
    {
     "name": "stderr",
     "output_type": "stream",
     "text": [
      "Processing time:  98%|█████████▊| 39/40 [06:21<00:09,  9.80s/it]"
     ]
    },
    {
     "name": "stdout",
     "output_type": "stream",
     "text": [
      "L =  1.95\n"
     ]
    },
    {
     "name": "stderr",
     "output_type": "stream",
     "text": [
      "Processing time: 100%|██████████| 40/40 [06:30<00:00,  9.77s/it]"
     ]
    },
    {
     "name": "stdout",
     "output_type": "stream",
     "text": [
      "Minimum V_zero: -2.995730299573026\n",
      "Maximum V_zero: 2.995730299573026\n"
     ]
    },
    {
     "name": "stderr",
     "output_type": "stream",
     "text": [
      "\n"
     ]
    }
   ],
   "source": [
    "# Define the ranges for L and R\n",
    "L_values = np.linspace(0.05, 1.95, 40)\n",
    "#L_values = [0.05,  0.95, 1.05,  2]\n",
    "R = 1\n",
    "Q = 0.01\n",
    "\n",
    "# Initialize matrices for signs_J1 and signs_J2\n",
    "lenL = len(L_values)\n",
    "num_subintervals = 20\n",
    "\n",
    "signs_J1 = np.zeros((lenL, num_subintervals))\n",
    "signs_J2 = np.zeros((lenL, num_subintervals))\n",
    "V_critic = np.zeros((lenL, num_subintervals))\n",
    "\n",
    "# Initialize min_V and max_V for plots\n",
    "min_V = 60  # Initialize to a positive large value\n",
    "max_V = -60  # Initialize to a engative large value\n",
    "\n",
    "for i, L in tqdm(enumerate(L_values), total=len(L_values), desc='Processing time'):\n",
    "    print('L = ', L)\n",
    "    V_range = np.linspace(-100, 100, int(1e7))  # Adjust the number of points as needed\n",
    "    alpha, beta, z1, z2, V1_range, V2_range, V3_range = calculate_voltage_ranges(L, R)\n",
    "\n",
    "\n",
    "    c10a, c20a, c10b, c20b, phi0a, phi0b, y0, J10, J20 = zeroth_order_terms(V_range, alpha, beta, L, R, z1, z2)\n",
    "    c11a, c21a, c11b, c21b, phi1a, phi1b, y1, J11, J21 = first_order_terms(V_range, alpha, beta, L, R, z1, z2)\n",
    "    c12a, c22a, c12b, c22b, phi2a, phi2b, y2, J12, J22 = second_order_terms(V_range, alpha, beta, L, R, z1, z2)\n",
    "    J1_prd2 =  (J10 + Q * J11) * J12\n",
    "    J2_prd2 =  (J20 + Q * J21) * J22\n",
    "\n",
    "    # Find indices of values very close to zero in J1_prd2 and J2_prd2\n",
    "    epsilon =  1  # Adjust this value as needed\n",
    "    zero_indices1 = np.where(np.isclose(J1_prd2, 0., atol=epsilon))[0]\n",
    "    zero_indices2 = np.where(np.isclose(J2_prd2, 0., atol=epsilon))[0]\n",
    "\n",
    "\n",
    "    # Keep one element per consecutive sequence in zero_indices1 and zero_indices2\n",
    "    zero_indices1 = keep_min_abs_per_consecutive(zero_indices1, J1_prd2)\n",
    "    zero_indices2 = keep_min_abs_per_consecutive(zero_indices2, J2_prd2)\n",
    "\n",
    "    # Get corresponding values of V_range for zero values in J1_prd2 and J2_prd2\n",
    "    V_zero_values1 = V_range[zero_indices1]\n",
    "    V_zero_values2 = V_range[zero_indices2]\n",
    "    #print('V1=', V_zero_values1)\n",
    "    #print('V2=', V_zero_values2)\n",
    "\n",
    "    # Combine the zero values\n",
    "    V_combined = np.concatenate([V_zero_values1, V_zero_values2])\n",
    "\n",
    "    # Rearrange to have V_zero\n",
    "    V_zero = np.sort(V_combined)\n",
    "\n",
    "    # Remove close values in V_combined\n",
    "    #V_zero = remove_close_roots(V_zero, V_range)\n",
    "    #print('V_zero_new:', V_zero)\n",
    "\n",
    "    # Call the function to get the updated V_zero\n",
    "    if len(V_zero) > 2 and len(V_zero_values1) > 1 and len(V_zero_values2) > 1:\n",
    "        V_zero = remove_same_sign_points(V_zero, V_range, J1_prd2, J2_prd2)\n",
    "        # Convert V_zero to np.array form (if it's not already)\n",
    "        V_zero = np.array(V_zero)\n",
    "        print('V_zero=', V_zero)\n",
    "    #print('V_zero=', V_zero)\n",
    "    # Update the length of V_zero\n",
    "    lng = len(V_zero)\n",
    "\n",
    "    # Create new subintervals using np.linspace\n",
    "    if lng > 0:\n",
    "        min_V = min(min_V, np.min(V_zero))\n",
    "        max_V = max(max_V, np.max(V_zero))\n",
    "        subintervals = [\n",
    "                  np.linspace(V_zero[0]-80, V_zero[0], num_subintervals)\n",
    "                ] + [\n",
    "                  np.linspace(V_zero[i], V_zero[i + 1], num_subintervals) for i in range(lng - 1)\n",
    "                ] + [\n",
    "                  np.linspace(V_zero[-1], V_zero[-1]+80, num_subintervals)\n",
    "                ]\n",
    "    else:\n",
    "        subintervals = [V_range[0], V_range[-1]]\n",
    "\n",
    "\n",
    "    signs_J1_temp = np.zeros(num_subintervals)\n",
    "    signs_J2_temp = np.zeros(num_subintervals)\n",
    "\n",
    "    for k, interval in enumerate(subintervals):\n",
    "        start_point = interval[0]\n",
    "        end_point = interval[-1]\n",
    "        interval_range = np.linspace(start_point, end_point, num_subintervals)\n",
    "        c10a, c20a, c10b, c20b, phi0a, phi0b, y0, J10, J20 = zeroth_order_terms(interval_range, alpha, beta, L, R, z1, z2)\n",
    "        c11a, c21a, c11b, c21b, phi1a, phi1b, y1, J11, J21 = first_order_terms(interval_range, alpha, beta, L, R, z1, z2)\n",
    "        c12a, c22a, c12b, c22b, phi2a, phi2b, y2, J12, J22 = second_order_terms(interval_range, alpha, beta, L, R, z1, z2)\n",
    "        J1_prd22 =  (J10 + Q * J11) * J12\n",
    "        J2_prd22 =  (J20 + Q * J21) * J22\n",
    "\n",
    "        midpoint = (start_point + end_point) / 2\n",
    "        # Find the index in interval_range closest to the midpoint\n",
    "        mid_index = np.abs(interval_range - midpoint).argmin()\n",
    "\n",
    "        #mid_value = interval_range[midpoint_index]\n",
    "\n",
    "        # Append the signs for the current L\n",
    "        sign_J1_prd22 = np.sign(J1_prd22[mid_index])\n",
    "        sign_J2_prd22 = np.sign(J2_prd22[mid_index])\n",
    "\n",
    "\n",
    "        # Append the signs for the current L to the temporary arrays\n",
    "        signs_J1_temp[k] = 1 if sign_J1_prd22 > 0 else -1\n",
    "        signs_J2_temp[k] = 1 if sign_J2_prd22 > 0 else -1\n",
    "\n",
    "    # Assign the temporary arrays to the i-th row of signs_J1 and signs_J2\n",
    "    signs_J1[i, :] = signs_J1_temp\n",
    "    signs_J2[i, :] = signs_J2_temp\n",
    "    V_critic[i, :lng] = V_zero\n",
    "\n",
    "print(\"Minimum V_zero:\", min_V)\n",
    "print(\"Maximum V_zero:\", max_V)"
   ]
  },
  {
   "cell_type": "code",
   "execution_count": 10,
   "id": "98db1cbc",
   "metadata": {
    "execution": {
     "iopub.execute_input": "2024-03-11T06:59:37.158744Z",
     "iopub.status.busy": "2024-03-11T06:59:37.158299Z",
     "iopub.status.idle": "2024-03-11T06:59:39.395899Z",
     "shell.execute_reply": "2024-03-11T06:59:39.394405Z"
    },
    "papermill": {
     "duration": 2.258196,
     "end_time": "2024-03-11T06:59:39.399461",
     "exception": false,
     "start_time": "2024-03-11T06:59:37.141265",
     "status": "completed"
    },
    "tags": []
   },
   "outputs": [],
   "source": [
    "# Create a matrix to store the heatmap values\n",
    "Jsign_func1 = np.zeros((lenL, len(V_range)))\n",
    "for i in range(len(V_critic)):\n",
    "    left_index = np.searchsorted(V_range,V_critic[i, 0])\n",
    "    #print('left=',V_range[left_index])\n",
    "    #print('left=',left_index)\n",
    "    Jsign_func1[i, :left_index] = signs_J1[i, 0]\n",
    "\n",
    "    for j in range(len(V_critic[i]) - 1):\n",
    "        if (V_critic[i, j] == 0 and V_critic[i, j+1] == 0) :\n",
    "            break\n",
    "\n",
    "        elif (V_critic[i, j] != 0 and V_critic[i, j+1] == 0) :\n",
    "            right_index = np.searchsorted(V_range,V_critic[i, j])\n",
    "            #print('right=',V_range[right_index])\n",
    "            Jsign_func1[i, right_index:] = signs_J1[i, j+1]\n",
    "\n",
    "        # Find the indices corresponding to the current segment\n",
    "        else:\n",
    "            start_index = np.searchsorted(V_range, V_critic[i, j])\n",
    "            end_index = np.searchsorted(V_range, V_critic[i, j + 1])\n",
    "            # Assign values from S to the corresponding segment in H\n",
    "            Jsign_func1[i, start_index:end_index] = signs_J1[i, j + 1]\n"
   ]
  },
  {
   "cell_type": "code",
   "execution_count": 11,
   "id": "2ba087c2",
   "metadata": {
    "execution": {
     "iopub.execute_input": "2024-03-11T06:59:39.431675Z",
     "iopub.status.busy": "2024-03-11T06:59:39.431269Z",
     "iopub.status.idle": "2024-03-11T06:59:41.798145Z",
     "shell.execute_reply": "2024-03-11T06:59:41.796806Z"
    },
    "papermill": {
     "duration": 2.386512,
     "end_time": "2024-03-11T06:59:41.801089",
     "exception": false,
     "start_time": "2024-03-11T06:59:39.414577",
     "status": "completed"
    },
    "tags": []
   },
   "outputs": [],
   "source": [
    "\n",
    "# Create a matrix to store the heatmap values\n",
    "Jsign_func2 = np.zeros((lenL, len(V_range)))\n",
    "for i in range(len(V_critic)):\n",
    "    left_index = np.searchsorted(V_range,V_critic[i, 0])\n",
    "    Jsign_func2[i, :left_index] = signs_J2[i, 0]\n",
    "    for j in range(len(V_critic[i]) - 1):\n",
    "        if (V_critic[i, j] == 0 and V_critic[i, j+1] == 0) :\n",
    "            break\n",
    "\n",
    "        elif (V_critic[i, j] != 0 and V_critic[i, j+1] == 0) :\n",
    "            right_index = np.searchsorted(V_range,V_critic[i, j])\n",
    "            Jsign_func2[i, right_index:] = signs_J2[i, j+1]\n",
    "\n",
    "        # Find the indices corresponding to the current segment\n",
    "        else:\n",
    "            start_index = np.searchsorted(V_range, V_critic[i, j])\n",
    "            end_index = np.searchsorted(V_range, V_critic[i, j + 1])\n",
    "            # Assign values from S to the corresponding segment in H\n",
    "            Jsign_func2[i, start_index:end_index] = signs_J2[i, j + 1]"
   ]
  },
  {
   "cell_type": "code",
   "execution_count": 12,
   "id": "095299e7",
   "metadata": {
    "execution": {
     "iopub.execute_input": "2024-03-11T06:59:41.832255Z",
     "iopub.status.busy": "2024-03-11T06:59:41.831829Z",
     "iopub.status.idle": "2024-03-11T07:00:11.991357Z",
     "shell.execute_reply": "2024-03-11T07:00:11.990141Z"
    },
    "papermill": {
     "duration": 30.194865,
     "end_time": "2024-03-11T07:00:12.010691",
     "exception": false,
     "start_time": "2024-03-11T06:59:41.815826",
     "status": "completed"
    },
    "tags": []
   },
   "outputs": [
    {
     "name": "stderr",
     "output_type": "stream",
     "text": [
      "/opt/conda/lib/python3.10/site-packages/matplotlib/image.py:175: UserWarning: Data with more than 2**23 columns cannot be accurately displayed. Downsampling to less than 2**23 columns before displaying. To remove this warning, manually downsample your data.\n",
      "  warnings.warn(msg.format(n='2**23 columns'))\n"
     ]
    },
    {
     "data": {
      "image/png": "[encoded data removed]",
      "text/plain": [
       "<Figure size 1200x600 with 4 Axes>"
      ]
     },
     "metadata": {},
     "output_type": "display_data"
    }
   ],
   "source": [
    "fig, axs = plt.subplots(1, 2, figsize=(12, 6))\n",
    "\n",
    "# Plot the heatmap for signs_J1\n",
    "img1 = axs[0].imshow(Jsign_func1, cmap='coolwarm', extent=[V_range[0], V_range[-1], L_values[-1], L_values[0]], aspect='auto', vmin=-1, vmax=1)\n",
    "axs[0].set_xlabel('Voltage (V)')\n",
    "axs[0].set_ylabel('$L~$ values')\n",
    "axs[0].set_title(r'Heatmap for signs of $(J_{10} + Q \\cdot J_{11}) \\cdot J_{12}$')\n",
    "axs[0].set_xlim(min_V, max_V)\n",
    "#axs[0].grid(True)\n",
    "axs[0].set_ylim(L_values[0], L_values[-1])  # Reverse the y-axis\n",
    "\n",
    "# Plot the heatmap for signs_J2\n",
    "img2 = axs[1].imshow(Jsign_func2, cmap='coolwarm', extent=[V_range[0], V_range[-1], L_values[-1], L_values[0]], aspect='auto', vmin=-1, vmax=1)\n",
    "axs[1].set_xlabel('Voltage (V)')\n",
    "axs[1].set_ylabel('$L~$ values')\n",
    "axs[1].set_title(r'Heatmap for signs of $(J_{20} + Q \\cdot J_{21}) \\cdot J_{22}$')\n",
    "axs[1].set_xlim(min_V, max_V)\n",
    "#axs[1].grid(True)\n",
    "axs[1].set_ylim(L_values[0], L_values[-1])  # Reverse the y-axis\n",
    "\n",
    "# Add legends\n",
    "fig.colorbar(img1, ax=axs[0])\n",
    "fig.colorbar(img2, ax=axs[1])\n",
    "\n",
    "# Adjust layout for better spacing\n",
    "plt.tight_layout()\n",
    "plt.show()"
   ]
  },
  {
   "cell_type": "code",
   "execution_count": 13,
   "id": "4f3a2dc3",
   "metadata": {
    "execution": {
     "iopub.execute_input": "2024-03-11T07:00:12.044204Z",
     "iopub.status.busy": "2024-03-11T07:00:12.042788Z",
     "iopub.status.idle": "2024-03-11T07:00:16.909656Z",
     "shell.execute_reply": "2024-03-11T07:00:16.908610Z"
    },
    "papermill": {
     "duration": 4.886859,
     "end_time": "2024-03-11T07:00:16.912374",
     "exception": false,
     "start_time": "2024-03-11T07:00:12.025515",
     "status": "completed"
    },
    "tags": []
   },
   "outputs": [],
   "source": [
    "# Create a 3D matrix to store both signs_J1 and signs_J2\n",
    "Jsign_matrix = np.zeros((2, lenL, len(V_range)))\n",
    "\n",
    "# Define a list for both signs_J1 and signs_J2\n",
    "sign_matrices = [signs_J1, signs_J2]\n",
    "\n",
    "for idx, signs in enumerate(sign_matrices):\n",
    "    for i in range(len(V_critic)):\n",
    "        left_index = np.searchsorted(V_range, V_critic[i, 0])\n",
    "        Jsign_matrix[idx, i, :left_index] = signs[i, 0]\n",
    "        for j in range(len(V_critic[i]) - 1):\n",
    "            if V_critic[i, j] == 0 and V_critic[i, j + 1] == 0:\n",
    "                break\n",
    "            # Find the indices corresponding to the current segment\n",
    "            elif V_critic[i, j] != 0 and V_critic[i, j + 1] == 0:\n",
    "                right_index = np.searchsorted(V_range, V_critic[i, j])\n",
    "                Jsign_matrix[idx, i, right_index:] = signs[i, j + 1]\n",
    "\n",
    "            else:\n",
    "                start_index = np.searchsorted(V_range, V_critic[i, j])\n",
    "                end_index = np.searchsorted(V_range, V_critic[i, j + 1])\n",
    "\n",
    "                # Assign values from S to the corresponding segment in H\n",
    "                Jsign_matrix[idx, i, start_index:end_index] = signs[i, j + 1]"
   ]
  },
  {
   "cell_type": "code",
   "execution_count": 14,
   "id": "90e52602",
   "metadata": {
    "execution": {
     "iopub.execute_input": "2024-03-11T07:00:16.945245Z",
     "iopub.status.busy": "2024-03-11T07:00:16.944556Z",
     "iopub.status.idle": "2024-03-11T07:00:51.493276Z",
     "shell.execute_reply": "2024-03-11T07:00:51.491486Z"
    },
    "papermill": {
     "duration": 34.584609,
     "end_time": "2024-03-11T07:00:51.511892",
     "exception": false,
     "start_time": "2024-03-11T07:00:16.927283",
     "status": "completed"
    },
    "tags": []
   },
   "outputs": [
    {
     "data": {
      "image/png": "[encoded data removed]",
      "text/plain": [
       "<Figure size 640x480 with 2 Axes>"
      ]
     },
     "metadata": {},
     "output_type": "display_data"
    }
   ],
   "source": [
    "# Plot the heatmap with specified color scale limits for both signs_J1 and signs_J2\n",
    "plt.imshow(Jsign_matrix[0, :, :], cmap='coolwarm', extent=[V_range[0], V_range[-1], L_values[-1], L_values[0]], aspect='auto', vmin=-1, vmax=1)\n",
    "plt.imshow(Jsign_matrix[1, :, :], cmap='coolwarm', extent=[V_range[0], V_range[-1], L_values[-1], L_values[0]], aspect='auto', vmin=-1, vmax=1, alpha=0.5)  # Alpha blends the two heatmaps\n",
    "plt.xlabel('Voltage (V)')\n",
    "plt.ylabel('$L~$ values')\n",
    "plt.title('Overlap of Same Sign Regions for $(J_{10} + Q  \\cdot J_{11}) \\cdot J_{12}$ and $(J_{20} + Q \\cdot J_{21}) \\cdot J_{22}$')\n",
    "plt.colorbar()\n",
    "\n",
    "# Set x-axis limits\n",
    "plt.xlim(min_V, max_V)\n",
    "# Reverse the y-axis\n",
    "plt.ylim(L_values[0], L_values[-1])\n",
    "\n",
    "\n",
    "\n",
    "plt.show()"
   ]
  }
 ],
 "metadata": {
  "kaggle": {
   "accelerator": "none",
   "dataSources": [],
   "dockerImageVersionId": 30664,
   "isGpuEnabled": false,
   "isInternetEnabled": true,
   "language": "python",
   "sourceType": "notebook"
  },
  "kernelspec": {
   "display_name": "Python 3",
   "language": "python",
   "name": "python3"
  },
  "language_info": {
   "codemirror_mode": {
    "name": "ipython",
    "version": 3
   },
   "file_extension": ".py",
   "mimetype": "text/x-python",
   "name": "python",
   "nbconvert_exporter": "python",
   "pygments_lexer": "ipython3",
   "version": "3.10.13"
  },
  "papermill": {
   "default_parameters": {},
   "duration": 470.515328,
   "end_time": "2024-03-11T07:00:52.957698",
   "environment_variables": {},
   "exception": null,
   "input_path": "__notebook__.ipynb",
   "output_path": "__notebook__.ipynb",
   "parameters": {},
   "start_time": "2024-03-11T06:53:02.442370",
   "version": "2.5.0"
  }
 },
 "nbformat": 4,
 "nbformat_minor": 5
}
