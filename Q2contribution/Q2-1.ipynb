{
  "nbformat": 4,
  "nbformat_minor": 0,
  "metadata": {
    "colab": {
      "provenance": [],
      "authorship_tag": "ABX9TyOWUUfzIe5u5qLaeQUYFlOe",
      "include_colab_link": true
    },
    "kernelspec": {
      "name": "python3",
      "display_name": "Python 3"
    },
    "language_info": {
      "name": "python"
    }
  },
  "cells": [
    {
      "cell_type": "markdown",
      "metadata": {
        "id": "view-in-github",
        "colab_type": "text"
      },
      "source": [
        "<a href=\"https://colab.research.google.com/github/Hamid-Mofidi/PNP/blob/main/Q2contribution/Q2-1.ipynb\" target=\"_parent\"><img src=\"https://colab.research.google.com/assets/colab-badge.svg\" alt=\"Open In Colab\"/></a>"
      ]
    },
    {
      "cell_type": "markdown",
      "source": [
        "## PNP: Higher order contributions of permanent charge on ionic flows"
      ],
      "metadata": {
        "id": "oTi_5OFQI5pZ"
      }
    },
    {
      "cell_type": "code",
      "source": [
        "import numpy as np\n",
        "import matplotlib.pyplot as plt"
      ],
      "metadata": {
        "id": "rgodkzUzI4Ik"
      },
      "execution_count": null,
      "outputs": []
    },
    {
      "cell_type": "code",
      "source": [
        "def zeroth_order_terms(V, alpha, beta, L, R, z1, z2):\n",
        "    c10a = (1/z1) * (((1 - alpha) * L + alpha * R), z1)\n",
        "    c20a = (-z1/z2) * c10a\n",
        "    c10b = (1/z1) * (((1 - beta) * L + beta * R), z1)\n",
        "    c20b = (-z1/z2) * c10b\n",
        "    phi0a = ((np.log(((1 - alpha) * L + alpha * R)) - np.log(R)) / (np.log(L) - np.log(R))) * V\n",
        "    phi0b = ((np.log(((1 - beta) * L + beta * R)) - np.log(R)) / (np.log(L) - np.log(R))) * V\n",
        "    y0 = ((1.0 / ((z1 - z2) * (L - R))) * np.log(((1 - alpha) * L + alpha * R) / ((1 - beta) * L + beta * R)))\n",
        "    J10 = ((L - R) / (z1 * y0 * (np.log(L) - np.log(R)))) * (z1 * V + np.log(L) - np.log(R))\n",
        "    J20 = ((L - R) / (z2 * y0 * (np.log(L) - np.log(R)))) * (z2 * V + np.log(L) - np.log(R))\n",
        "    return c10a, c20a, c10b, c20b, phi0a, phi0b, y0, J10, J20"
      ],
      "metadata": {
        "id": "-86qDt-5KP_X"
      },
      "execution_count": null,
      "outputs": []
    },
    {
      "cell_type": "code",
      "execution_count": null,
      "metadata": {
        "id": "3TFnOddDHqcz"
      },
      "outputs": [],
      "source": [
        "def first_order_terms(V, alpha, beta, L, R, z1, z2):\n",
        "    c10a, c20a, c10b, c20b, phi0a, phi0b, y0, J10, J20 = zeroth_order_terms(V, alpha, beta, L, R, z1, z2)\n",
        "    c11a = (z2 * alpha * (phi0b - phi0a) / (z1 - z2)) - (1 / (2 * (z1 - z2)))\n",
        "    c21a = (z1 * alpha * (phi0b - phi0a) / (z2 - z1)) - (1 / (2 * (z2 - z1)))\n",
        "    c11b = (z2 * (1 - beta) * (phi0a - phi0b) / (z1 - z2)) - (1 / (2 * (z1 - z2)))\n",
        "    c21b = (z1 * (1 - beta) * (phi0a - phi0b) / (z2 - z1)) - (1 / (2 * (z2 - z1)))\n",
        "\n",
        "    A = -((beta - alpha) * (L - R) ** 2) / (((1 - alpha) * L + alpha * R) * ((1 - beta) * L + beta * R) * (np.log(L) - np.log(R)))\n",
        "    B = np.log(((1 - beta) * L + beta * R) / ((1 - alpha) * L + alpha * R)) / A\n",
        "    Q = 0.01\n",
        "    lambda_val = V / (np.log(L) - np.log(R))\n",
        "    phi1a = ((1 + z1 * lambda_val) * (1 + z2 * lambda_val) * (c10b - c10a) * (np.log(c10a) - np.log(c10a))) / (z1 * (z1 - z2) * c10a * c10b * (np.log(c10a) - np.log(c10a))) + (1 / (2 * z1 * (z1 - z2) * c10a)) + ((z2 * alpha * (phi0b - phi0a)) / ((z1 - z2) * c10a) * lambda_val)\n",
        "    phi1b = ((1 + z1 * lambda_val) * (1 + z2 * lambda_val) * (c10b - c10a) * (np.log(c10a) - np.log(c10b))) / (z1 * (z1 - z2) * c10a * c10b * (np.log(c10a) - np.log(c10a))) + (1 / (2 * z1 * (z1 - z2) * c10b)) + ((z2 * (1 - beta) * (phi0a - phi0b)) / ((z1 - z2) * c10b) * lambda_val)\n",
        "    y1 = (((1 - beta) * c10a + alpha * c10b) * (phi0a - phi0b)) / (z1 * (z1 - z2) * y0 * c10a * c10b) + ((np.log(c10a) - np.log(c10b)) * (phi0a - phi0b)) / (z1 * (z1 - z2) * y0 * (c10a - c10b)) - (((z2 * J10 + z1 * J20) * (c10a - c10b)) / (z1 ** 2 * z2 * (z1 - z2) * y0 ** 2 * c10a * c10b))\n",
        "\n",
        "    J1 = J10 + Q * c11a\n",
        "    J2 = J20 + Q * c21a\n",
        "\n",
        "    return c11a, c21a, c11b, c21b, phi1a, phi1b, y1, J1, J2\n",
        "\n"
      ]
    },
    {
      "cell_type": "code",
      "source": [
        "# Define the parameter values\n",
        "V = 1\n",
        "alpha = 1/3\n",
        "beta = 2/3\n",
        "z1 = 1\n",
        "z2 = -1\n",
        "\n",
        "# Define the range for L and R\n",
        "L = np.linspace(0.01, 10, 20)\n",
        "R = np.linspace(0.01, 10, 20)\n",
        "\n",
        "# Compute the zeroth-order terms\n",
        "c10a, c20a, c10b, c20b, phi0a, phi0b, y0, J10, J20 = zeroth_order_terms(V, alpha, beta, L, R, z1, z2)\n",
        "\n",
        "# Compute the first-order terms\n",
        "c11a, c21a, c11b, c21b, phi1a, phi1b, y1, J1, J2 = first_order_terms(V, alpha, beta, L, R, z1, z2)\n"
      ],
      "metadata": {
        "id": "B7i3911rKcAP"
      },
      "execution_count": null,
      "outputs": []
    },
    {
      "cell_type": "code",
      "source": [
        "# Create the desired plots\n",
        "plt.figure(figsize=(12, 6))\n",
        "plt.subplot(2, 2, 1)\n",
        "plt.plot(L, J10)\n",
        "plt.xlabel('L')\n",
        "plt.ylabel('J10')\n",
        "plt.title('J10 vs L')\n",
        "\n",
        "plt.subplot(2, 2, 2)\n",
        "plt.plot(R, J10)\n",
        "plt.xlabel('R')\n",
        "plt.ylabel('J10')\n",
        "plt.title('J10 vs R')\n",
        "\n",
        "plt.subplot(2, 2, 3)\n",
        "plt.plot(L, J1)\n",
        "plt.xlabel('L')\n",
        "plt.ylabel('J1')\n",
        "plt.title('J1 vs L')\n",
        "\n",
        "plt.subplot(2, 2, 4)\n",
        "plt.plot(R, J2)\n",
        "plt.xlabel('R')\n",
        "plt.ylabel('J2')\n",
        "plt.title('J2 vs R')\n",
        "\n",
        "plt.tight_layout()\n",
        "plt.show()"
      ],
      "metadata": {
        "id": "wXnJlcqbKfeU"
      },
      "execution_count": null,
      "outputs": []
    }
  ]
}