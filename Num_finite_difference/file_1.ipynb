{
  "nbformat": 4,
  "nbformat_minor": 0,
  "metadata": {
    "colab": {
      "provenance": [],
      "authorship_tag": "ABX9TyN5MiGWrsBiqX8sVuN/g9bR",
      "include_colab_link": true
    },
    "kernelspec": {
      "name": "python3",
      "display_name": "Python 3"
    },
    "language_info": {
      "name": "python"
    }
  },
  "cells": [
    {
      "cell_type": "markdown",
      "metadata": {
        "id": "view-in-github",
        "colab_type": "text"
      },
      "source": [
        "<a href=\"https://colab.research.google.com/github/Hamid-Mofidi/PNP/blob/main/Num_finite_difference/file_1.ipynb\" target=\"_parent\"><img src=\"https://colab.research.google.com/assets/colab-badge.svg\" alt=\"Open In Colab\"/></a>"
      ]
    },
    {
      "cell_type": "code",
      "source": [
        "import numpy as np\n",
        "from scipy.integrate import solve_bvp\n",
        "import matplotlib.pyplot as plt"
      ],
      "metadata": {
        "id": "phCudJlkUHCE"
      },
      "execution_count": null,
      "outputs": []
    },
    {
      "cell_type": "code",
      "execution_count": null,
      "metadata": {
        "id": "K8zjpTmQUC8j"
      },
      "outputs": [],
      "source": [
        "\n",
        "\n",
        "# Define constants\n",
        "eps = 1e-6 # very very tiny number\n",
        "V0 = 1 # some constant\n",
        "L1 = 2 # some constant\n",
        "L2 = 3 # some constant\n",
        "R1 = 4 # some constant\n",
        "R2 = 5 # some constant\n",
        "\n",
        "# Define functions\n",
        "def equations(x, y):\n",
        "# y[0] = phi, y[1] = u, y[2] = c1, y[3] = c2, y[4] = J1, y[5] = J2, y[6] = w\n",
        "phi, u, c1, c2, J1, J2, w = y\n",
        "dphi = u\n",
        "du = -(c1-c2) - eps*u\n",
        "dc1 = -z1*u*c1 - eps*J1\n",
        "dc2 = -z2*u*c2 - eps*J2\n",
        "dJ1 = 0\n",
        "dJ2 = 0\n",
        "dw = 1\n",
        "return np.vstack([dphi, du, dc1, dc2, dJ1, dJ2, dw])\n",
        "\n",
        "def boundary_conditions(ya, yb):\n",
        "# ya = y(a), yb = y(b)\n",
        "phi_a, u_a, c1_a, c2_a, J1_a, J2_a, w_a = ya\n",
        "phi_b, u_b, c1_b, c2_b, J1_b, J2_b, w_b = yb\n",
        "return np.array([phi_a - V0,\n",
        "phi_b,\n",
        "c1_a - L1,\n",
        "c1_b - R1,\n",
        "c2_a - L2,\n",
        "c2_b - R2])\n",
        "\n",
        "# Define grid points\n",
        "x = np.linspace(0, 1, 11)\n",
        "\n",
        "# Define initial guess\n",
        "y = np.zeros((7, x.size))\n",
        "y[0] = V0 # phi\n",
        "y[1] = 1 # u\n",
        "y[2] = L1 # c1\n",
        "y[3] = L2 # c2\n",
        "y[4] = 0 # J1\n",
        "y[5] = 0 # J2\n",
        "y[6] = x # w\n",
        "\n",
        "# Solve the boundary value problem\n",
        "sol = solve_bvp(equations, boundary_conditions, x, y)\n",
        "\n",
        "# Plot the solution\n",
        "plt.figure(figsize=(12,8))\n",
        "plt.plot(sol.x, sol.y[0], label='phi')\n",
        "plt.plot(sol.x, sol.y[1], label='u')\n",
        "plt.plot(sol.x, sol.y[2], label='c1')\n",
        "plt.plot(sol.x, sol.y[3], label='c2')\n",
        "plt.plot(sol.x, sol.y[4], label='J1')\n",
        "plt.plot(sol.x, sol.y[5], label='J2')\n",
        "plt.plot(sol.x, sol.y[6], label='w')\n",
        "plt.xlabel('x')\n",
        "plt.ylabel('y')\n",
        "plt.legend()\n",
        "plt.show()"
      ]
    }
  ]
}