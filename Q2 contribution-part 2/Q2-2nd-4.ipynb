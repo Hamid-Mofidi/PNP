{
 "cells": [
  {
   "cell_type": "code",
   "execution_count": 1,
   "id": "42bdee87",
   "metadata": {
    "_cell_guid": "b1076dfc-b9ad-4769-8c92-a6c4dae69d19",
    "_uuid": "8f2839f25d086af736a60e9eeb907d3b93b6e0e5",
    "execution": {
     "iopub.execute_input": "2023-12-08T07:57:47.677012Z",
     "iopub.status.busy": "2023-12-08T07:57:47.676382Z",
     "iopub.status.idle": "2023-12-08T07:57:47.685502Z",
     "shell.execute_reply": "2023-12-08T07:57:47.684812Z"
    },
    "papermill": {
     "duration": 0.018353,
     "end_time": "2023-12-08T07:57:47.687301",
     "exception": false,
     "start_time": "2023-12-08T07:57:47.668948",
     "status": "completed"
    },
    "tags": []
   },
   "outputs": [],
   "source": [
    "import numpy as np\n",
    "#!pip install cupy\n",
    "#import cupy as np \n",
    "import matplotlib.pyplot as plt"
   ]
  },
  {
   "cell_type": "code",
   "execution_count": 2,
   "id": "43077f6b",
   "metadata": {
    "execution": {
     "iopub.execute_input": "2023-12-08T07:57:47.701151Z",
     "iopub.status.busy": "2023-12-08T07:57:47.700856Z",
     "iopub.status.idle": "2023-12-08T07:57:47.711327Z",
     "shell.execute_reply": "2023-12-08T07:57:47.710425Z"
    },
    "papermill": {
     "duration": 0.019576,
     "end_time": "2023-12-08T07:57:47.713465",
     "exception": false,
     "start_time": "2023-12-08T07:57:47.693889",
     "status": "completed"
    },
    "tags": []
   },
   "outputs": [],
   "source": [
    "def zeroth_order_terms(V, alpha, beta, L, R, z1, z2):\n",
    "    c10a = (1/z1) * ((1 - alpha) * L + alpha * R)\n",
    "    c20a = (-z1/z2) * c10a\n",
    "    c10b = (1/z1) * ((1 - beta) * L + beta * R)\n",
    "    c20b = (-z1/z2) * c10b\n",
    "    phi0a = V * (np.log(((1 - alpha) * L + alpha * R)) - np.log(R)) / (np.log(L) - np.log(R))\n",
    "    phi0b = V * (np.log(((1 - beta)  * L + beta * R)) - np.log(R)) / (np.log(L) - np.log(R))\n",
    "    y0 = ((1.0 / ((z1 - z2) * (L - R))) * np.log(((1 - alpha) * L + alpha * R) / ((1 - beta) * L + beta * R)))\n",
    "    J10 = ((L - R) / (z1 * (np.log(L) - np.log(R)))) * (z1 * V + np.log(L) - np.log(R))\n",
    "    J20 = ((R - L) / (z2 * (np.log(L) - np.log(R)))) * (z2 * V + np.log(L) - np.log(R))\n",
    "    return c10a, c20a, c10b, c20b, phi0a, phi0b, y0, J10, J20"
   ]
  },
  {
   "cell_type": "code",
   "execution_count": 3,
   "id": "a5ed3bbd",
   "metadata": {
    "execution": {
     "iopub.execute_input": "2023-12-08T07:57:47.728764Z",
     "iopub.status.busy": "2023-12-08T07:57:47.728004Z",
     "iopub.status.idle": "2023-12-08T07:57:47.748964Z",
     "shell.execute_reply": "2023-12-08T07:57:47.748022Z"
    },
    "papermill": {
     "duration": 0.030521,
     "end_time": "2023-12-08T07:57:47.751046",
     "exception": false,
     "start_time": "2023-12-08T07:57:47.720525",
     "status": "completed"
    },
    "tags": []
   },
   "outputs": [],
   "source": [
    "def first_order_terms(V, alpha, beta, L, R, z1, z2):\n",
    "    c10a, c20a, c10b, c20b, phi0a, phi0b, y0, J10, J20 = zeroth_order_terms(V, alpha, beta, L, R, z1, z2)\n",
    "    c11a = (z2 * alpha * (phi0b - phi0a) / (z1 - z2)) - (1 / (2 * (z1 - z2)))\n",
    "    c21a = (z1 * alpha * (phi0b - phi0a) / (z2 - z1)) - (1 / (2 * (z2 - z1)))\n",
    "    c11b = (z2 * (1 - beta) * (phi0a - phi0b) / (z1 - z2)) - (1 / (2 * (z1 - z2)))\n",
    "    c21b = (z1 * (1 - beta) * (phi0a - phi0b) / (z2 - z1)) - (1 / (2 * (z2 - z1)))\n",
    "    c1L  = L / z1\n",
    "    c1R  = R / z1\n",
    "    T0   =   J10 +  J20\n",
    "\n",
    "    A = -((beta - alpha) * (L - R) ** 2) / (((1 - alpha) * L + alpha * R) * ((1 - beta) * L + beta * R) * (np.log(L) - np.log(R)))\n",
    "    B = ( np.log(((1 - beta) * L + beta * R)) - np.log(((1 - alpha) * L + alpha * R))  ) / A\n",
    "\n",
    "    lambda_val = V / (np.log(L) - np.log(R))\n",
    "    phi1a = ((1 + z1 * lambda_val) * (1 + z2 * lambda_val) * (c10b - c10a) * (np.log(c1L) - np.log(c10a))) / (z1 * (z1 - z2) * c10a * c10b * (np.log(c1R) - np.log(c1L))) \\\n",
    "                  + (1 / (2 * z1 * (z1 - z2) * c10a)) + (lambda_val * ((z2 * alpha * (phi0b - phi0a)) / ((z1 - z2) * c10a) ) )\n",
    "    phi1b = ((1 + z1 * lambda_val) * (1 + z2 * lambda_val) * (c10b - c10a) * (np.log(c1R) - np.log(c10b))) / (z1 * (z1 - z2) * c10a * c10b * (np.log(c1R) - np.log(c1L))) \\\n",
    "                  + (1 / (2 * z1 * (z1 - z2) * c10b)) + (lambda_val * ((z2 * (1 - beta) * (phi0a - phi0b)) / ((z1 - z2) * c10b) ) )\n",
    "    y1 = (((1 - beta) * c1L + alpha * c1R) * (phi0a - phi0b)) / (z1 * (z1 - z2) * T0 * c10a * c10b) \\\n",
    "           + ((np.log(c10a) - np.log(c10b)) * (phi0a - phi0b)) / (z1 * (z1 - z2) * T0 * (c1L - c1R)) \\\n",
    "            - (((z2 * J10 + z1 * J20) * (c10a - c10b)) / (z1 ** 2 * z2 * (z1 - z2) * T0 ** 2 * c10a * c10b))\n",
    "    J11 = ( (A * (z2 * (1 - B) * V + np.log(L) - np.log(R))) / ((z1 - z2) * (np.log(L) - np.log(R))**2) ) * (z1 * V + np.log(L) - np.log(R))\n",
    "    J21 = ( (A * (z1 * (1 - B) * V + np.log(L) - np.log(R))) / ((z2 - z1) * (np.log(L) - np.log(R))**2) ) * (z2 * V + np.log(L) - np.log(R))\n",
    "\n",
    "\n",
    "    return c11a, c21a, c11b, c21b, phi1a, phi1b, y1, J11, J21"
   ]
  },
  {
   "cell_type": "code",
   "execution_count": 4,
   "id": "6300dfba",
   "metadata": {
    "execution": {
     "iopub.execute_input": "2023-12-08T07:57:47.765095Z",
     "iopub.status.busy": "2023-12-08T07:57:47.764787Z",
     "iopub.status.idle": "2023-12-08T07:57:47.774218Z",
     "shell.execute_reply": "2023-12-08T07:57:47.773265Z"
    },
    "papermill": {
     "duration": 0.018754,
     "end_time": "2023-12-08T07:57:47.776311",
     "exception": false,
     "start_time": "2023-12-08T07:57:47.757557",
     "status": "completed"
    },
    "tags": []
   },
   "outputs": [],
   "source": [
    "def calculate_voltage_ranges(L, R):\n",
    "    alpha = 1/3\n",
    "    beta = 2/3\n",
    "    z1 = 1\n",
    "    z2 = -1\n",
    "\n",
    "    A = -((beta - alpha) * (L - R) ** 2) / (((1 - alpha) * L + alpha * R) * ((1 - beta) * L + beta * R) * (np.log(L) - np.log(R)))\n",
    "    B = ( np.log(((1 - beta) * L + beta * R)) - np.log(((1 - alpha) * L + alpha * R))  ) / A\n",
    "\n",
    "    Vq1 = (np.log(R) - np.log(L)) / (z2 * (1 - B))\n",
    "    Vq2 = (np.log(R) - np.log(L)) / (z1 * (1 - B))\n",
    "\n",
    "    Vqmin = np.min([Vq1, Vq2])\n",
    "    Vqmax = np.max([Vq1, Vq2])\n",
    "\n",
    "    V1_range = np.linspace(Vqmin-80, Vqmin, 200)\n",
    "    V2_range = np.linspace(Vqmin, Vqmax, 200)\n",
    "    V3_range = np.linspace(Vqmax, Vqmax+80, 200)\n",
    "\n",
    "    return alpha, beta, z1, z2, V1_range, V2_range, V3_range\n",
    "\n"
   ]
  },
  {
   "cell_type": "code",
   "execution_count": 5,
   "id": "7b70e6e2",
   "metadata": {
    "execution": {
     "iopub.execute_input": "2023-12-08T07:57:47.790370Z",
     "iopub.status.busy": "2023-12-08T07:57:47.790087Z",
     "iopub.status.idle": "2023-12-08T07:57:47.835115Z",
     "shell.execute_reply": "2023-12-08T07:57:47.834382Z"
    },
    "papermill": {
     "duration": 0.054537,
     "end_time": "2023-12-08T07:57:47.837286",
     "exception": false,
     "start_time": "2023-12-08T07:57:47.782749",
     "status": "completed"
    },
    "tags": []
   },
   "outputs": [],
   "source": [
    " # Define the second order terms\n",
    "def second_order_terms(V, alpha, beta, L, R, z1, z2):\n",
    "    # Constants\n",
    "    c10a, c20a, c10b, c20b, phi0a, phi0b, y0, J10, J20 = zeroth_order_terms(V, alpha, beta, L, R, z1, z2)\n",
    "    c11a, c21a, c11b, c21b, phi1a, phi1b, y1, J11, J21 = first_order_terms(V, alpha, beta, L, R, z1, z2)\n",
    "    H1 = 1.0\n",
    "    phiL = V\n",
    "    phiR = 0.0\n",
    "    c1L  = L / z1\n",
    "    c1R  = R / z1\n",
    "    T0   = J10 +  J20\n",
    "    T1   = J11 +  J21\n",
    "    I1   = z1*J11 + z2*J21\n",
    "\n",
    "    # Intermediate calculations\n",
    "    A1 = -z1 * (c1L - c10a) / (alpha * H1 * (np.log(c1L) - np.log(c10a)))\n",
    "    B1 = z1 * (c10b - c1R) / ((1 - beta) * H1 * (np.log(c10b) - np.log(c1R)))\n",
    "    A2 = (z1 * z2 * (phi0a - phi0b) * (1 / z1 + (phiL - phi0a) / (np.log(c1L) - np.log(c10a))\n",
    "          - (phiL - phi0a) * (c1L - c10a) / ((np.log(c1L) - np.log(c10a))**2 * c10a)))\n",
    "    B2 = (z1 * z2 * (phi0a - phi0b) * (1 / z1 + (phi0b - phiR) / (np.log(c10b) - np.log(c1R))\n",
    "          - (phi0b - phiR) * (c10b - c1R) / ((np.log(c10b) - np.log(c1R))**2 * c10b)))\n",
    "    # Constants\n",
    "    C1L = z1**2 * c11a + z2**2 * c21a\n",
    "    C1R = z1**2 * c11b + z2**2 * c21b\n",
    "    C2 = (z1 + z2) * (c10b**2 - c10a**2) / (12 * (z1 * (z1 - z2) * c10a * c10b)**2)\n",
    "    I1_term = I1 * y1\n",
    "\n",
    "    #Compute C:\n",
    "    # First term\n",
    "    C = -(C1L / (2 * z1 * (z1 - z2) * c10a)**2) + (C1R / (2 * (z1 * (z1 - z2) * c10b)**2)) + C2\n",
    "    # Second term\n",
    "    term2 = ((z1 - z2) * (L - R) * V * y1) / (H1 * (np.log(L) - np.log(R)) * c10a)\n",
    "    term2 -= (z2 * alpha * (phi0b - phi0a) / (z1 - z2)) - (c10a * (phi0a - phi0b) / (H1 * T0)) - (1 / (z1 - z2))\n",
    "    # Third term\n",
    "    term3 = (0.5 * z2 * V / (z1 * (z1 - z2)**2 * (np.log(L) - np.log(R)))) * (1 / c10a**2 - 1 / c10b**2)\n",
    "    # Fourth term\n",
    "    term4 = (z1 * z2 * (phi1a - phi1b) * V / (np.log(L) - np.log(R)))\n",
    "    term4 *= (1 / (z1 * (z1 - z2))) * (alpha / c10a + (1 - beta) / c10b) + y0 / H1\n",
    "    # Fifth term\n",
    "    term5 = (0.5 * z1**2 * z2**2 * V * (T0 * y1 + T1 * y0)**2 / (np.log(L) - np.log(R)))\n",
    "    # Sixth term\n",
    "    term6 = (z1 * z2 * V * (phi0a - phi0b) * y0 / (H1 * c10a * (np.log(L) - np.log(R))))\n",
    "    term6 *= z2 * alpha * (phi0b - phi0a) / (z1 - z2) - 1 / (z1 - z2)\n",
    "    # Seventh term\n",
    "    term7 = (J11 * V / (z1 * T0 * (np.log(L) - np.log(R)))) * (1 / c10b - 1 / c10a)\n",
    "    # Eighth term\n",
    "    term8 = (J10 * (phi0a - phi0b) * V / (z1 * T0**2 * H1 * (np.log(L) - np.log(R)))) * (1 / c10b - 1 / c10a)\n",
    "    # Combine all terms\n",
    "    C += term2 + term3 - term4 - term5 + term6 + term7 + term8\n",
    "\n",
    "    # Calculate c12a, c22a, c12b, c22b\n",
    "    c12a = (-((z1 + 4 * z2) / (24 * z1 * (z1 - z2)**2 * c10a)) -\n",
    "            ((phi0a - phi0b) * alpha * z2) / (z1 - z2))\n",
    "    c22a = ((4 * z1 + z2) / (24 * z1 * (z1 - z2)**2 * c10a) +\n",
    "            ((phi0a - phi0b) * alpha * z1) / (z1 - z2))\n",
    "    c12b = (-((z1 + 4 * z2) / (24 * z1 * (z1 - z2)**2 * c10b)) +\n",
    "            ((phi0a - phi0b) * (1 - beta) * z2) / (z1 - z2))\n",
    "    c22b = ((4 * z1 + z2) / (24 * z1 * (z1 - z2)**2 * c10b) -\n",
    "            ((phi0a - phi0b) * (1 - beta) * z1) / (z1 - z2))\n",
    "\n",
    "    # Calculate phi2a, phi2b\n",
    "    phi2a = ((B1 * C - (z1 - z2) * y0 * B1 * A2 - z2 * y0 * B1 * (phi1b - phi1a) / H1 +\n",
    "              B2 - A2) / (A1 - B1 + (z1 - z2) * y0 * A1 * B1))\n",
    "    phi2b = ((1 - (z1 - z2) * y0 * A1) * phi2a + C - (z1 - z2) * y0 * A2 - z2 * y0 * (phi1b - phi1a) / H1)\n",
    "\n",
    "\n",
    "    y2 = (y0 * (phi1a - phi1b) / (H1 * T0) - (y1 / c10a) * (z2 * alpha * (phi0b - phi0a) / (z1 - z2) -\n",
    "       (c10a * (phi0a - phi0b) / (H1 * T0)) - 1 / (z1 - z2)) +\n",
    "       (0.5 / (z1**2 * (z1 - z2)**2 * T0)) * (1 / c10a**2 - 1 / c10b**2) +\n",
    "       ((phi1a - phi1b) / (z1 * (z1 - z2) * T0)) * (alpha / c10a + (1 - beta) / c10b) -\n",
    "       (z1 * z2 / (2 * T0)) * (T0 * y1 + T1 * y0)**2 +\n",
    "       (((phi0a - phi0b) * y0) / (H1 * T0 * c10a)) * ((z2 * alpha * (phi0b - phi0a) / (z1 - z2)) - 1 / (z1 - z2)) +\n",
    "       (J11 / (z1**2 * z2 * T0**2)) * (1 / c10b - 1 / c10a) +\n",
    "       (J10 * (phi0a - phi0b) / (z1**2 * z2 * T0**3 * H1)) * (1 / c10b - 1 / c10a)\n",
    "      )\n",
    "\n",
    "\n",
    "\n",
    "\n",
    "    # Calculate J12:\n",
    "    J12_term1 = (z1 * z2 * (phi1a - phi1b) / (H1 * (z1 - z2)))\n",
    "    J12_term1 *= ((1 / z1) + (phiL - phi0a) / (np.log(c1L) - np.log(c10a)) - (phiL - phi0a) * (c1L - c10a) / ((np.log(c1L) - np.log(c10a))**2 * c10a))\n",
    "\n",
    "    J12_term2 = z1 * (c1L - c10a) / (alpha * H1 * (np.log(c1L) - np.log(c10a)))\n",
    "    J12_term2 *= (phi2a + z1 * z2 * alpha * (phi0b - phi0a) / (2 * (z1 * (z1 - z2) * c10a)**2) - (z1 + z2) / (6 * (z1 * (z1 - z2) * c10a)**2))\n",
    "\n",
    "    J12_term3 = z1 * z2 * (phi0a - phi0b) / (H1 * (np.log(c1L) - np.log(c10a)) * (z1 - z2)**2)\n",
    "    J12_term3 *= (z1 - z2) * phi1a - ( (z1 - z2) * (c1L - c10a) * phi1a / ((np.log(c1L) - np.log(c10a)) * c10a) ) - 1 / (2 * z1 * c10a) + (c1L - c10a) / (2 * z1 * (np.log(c1L) - np.log(c10a)) * (c10a**2)) + z2 * (c11a + c21a) * (phiL - phi0a) * (c1L + c10a) / (2 * (np.log(c1L) - np.log(c10a)) * (c10a**2))\n",
    "\n",
    "    J12 = J12_term1 - J12_term2 - J12_term3\n",
    "\n",
    "    # Calculate J22:\n",
    "    J22_term1 = (z1 * z2 * (phi1a - phi1b) / (H1 * (z2 - z1)))\n",
    "    J22_term1 *= ((1 / z2) + (phiL - phi0a) / (np.log(c1L) - np.log(c10a)) - (phiL - phi0a) * (c1L - c10a) / ((np.log(c1L) - np.log(c10a))**2 * c10a))\n",
    "\n",
    "    J22_term2 = z1 * (c1L - c10a) / (alpha * H1 * (np.log(c1L) - np.log(c10a)))\n",
    "    J22_term2 *= (phi2a + z1 * z2 * alpha * (phi0b - phi0a) / (2 * (z1 * (z1 - z2) * c10a)**2) - (z1 + z2) / (6 * (z1 * (z1 - z2) * c10a)**2))\n",
    "\n",
    "    J22_term3 = z1 * z2 * (phi0a - phi0b) / (H1 * (np.log(c1L) - np.log(c10a)) * (z1 - z2)**2)\n",
    "    J22_term3 *= (z1 - z2) * phi1a - (z1 - z2) * (c1L - c10a) * phi1a / ((np.log(c1L) - np.log(c10a)) * c10a) - 1 / (2 * z1 * c10a) + (c1L - c10a) / (2 * z1 * (np.log(c1L) - np.log(c10a)) * (c10a**2))+  (z2 * (c11a + c21a) * (phiL - phi0a) * (c1L + c10a) / (2 * (np.log(c1L) - np.log(c10a)) * (c10a**2)))\n",
    "\n",
    "    J22 = J22_term1 + J22_term2 + J22_term3\n",
    "\n",
    "\n",
    "    return c12a, c22a, c12b, c22b, phi2a, phi2b, y2, J12, J22\n",
    "\n",
    "\n",
    "#result = second_order_terms(V, alpha, beta, L, R, z1, z2)\n",
    "#print(result)\n"
   ]
  },
  {
   "cell_type": "code",
   "execution_count": 6,
   "id": "cf9ec05f",
   "metadata": {
    "execution": {
     "iopub.execute_input": "2023-12-08T07:57:47.851198Z",
     "iopub.status.busy": "2023-12-08T07:57:47.850927Z",
     "iopub.status.idle": "2023-12-08T07:57:47.857464Z",
     "shell.execute_reply": "2023-12-08T07:57:47.856566Z"
    },
    "papermill": {
     "duration": 0.015813,
     "end_time": "2023-12-08T07:57:47.859576",
     "exception": false,
     "start_time": "2023-12-08T07:57:47.843763",
     "status": "completed"
    },
    "tags": []
   },
   "outputs": [],
   "source": [
    "# Identify consecutive indices and keep one element per consecutive sequence with minimum absolute value\n",
    "def keep_min_abs_per_consecutive(indices, values):\n",
    "    result_indices = []\n",
    "    i = 0\n",
    "    while i < len(indices):\n",
    "        j = i + 1\n",
    "        while j < len(indices) and indices[j] == indices[j - 1] + 1:\n",
    "            j += 1\n",
    "\n",
    "        # Find the index with minimum absolute value in the consecutive sequence\n",
    "        min_abs_index = min(range(i, j), key=lambda k: abs(values[indices[k]]))\n",
    "        result_indices.append(indices[min_abs_index])\n",
    "        i = j\n",
    "\n",
    "    return np.array(result_indices)"
   ]
  },
  {
   "cell_type": "code",
   "execution_count": 7,
   "id": "6dce5004",
   "metadata": {
    "execution": {
     "iopub.execute_input": "2023-12-08T07:57:47.873521Z",
     "iopub.status.busy": "2023-12-08T07:57:47.873224Z",
     "iopub.status.idle": "2023-12-08T07:57:47.881050Z",
     "shell.execute_reply": "2023-12-08T07:57:47.880082Z"
    },
    "papermill": {
     "duration": 0.017095,
     "end_time": "2023-12-08T07:57:47.883161",
     "exception": false,
     "start_time": "2023-12-08T07:57:47.866066",
     "status": "completed"
    },
    "tags": []
   },
   "outputs": [],
   "source": [
    "def remove_close_roots(roots, values, x_values, distance_threshold=0.2):\n",
    "    sorted_indices = np.argsort(values[roots])\n",
    "    sorted_roots = roots[sorted_indices]\n",
    "\n",
    "    result_indices = [sorted_roots[0]]\n",
    "    xx0 = x_values[sorted_roots[0]]\n",
    "\n",
    "    for i in range(1, len(sorted_roots)):\n",
    "        distance = x_values[sorted_roots[i]] - x_values[result_indices[-1]]\n",
    "\n",
    "        if distance >= distance_threshold:\n",
    "            result_indices.append(sorted_roots[i])\n",
    "            #print('1=', x_values[sorted_roots[i]])\n",
    "\n",
    "        elif distance < distance_threshold and abs(values[sorted_roots[i]]) < abs(values[result_indices[-1]]):\n",
    "            result_indices.pop()  # Remove the last added index\n",
    "            result_indices.append(sorted_roots[i])\n",
    "            #print('2=', x_values[sorted_roots[i]])\n",
    "\n",
    "        else:\n",
    "            result_indices.append(sorted_roots[-1])\n",
    "            #print('3=', x_values[sorted_roots[-1]])\n",
    "\n",
    "    return np.array(result_indices)"
   ]
  },
  {
   "cell_type": "code",
   "execution_count": 8,
   "id": "0ec93513",
   "metadata": {
    "execution": {
     "iopub.execute_input": "2023-12-08T07:57:47.895918Z",
     "iopub.status.busy": "2023-12-08T07:57:47.895635Z",
     "iopub.status.idle": "2023-12-08T07:57:47.900490Z",
     "shell.execute_reply": "2023-12-08T07:57:47.899718Z"
    },
    "papermill": {
     "duration": 0.013157,
     "end_time": "2023-12-08T07:57:47.902236",
     "exception": false,
     "start_time": "2023-12-08T07:57:47.889079",
     "status": "completed"
    },
    "tags": []
   },
   "outputs": [],
   "source": [
    "def remove_close_values(values, threshold=0.2):\n",
    "    sorted_values = np.sort(values)\n",
    "    result_values = [sorted_values[0]]\n",
    "\n",
    "    for i in range(1, len(sorted_values)):\n",
    "        if sorted_values[i] - result_values[-1] >= threshold:\n",
    "            result_values.append(sorted_values[i])\n",
    "\n",
    "    return np.array(result_values)"
   ]
  },
  {
   "cell_type": "code",
   "execution_count": 9,
   "id": "e2a477f5",
   "metadata": {
    "execution": {
     "iopub.execute_input": "2023-12-08T07:57:47.914542Z",
     "iopub.status.busy": "2023-12-08T07:57:47.914282Z",
     "iopub.status.idle": "2023-12-08T07:57:56.182254Z",
     "shell.execute_reply": "2023-12-08T07:57:56.181334Z"
    },
    "papermill": {
     "duration": 8.276914,
     "end_time": "2023-12-08T07:57:56.184597",
     "exception": false,
     "start_time": "2023-12-08T07:57:47.907683",
     "status": "completed"
    },
    "tags": []
   },
   "outputs": [
    {
     "data": {
      "image/png": "[encoded data removed]",
      "text/plain": [
       "<Figure size 1800x400 with 3 Axes>"
      ]
     },
     "metadata": {},
     "output_type": "display_data"
    }
   ],
   "source": [
    "import numpy as np\n",
    "import matplotlib.pyplot as plt\n",
    "\n",
    "L = 2\n",
    "R = 1\n",
    "\n",
    "# Define V range\n",
    "#num = 1e+10\n",
    "V_range = np.linspace(-500, 500, int(1e7))  # Adjust the number of points as needed\n",
    "alpha, beta, z1, z2, V1_range, V2_range, V3_range = calculate_voltage_ranges(L, R)\n",
    "\n",
    "\n",
    "c10a, c20a, c10b, c20b, phi0a, phi0b, y0, J10, J20 = zeroth_order_terms(V_range, alpha, beta, L, R, z1, z2)\n",
    "c11a, c21a, c11b, c21b, phi1a, phi1b, y1, J11, J21 = first_order_terms(V_range, alpha, beta, L, R, z1, z2)\n",
    "c12a, c22a, c12b, c22b, phi2a, phi2b, y2, J12, J22 = second_order_terms(V_range, alpha, beta, L, R, z1, z2)\n",
    "\n",
    "J1_prd2 = J10 * J11\n",
    "J2_prd2 = J20 * J21\n",
    "\n",
    "# Find indices of zero values in J1_prd2 and J2_prd2\n",
    "#zero_indices1 = np.where(J1_prd2 == 0)[0]\n",
    "#zero_indices2 = np.where(J2_prd2 == 0)[0]\n",
    "\n",
    "# Find indices of values very close to zero in J1_prd2 and J2_prd2\n",
    "epsilon = 1e-3  # Adjust this value as needed\n",
    "zero_indices1 = np.where(np.isclose(J1_prd2, 0, atol=epsilon))[0]\n",
    "zero_indices2 = np.where(np.isclose(J2_prd2, 0, atol=epsilon))[0]\n",
    "\n",
    "# Keep one element per consecutive sequence in zero_indices1 and zero_indices2\n",
    "zero_indices1 = keep_min_abs_per_consecutive(zero_indices1, J1_prd2)\n",
    "zero_indices2 = keep_min_abs_per_consecutive(zero_indices2, J2_prd2)\n",
    "\n",
    "\n",
    "# Get corresponding values of t for zero values in J1_prd2 and J2_prd2\n",
    "V_zero_values1 = V_range[zero_indices1]\n",
    "V_zero_values2 = V_range[zero_indices2]\n",
    "\n",
    "# Combine the zero values\n",
    "V_combined = np.concatenate([V_zero_values1, V_zero_values2])\n",
    "\n",
    "# Rearrange to have V_zero\n",
    "V_zero = np.sort(V_combined)\n",
    "\n",
    "# Find the length of V_zero\n",
    "lng = len(V_zero)\n",
    "\n",
    "# Create subintervals\n",
    "#subintervals = np.split(V_zero, np.arange(1, lng))\n",
    "\n",
    "# Create subintervals using np.linspace\n",
    "if len(V_zero) > 0:\n",
    "    subintervals = [\n",
    "                 np.linspace(V_zero[0]-80, V_zero[0], 200)\n",
    "               ] + [\n",
    "                 np.linspace(V_zero[i], V_zero[i + 1], 200) for i in range(lng - 1)\n",
    "               ] + [\n",
    "                 np.linspace(V_zero[-1], V_zero[-1]+80, 200)\n",
    "               ]\n",
    "else:\n",
    "    subintervals = [V_range[0], V_range[-1]]\n",
    "\n",
    "# Check the signs of J1_prd2 and J2_prd2 at the midpoints of subintervals\n",
    "midpoints = [np.mean(interval) for interval in subintervals]\n",
    "signs_J1_prd2 = np.sign(J10 * J11)\n",
    "signs_J2_prd2 = np.sign(J20 * J21)\n",
    "\n",
    "# Check and remove points where both J1_prd2 and J2_prd2 have the same sign across consecutive subintervals\n",
    "new_V_zero = [V_zero[0]]\n",
    "for i in range(1, len(V_zero) - 1):\n",
    "    idx = np.searchsorted(midpoints, V_zero[i])\n",
    "    if signs_J1_prd2[idx] != signs_J1_prd2[idx - 1] or signs_J2_prd2[idx] != signs_J2_prd2[idx - 1]:\n",
    "        new_V_zero.append(V_zero[i])\n",
    "new_V_zero.append(V_zero[-1])\n",
    "\n",
    "# Update V_zero\n",
    "V_zero = np.array(new_V_zero)\n",
    "\n",
    "# Update the length of V_zero\n",
    "lng = len(V_zero)\n",
    "\n",
    "# Create new subintervals using np.linspace\n",
    "if len(V_zero) > 0:\n",
    "    subintervals = [\n",
    "                 np.linspace(V_zero[0]-80, V_zero[0], 200)\n",
    "               ] + [\n",
    "                 np.linspace(V_zero[i], V_zero[i + 1], 200) for i in range(lng - 1)\n",
    "               ] + [\n",
    "                 np.linspace(V_zero[-1], V_zero[-1]+80, 200)\n",
    "               ]\n",
    "else:\n",
    "    subintervals = [V_range[0], V_range[-1]]\n",
    "\n",
    "\n",
    "# Plot J1_prd2 and J2_prd2 on subintervals\n",
    "fig, axs = plt.subplots(1, lng + 1, figsize=(18, 4))\n",
    "\n",
    "\n",
    "for i, interval in enumerate(subintervals):\n",
    "    start_point = interval[0]\n",
    "    end_point = interval[-1]\n",
    "    interval_range = np.linspace(start_point, end_point, 200)\n",
    "    c10a, c20a, c10b, c20b, phi0a, phi0b, y0, J10, J20 = zeroth_order_terms(interval_range, alpha, beta, L, R, z1, z2)\n",
    "    c11a, c21a, c11b, c21b, phi1a, phi1b, y1, J11, J21 = first_order_terms(interval_range, alpha, beta, L, R, z1, z2)\n",
    "    c12a, c22a, c12b, c22b, phi2a, phi2b, y2, J12, J22 = second_order_terms(interval_range, alpha, beta, L, R, z1, z2)\n",
    "    J1_prd22 = J10 * J11\n",
    "    J2_prd22 = J20 * J21\n",
    "\n",
    "    axs[i].plot(interval_range, J1_prd22, color='blue', label=f'$J_{{10}} \\cdot J_{{11}} $')\n",
    "    axs[i].plot(interval_range, J2_prd22, color='red', label=f'$J_{{20}} \\cdot J_{{21}} $')\n",
    "    axs[i].set_title(f'Subinterval {i + 1}')\n",
    "    axs[i].set_xlabel('V')\n",
    "    axs[i].set_ylabel('$J_{product}$')\n",
    "    axs[i].legend()\n",
    "\n",
    "\n",
    "\n",
    "# Adjust the spacing between subplots\n",
    "plt.tight_layout()\n",
    "\n",
    "# Display the figure\n",
    "plt.show()"
   ]
  },
  {
   "cell_type": "code",
   "execution_count": 10,
   "id": "1c15d8a1",
   "metadata": {
    "execution": {
     "iopub.execute_input": "2023-12-08T07:57:56.199088Z",
     "iopub.status.busy": "2023-12-08T07:57:56.198826Z",
     "iopub.status.idle": "2023-12-08T07:58:09.628577Z",
     "shell.execute_reply": "2023-12-08T07:58:09.627395Z"
    },
    "papermill": {
     "duration": 13.439407,
     "end_time": "2023-12-08T07:58:09.630788",
     "exception": false,
     "start_time": "2023-12-08T07:57:56.191381",
     "status": "completed"
    },
    "tags": []
   },
   "outputs": [
    {
     "name": "stdout",
     "output_type": "stream",
     "text": [
      "Requirement already satisfied: tqdm in /opt/conda/lib/python3.10/site-packages (4.66.1)\r\n",
      "Note: you may need to restart the kernel to use updated packages.\n"
     ]
    }
   ],
   "source": [
    "pip install tqdm"
   ]
  },
  {
   "cell_type": "code",
   "execution_count": 11,
   "id": "73914b5f",
   "metadata": {
    "execution": {
     "iopub.execute_input": "2023-12-08T07:58:09.646402Z",
     "iopub.status.busy": "2023-12-08T07:58:09.646108Z",
     "iopub.status.idle": "2023-12-08T08:00:44.977054Z",
     "shell.execute_reply": "2023-12-08T08:00:44.976065Z"
    },
    "papermill": {
     "duration": 155.342576,
     "end_time": "2023-12-08T08:00:44.980321",
     "exception": false,
     "start_time": "2023-12-08T07:58:09.637745",
     "status": "completed"
    },
    "tags": []
   },
   "outputs": [
    {
     "name": "stderr",
     "output_type": "stream",
     "text": [
      "Processing time:   5%|▌         | 1/20 [00:08<02:37,  8.29s/it]"
     ]
    },
    {
     "name": "stdout",
     "output_type": "stream",
     "text": [
      "V_zero_new: [-5.41475054 -2.9957503   2.9957503   5.41475054]\n"
     ]
    },
    {
     "name": "stderr",
     "output_type": "stream",
     "text": [
      "Processing time:  10%|█         | 2/20 [00:16<02:28,  8.26s/it]"
     ]
    },
    {
     "name": "stdout",
     "output_type": "stream",
     "text": [
      "V_zero_new: [-8.22105082 -1.89715019  1.89715019  8.22105082]\n"
     ]
    },
    {
     "name": "stderr",
     "output_type": "stream",
     "text": [
      "Processing time:  15%|█▌        | 3/20 [00:25<02:23,  8.42s/it]"
     ]
    },
    {
     "name": "stdout",
     "output_type": "stream",
     "text": [
      "V_zero_new: [-11.16285112  -1.38625014   1.38625014  11.16285112]\n"
     ]
    },
    {
     "name": "stderr",
     "output_type": "stream",
     "text": [
      "Processing time:  20%|██        | 4/20 [00:33<02:15,  8.48s/it]"
     ]
    },
    {
     "name": "stdout",
     "output_type": "stream",
     "text": [
      "V_zero_new: [-14.70725147  -1.0498501    1.0498501   14.70725147]\n"
     ]
    },
    {
     "name": "stderr",
     "output_type": "stream",
     "text": [
      "Processing time:  25%|██▌       | 5/20 [00:41<02:05,  8.38s/it]"
     ]
    },
    {
     "name": "stdout",
     "output_type": "stream",
     "text": [
      "V_zero_new: [-19.32295193  -0.79855008   0.79855008  19.32295193]\n"
     ]
    },
    {
     "name": "stderr",
     "output_type": "stream",
     "text": [
      "Processing time:  30%|███       | 6/20 [00:50<01:57,  8.40s/it]"
     ]
    },
    {
     "name": "stdout",
     "output_type": "stream",
     "text": [
      "V_zero_new: [-25.80475258  -0.59785006   0.59785006  25.80475258]\n"
     ]
    },
    {
     "name": "stderr",
     "output_type": "stream",
     "text": [
      "Processing time:  35%|███▌      | 7/20 [00:58<01:50,  8.48s/it]"
     ]
    },
    {
     "name": "stdout",
     "output_type": "stream",
     "text": [
      "V_zero_new: [-35.81175358  -0.43075004   0.43075004  35.81175358]\n"
     ]
    },
    {
     "name": "stderr",
     "output_type": "stream",
     "text": [
      "Processing time:  40%|████      | 8/20 [01:07<01:41,  8.45s/it]"
     ]
    },
    {
     "name": "stdout",
     "output_type": "stream",
     "text": [
      "V_zero_new: [-53.62765536  -0.28765003   0.28765003  53.62765536]\n"
     ]
    },
    {
     "name": "stderr",
     "output_type": "stream",
     "text": [
      "Processing time:  45%|████▌     | 9/20 [01:15<01:31,  8.36s/it]"
     ]
    },
    {
     "name": "stdout",
     "output_type": "stream",
     "text": [
      "V_zero_new: [-94.93205949  -0.16255002   0.16255002  94.93205949]\n"
     ]
    },
    {
     "name": "stderr",
     "output_type": "stream",
     "text": [
      "Processing time:  50%|█████     | 10/20 [01:23<01:22,  8.29s/it]"
     ]
    },
    {
     "name": "stdout",
     "output_type": "stream",
     "text": [
      "V_zero_new: [-3.00790580e+02 -5.12500051e-02  3.00790580e+02]\n"
     ]
    },
    {
     "name": "stderr",
     "output_type": "stream",
     "text": [
      "Processing time:  55%|█████▌    | 11/20 [01:30<01:10,  7.89s/it]"
     ]
    },
    {
     "name": "stdout",
     "output_type": "stream",
     "text": [
      "V_zero_new: [-3.16222382e+02 -4.87500049e-02  3.16222382e+02]\n"
     ]
    },
    {
     "name": "stderr",
     "output_type": "stream",
     "text": [
      "Processing time:  60%|██████    | 12/20 [01:37<01:01,  7.69s/it]"
     ]
    },
    {
     "name": "stdout",
     "output_type": "stream",
     "text": [
      "V_zero_new: [-110.39016104   -0.13975001    0.13975001  110.39016104]\n"
     ]
    },
    {
     "name": "stderr",
     "output_type": "stream",
     "text": [
      "Processing time:  65%|██████▌   | 13/20 [01:45<00:52,  7.56s/it]"
     ]
    },
    {
     "name": "stdout",
     "output_type": "stream",
     "text": [
      "V_zero_new: [-69.13945691  -0.22315002   0.22315002  69.13945691]\n"
     ]
    },
    {
     "name": "stderr",
     "output_type": "stream",
     "text": [
      "Processing time:  70%|███████   | 14/20 [01:52<00:44,  7.43s/it]"
     ]
    },
    {
     "name": "stdout",
     "output_type": "stream",
     "text": [
      "V_zero_new: [-51.40755514  -0.30015003   0.30015003  51.40755514]\n"
     ]
    },
    {
     "name": "stderr",
     "output_type": "stream",
     "text": [
      "Processing time:  75%|███████▌  | 15/20 [01:59<00:36,  7.39s/it]"
     ]
    },
    {
     "name": "stdout",
     "output_type": "stream",
     "text": [
      "V_zero_new: [-41.51995415  -0.37155004   0.37155004  41.51995415]\n"
     ]
    },
    {
     "name": "stderr",
     "output_type": "stream",
     "text": [
      "Processing time:  80%|████████  | 16/20 [02:06<00:29,  7.34s/it]"
     ]
    },
    {
     "name": "stdout",
     "output_type": "stream",
     "text": [
      "V_zero_new: [-35.20105352  -0.43825004   0.43825004  35.20105352]\n"
     ]
    },
    {
     "name": "stderr",
     "output_type": "stream",
     "text": [
      "Processing time:  85%|████████▌ | 17/20 [02:13<00:21,  7.24s/it]"
     ]
    },
    {
     "name": "stdout",
     "output_type": "stream",
     "text": [
      "V_zero_new: [-30.80605308  -0.50075005   0.50075005  30.80605308]\n"
     ]
    },
    {
     "name": "stderr",
     "output_type": "stream",
     "text": [
      "Processing time:  90%|█████████ | 18/20 [02:20<00:14,  7.16s/it]"
     ]
    },
    {
     "name": "stdout",
     "output_type": "stream",
     "text": [
      "V_zero_new: [-27.56695276  -0.55965006   0.55965006  27.56695276]\n"
     ]
    },
    {
     "name": "stderr",
     "output_type": "stream",
     "text": [
      "Processing time:  95%|█████████▌| 19/20 [02:28<00:07,  7.20s/it]"
     ]
    },
    {
     "name": "stdout",
     "output_type": "stream",
     "text": [
      "V_zero_new: [-25.07715251  -0.61515006   0.61515006  25.07715251]\n"
     ]
    },
    {
     "name": "stderr",
     "output_type": "stream",
     "text": [
      "Processing time: 100%|██████████| 20/20 [02:35<00:00,  7.76s/it]"
     ]
    },
    {
     "name": "stdout",
     "output_type": "stream",
     "text": [
      "V_zero_new: [-23.10095231  -0.66785007   0.66785007  23.10095231]\n",
      "Minimum V_zero: -316.2223816222382\n",
      "Maximum V_zero: 316.2223816222381\n"
     ]
    },
    {
     "name": "stderr",
     "output_type": "stream",
     "text": [
      "\n"
     ]
    }
   ],
   "source": [
    "import numpy as np\n",
    "import matplotlib.pyplot as plt\n",
    "from tqdm import tqdm  \n",
    "\n",
    "# Define the ranges for L and R\n",
    "L_values = np.linspace(0.05, 1.95, 20)\n",
    "#L_values = [0.05,  0.95, 1.05,  2]\n",
    "R = 1\n",
    "\n",
    "# Initialize matrices for signs_J1 and signs_J2\n",
    "lenL = len(L_values)\n",
    "num_subintervals = 50  \n",
    "\n",
    "signs_J1 = np.zeros((lenL, num_subintervals))\n",
    "signs_J2 = np.zeros((lenL, num_subintervals))\n",
    "V_critic = np.zeros((lenL, num_subintervals))\n",
    "\n",
    "# Initialize min_V and max_V for plots\n",
    "min_V = 500  # Initialize to a large value\n",
    "max_V = -500  # Initialize to a small value\n",
    "\n",
    "for i, L in tqdm(enumerate(L_values), total=len(L_values), desc='Processing time'):\n",
    "    V_range = np.linspace(-500, 500, int(1e7))  # Adjust the number of points as needed\n",
    "    alpha, beta, z1, z2, V1_range, V2_range, V3_range = calculate_voltage_ranges(L, R)\n",
    "\n",
    "\n",
    "    c10a, c20a, c10b, c20b, phi0a, phi0b, y0, J10, J20 = zeroth_order_terms(V_range, alpha, beta, L, R, z1, z2)\n",
    "    c11a, c21a, c11b, c21b, phi1a, phi1b, y1, J11, J21 = first_order_terms(V_range, alpha, beta, L, R, z1, z2)\n",
    "    c12a, c22a, c12b, c22b, phi2a, phi2b, y2, J12, J22 = second_order_terms(V_range, alpha, beta, L, R, z1, z2)\n",
    "    J1_prd2 = J10 * J11\n",
    "    J2_prd2 = J20 * J21\n",
    "\n",
    "    # Find indices of values very close to zero in J1_prd2 and J2_prd2\n",
    "    epsilon = 1e-3  # Adjust this value as needed\n",
    "    zero_indices1 = np.where(np.abs(J1_prd2) <  epsilon)[0]\n",
    "    zero_indices2 = np.where(np.abs(J2_prd2) <  epsilon)[0]\n",
    "\n",
    "\n",
    "    # Keep one element per consecutive sequence in zero_indices1 and zero_indices2\n",
    "    zero_indices1 = keep_min_abs_per_consecutive(zero_indices1, J1_prd2)\n",
    "    zero_indices2 = keep_min_abs_per_consecutive(zero_indices2, J2_prd2)\n",
    "\n",
    "\n",
    "    # Get corresponding values of V_range for zero values in J1_prd2 and J2_prd2\n",
    "    V_zero_values1 = V_range[zero_indices1]\n",
    "    V_zero_values2 = V_range[zero_indices2]\n",
    "    #print('V1=', V_zero_values1)\n",
    "    #print('V2=', V_zero_values2)\n",
    "\n",
    "    # Combine the zero values\n",
    "    V_combined = np.concatenate([V_zero_values1, V_zero_values2])\n",
    "\n",
    "    # Rearrange to have V_zero\n",
    "    V_zero = np.sort(V_combined)\n",
    "  \n",
    "    # Remove close values in V_combined\n",
    "    V_zero = remove_close_values(V_zero)\n",
    "    print('V_zero_new:', V_zero)\n",
    "\n",
    "    # Find the length of V_zero\n",
    "    lng = len(V_zero)\n",
    "\n",
    "    # Create subintervals\n",
    "    if lng > 0:\n",
    "        subintervals = [\n",
    "                  np.linspace(V_zero[0]-80, V_zero[0], num_subintervals)\n",
    "                ] + [\n",
    "                  np.linspace(V_zero[i], V_zero[i + 1], num_subintervals) for i in range(lng - 1)\n",
    "                ] + [\n",
    "                  np.linspace(V_zero[-1], V_zero[-1]+80, num_subintervals)\n",
    "                ]\n",
    "    else:\n",
    "        subintervals = [V_range[0], V_range[-1]]\n",
    "    # Check the signs of J1_prd2 and J2_prd2 at the midpoints of subintervals\n",
    "    midpoints = [np.mean(interval) for interval in subintervals]\n",
    "    signs_J1_prd2 = np.sign(J10 * J11)\n",
    "    signs_J2_prd2 = np.sign(J20 * J21 )\n",
    "\n",
    "    # Check and remove points where both J1_prd2 and J2_prd2 have the same sign across consecutive subintervals\n",
    "    new_V_zero = [V_zero[0]]\n",
    "    for s in range(1, len(V_zero) - 1):\n",
    "        idx = np.searchsorted(midpoints, V_zero[s])\n",
    "        if signs_J1_prd2[idx] != signs_J1_prd2[idx - 1] or signs_J2_prd2[idx] != signs_J2_prd2[idx - 1]:\n",
    "            new_V_zero.append(V_zero[s])\n",
    "    new_V_zero.append(V_zero[-1])\n",
    "\n",
    "    # Update V_zero\n",
    "    V_zero = np.array(new_V_zero)\n",
    "\n",
    "    # Update the length of V_zero\n",
    "    lng = len(V_zero)\n",
    "\n",
    "    # Create new subintervals using np.linspace\n",
    "    if lng > 0:\n",
    "        min_V = min(min_V, np.min(V_zero))\n",
    "        max_V = max(max_V, np.max(V_zero))\n",
    "        subintervals = [\n",
    "                  np.linspace(V_zero[0]-80, V_zero[0], num_subintervals)\n",
    "                ] + [\n",
    "                  np.linspace(V_zero[i], V_zero[i + 1], num_subintervals) for i in range(lng - 1)\n",
    "                ] + [\n",
    "                  np.linspace(V_zero[-1], V_zero[-1]+80, num_subintervals)\n",
    "                ]\n",
    "    else:\n",
    "        subintervals = [V_range[0], V_range[-1]]\n",
    "\n",
    "  \n",
    "    signs_J1_temp = np.zeros(num_subintervals)\n",
    "    signs_J2_temp = np.zeros(num_subintervals)\n",
    "\n",
    "    for k, interval in enumerate(subintervals):\n",
    "        start_point = interval[0]\n",
    "        end_point = interval[-1]\n",
    "        interval_range = np.linspace(start_point, end_point, num_subintervals)\n",
    "        c10a, c20a, c10b, c20b, phi0a, phi0b, y0, J10, J20 = zeroth_order_terms(interval_range, alpha, beta, L, R, z1, z2)\n",
    "        c11a, c21a, c11b, c21b, phi1a, phi1b, y1, J11, J21 = first_order_terms(interval_range, alpha, beta, L, R, z1, z2)\n",
    "        c12a, c22a, c12b, c22b, phi2a, phi2b, y2, J12, J22 = second_order_terms(interval_range, alpha, beta, L, R, z1, z2)\n",
    "        J1_prd22 = J10 * J11\n",
    "        J2_prd22 = J20 * J21\n",
    "\n",
    "        midpoint = (start_point + end_point) / 2\n",
    "        # Find the index in interval_range closest to the midpoint\n",
    "        mid_index = np.abs(interval_range - midpoint).argmin()\n",
    "\n",
    "        #mid_value = interval_range[midpoint_index]\n",
    "\n",
    "        # Append the signs for the current L\n",
    "        sign_J1_prd22 = np.sign(J1_prd22[mid_index])\n",
    "        sign_J2_prd22 = np.sign(J2_prd22[mid_index])\n",
    "\n",
    "\n",
    "        # Append the signs for the current L to the temporary arrays\n",
    "        signs_J1_temp[k] = 1 if sign_J1_prd22 > 0 else -1\n",
    "        signs_J2_temp[k] = 1 if sign_J2_prd22 > 0 else -1\n",
    "\n",
    "    # Assign the temporary arrays to the i-th row of signs_J1 and signs_J2\n",
    "    signs_J1[i, :] = signs_J1_temp\n",
    "    signs_J2[i, :] = signs_J2_temp\n",
    "    V_critic[i, :lng] = V_zero\n",
    "\n",
    "print(\"Minimum V_zero:\", min_V)\n",
    "print(\"Maximum V_zero:\", max_V)\n"
   ]
  },
  {
   "cell_type": "code",
   "execution_count": 12,
   "id": "d5a18505",
   "metadata": {
    "execution": {
     "iopub.execute_input": "2023-12-08T08:00:45.002728Z",
     "iopub.status.busy": "2023-12-08T08:00:45.002393Z",
     "iopub.status.idle": "2023-12-08T08:00:45.006507Z",
     "shell.execute_reply": "2023-12-08T08:00:45.005585Z"
    },
    "papermill": {
     "duration": 0.017454,
     "end_time": "2023-12-08T08:00:45.008373",
     "exception": false,
     "start_time": "2023-12-08T08:00:44.990919",
     "status": "completed"
    },
    "tags": []
   },
   "outputs": [],
   "source": [
    "#ch = 0\n",
    "#print(signs_J1.shape)\n",
    "#print(signs_J1[ch,:])\n",
    "#print(V_critic.shape)\n",
    "#print(V_critic[ch,:])\n",
    "#print(len(V_critic))\n",
    "#lenL"
   ]
  },
  {
   "cell_type": "code",
   "execution_count": 13,
   "id": "439fe574",
   "metadata": {
    "execution": {
     "iopub.execute_input": "2023-12-08T08:00:45.030763Z",
     "iopub.status.busy": "2023-12-08T08:00:45.030195Z",
     "iopub.status.idle": "2023-12-08T08:00:45.992294Z",
     "shell.execute_reply": "2023-12-08T08:00:45.991478Z"
    },
    "papermill": {
     "duration": 0.975987,
     "end_time": "2023-12-08T08:00:45.994644",
     "exception": false,
     "start_time": "2023-12-08T08:00:45.018657",
     "status": "completed"
    },
    "tags": []
   },
   "outputs": [],
   "source": [
    "# Create a matrix to store the heatmap values\n",
    "Jsign_func1 = np.zeros((lenL, len(V_range)))\n",
    "for i in range(len(V_critic)):\n",
    "    left_index = np.searchsorted(V_range,V_critic[i, 0])\n",
    "    #print(V_range[left_index])\n",
    "    #print('left=',left_index)\n",
    "    Jsign_func1[i, :left_index] = signs_J1[i, 0]\n",
    "    \n",
    "    for j in range(len(V_critic[i]) - 1):\n",
    "        if (V_critic[i, j] == 0 and V_critic[i, j+1] == 0) :\n",
    "            break\n",
    "            \n",
    "        elif (V_critic[i, j] != 0 and V_critic[i, j+1] == 0) :\n",
    "            right_index = np.searchsorted(V_range,V_critic[i, j])\n",
    "            #print('right=',left_index)\n",
    "            Jsign_func1[i, right_index:] = signs_J1[i, j+1]\n",
    "\n",
    "        # Find the indices corresponding to the current segment\n",
    "        else:\n",
    "            start_index = np.searchsorted(V_range, V_critic[i, j])\n",
    "            end_index = np.searchsorted(V_range, V_critic[i, j + 1])\n",
    "            # Assign values from S to the corresponding segment in H\n",
    "            Jsign_func1[i, start_index:end_index] = signs_J1[i, j + 1]\n",
    "        \n",
    "\n"
   ]
  },
  {
   "cell_type": "code",
   "execution_count": 14,
   "id": "126afb79",
   "metadata": {
    "execution": {
     "iopub.execute_input": "2023-12-08T08:00:46.017147Z",
     "iopub.status.busy": "2023-12-08T08:00:46.016433Z",
     "iopub.status.idle": "2023-12-08T08:00:46.981899Z",
     "shell.execute_reply": "2023-12-08T08:00:46.981013Z"
    },
    "papermill": {
     "duration": 0.979182,
     "end_time": "2023-12-08T08:00:46.984306",
     "exception": false,
     "start_time": "2023-12-08T08:00:46.005124",
     "status": "completed"
    },
    "tags": []
   },
   "outputs": [],
   "source": [
    "\n",
    "# Create a matrix to store the heatmap values\n",
    "Jsign_func2 = np.zeros((lenL, len(V_range)))\n",
    "for i in range(len(V_critic)):\n",
    "    left_index = np.searchsorted(V_range,V_critic[i, 0])\n",
    "    Jsign_func2[i, :left_index] = signs_J2[i, 0]\n",
    "    for j in range(len(V_critic[i]) - 1):\n",
    "        if (V_critic[i, j] == 0 and V_critic[i, j+1] == 0) :\n",
    "            break\n",
    "            \n",
    "        elif (V_critic[i, j] != 0 and V_critic[i, j+1] == 0) :\n",
    "            right_index = np.searchsorted(V_range,V_critic[i, j])\n",
    "            Jsign_func2[i, right_index:] = signs_J2[i, j+1]\n",
    "\n",
    "        # Find the indices corresponding to the current segment\n",
    "        else:\n",
    "            start_index = np.searchsorted(V_range, V_critic[i, j])\n",
    "            end_index = np.searchsorted(V_range, V_critic[i, j + 1])\n",
    "            # Assign values from S to the corresponding segment in H\n",
    "            Jsign_func2[i, start_index:end_index] = signs_J2[i, j + 1]"
   ]
  },
  {
   "cell_type": "code",
   "execution_count": 15,
   "id": "9b44109f",
   "metadata": {
    "execution": {
     "iopub.execute_input": "2023-12-08T08:00:47.007178Z",
     "iopub.status.busy": "2023-12-08T08:00:47.006873Z",
     "iopub.status.idle": "2023-12-08T08:01:01.544676Z",
     "shell.execute_reply": "2023-12-08T08:01:01.543760Z"
    },
    "papermill": {
     "duration": 14.551451,
     "end_time": "2023-12-08T08:01:01.546843",
     "exception": false,
     "start_time": "2023-12-08T08:00:46.995392",
     "status": "completed"
    },
    "tags": []
   },
   "outputs": [
    {
     "name": "stderr",
     "output_type": "stream",
     "text": [
      "/opt/conda/lib/python3.10/site-packages/matplotlib/image.py:175: UserWarning: Data with more than 2**23 columns cannot be accurately displayed. Downsampling to less than 2**23 columns before displaying. To remove this warning, manually downsample your data.\n",
      "  warnings.warn(msg.format(n='2**23 columns'))\n"
     ]
    },
    {
     "data": {
      "image/png": "[encoded data removed]",
      "text/plain": [
       "<Figure size 1200x600 with 4 Axes>"
      ]
     },
     "metadata": {},
     "output_type": "display_data"
    }
   ],
   "source": [
    "import matplotlib.pyplot as plt\n",
    "\n",
    "# Assuming Jsign_func2 is already defined\n",
    "\n",
    "# Create a 1x2 subplot grid\n",
    "fig, axs = plt.subplots(1, 2, figsize=(12, 6))\n",
    "\n",
    "# Plot the heatmap for signs_J1\n",
    "img1 = axs[0].imshow(Jsign_func1, cmap='coolwarm', extent=[V_range[0], V_range[-1], L_values[0], L_values[-1]], aspect='auto', vmin=-1, vmax=1)\n",
    "axs[0].set_xlabel('Voltage (V)')\n",
    "axs[0].set_ylabel('L_values')\n",
    "axs[0].set_title(r'Heatmap for signs of $J_1$')\n",
    "axs[0].set_xlim(min_V, max_V)\n",
    "axs[0].grid(True)\n",
    "\n",
    "# Plot the heatmap for signs_J2\n",
    "img2 = axs[1].imshow(Jsign_func2, cmap='coolwarm', extent=[V_range[0], V_range[-1], L_values[0], L_values[-1]], aspect='auto', vmin=-1, vmax=1)\n",
    "axs[1].set_xlabel('Voltage (V)')\n",
    "axs[1].set_ylabel('L_values')\n",
    "axs[1].set_title(r'Heatmap for signs of $J_2$')\n",
    "axs[1].set_xlim(min_V, max_V)\n",
    "axs[1].grid(True)\n",
    "\n",
    "# Add legends\n",
    "fig.colorbar(img1, ax=axs[0])\n",
    "fig.colorbar(img2, ax=axs[1])\n",
    "\n",
    "# Adjust layout for better spacing\n",
    "plt.tight_layout()\n",
    "plt.show()\n"
   ]
  },
  {
   "cell_type": "code",
   "execution_count": 16,
   "id": "72c40307",
   "metadata": {
    "execution": {
     "iopub.execute_input": "2023-12-08T08:01:01.571123Z",
     "iopub.status.busy": "2023-12-08T08:01:01.570293Z",
     "iopub.status.idle": "2023-12-08T08:01:03.481739Z",
     "shell.execute_reply": "2023-12-08T08:01:03.480901Z"
    },
    "papermill": {
     "duration": 1.925915,
     "end_time": "2023-12-08T08:01:03.484070",
     "exception": false,
     "start_time": "2023-12-08T08:01:01.558155",
     "status": "completed"
    },
    "tags": []
   },
   "outputs": [],
   "source": [
    "# Create a 3D matrix to store both signs_J1 and signs_J2\n",
    "Jsign_matrix = np.zeros((2, lenL, len(V_range)))\n",
    "\n",
    "# Define a list for both signs_J1 and signs_J2\n",
    "sign_matrices = [signs_J1, signs_J2]\n",
    "\n",
    "for idx, signs in enumerate(sign_matrices):\n",
    "    for i in range(len(V_critic)):\n",
    "        left_index = np.searchsorted(V_range, V_critic[i, 0])\n",
    "        Jsign_matrix[idx, i, :left_index] = signs[i, 0]\n",
    "        for j in range(len(V_critic[i]) - 1):\n",
    "            if V_critic[i, j] == 0 and V_critic[i, j + 1] == 0:\n",
    "                break\n",
    "            # Find the indices corresponding to the current segment\n",
    "            elif V_critic[i, j] != 0 and V_critic[i, j + 1] == 0:\n",
    "                right_index = np.searchsorted(V_range, V_critic[i, j])\n",
    "                Jsign_matrix[idx, i, right_index:] = signs[i, j + 1]\n",
    "                \n",
    "            else: \n",
    "                start_index = np.searchsorted(V_range, V_critic[i, j])\n",
    "                end_index = np.searchsorted(V_range, V_critic[i, j + 1])\n",
    "\n",
    "                # Assign values from S to the corresponding segment in H\n",
    "                Jsign_matrix[idx, i, start_index:end_index] = signs[i, j + 1]\n",
    "\n",
    "\n"
   ]
  },
  {
   "cell_type": "code",
   "execution_count": 17,
   "id": "acf24618",
   "metadata": {
    "execution": {
     "iopub.execute_input": "2023-12-08T08:01:03.507954Z",
     "iopub.status.busy": "2023-12-08T08:01:03.507651Z",
     "iopub.status.idle": "2023-12-08T08:01:16.206581Z",
     "shell.execute_reply": "2023-12-08T08:01:16.205741Z"
    },
    "papermill": {
     "duration": 12.713192,
     "end_time": "2023-12-08T08:01:16.208811",
     "exception": false,
     "start_time": "2023-12-08T08:01:03.495619",
     "status": "completed"
    },
    "tags": []
   },
   "outputs": [
    {
     "data": {
      "image/png": "[encoded data removed]",
      "text/plain": [
       "<Figure size 640x480 with 2 Axes>"
      ]
     },
     "metadata": {},
     "output_type": "display_data"
    }
   ],
   "source": [
    "# Plot the heatmap with specified color scale limits for both signs_J1 and signs_J2\n",
    "plt.imshow(Jsign_matrix[0, :, :], cmap='coolwarm', extent=[V_range[0], V_range[-1], L_values[-1], L_values[0]], aspect='auto', vmin=-1, vmax=1)\n",
    "plt.imshow(Jsign_matrix[1, :, :], cmap='coolwarm', extent=[V_range[0], V_range[-1], L_values[-1], L_values[0]], aspect='auto', vmin=-1, vmax=1, alpha=0.5)  # Alpha blends the two heatmaps\n",
    "plt.xlabel('Voltage (V)')\n",
    "plt.ylabel('L_values')\n",
    "plt.title('Overlap of Same Sign Regions for $J_1$ and $J_2$')\n",
    "plt.colorbar()\n",
    "\n",
    "# Set x-axis limits\n",
    "plt.xlim(min_V, max_V)\n",
    "\n",
    "plt.show()\n",
    "\n"
   ]
  }
 ],
 "metadata": {
  "kaggle": {
   "accelerator": "nvidiaTeslaT4",
   "dataSources": [],
   "dockerImageVersionId": 30588,
   "isGpuEnabled": true,
   "isInternetEnabled": true,
   "language": "python",
   "sourceType": "notebook"
  },
  "kernelspec": {
   "display_name": "Python 3",
   "language": "python",
   "name": "python3"
  },
  "language_info": {
   "codemirror_mode": {
    "name": "ipython",
    "version": 3
   },
   "file_extension": ".py",
   "mimetype": "text/x-python",
   "name": "python",
   "nbconvert_exporter": "python",
   "pygments_lexer": "ipython3",
   "version": "3.10.12"
  },
  "papermill": {
   "default_parameters": {},
   "duration": 212.663695,
   "end_time": "2023-12-08T08:01:16.839822",
   "environment_variables": {},
   "exception": null,
   "input_path": "__notebook__.ipynb",
   "output_path": "__notebook__.ipynb",
   "parameters": {},
   "start_time": "2023-12-08T07:57:44.176127",
   "version": "2.4.0"
  }
 },
 "nbformat": 4,
 "nbformat_minor": 5
}
