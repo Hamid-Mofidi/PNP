{
 "cells": [
  {
   "cell_type": "code",
   "execution_count": 1,
   "id": "27ab0c9a",
   "metadata": {
    "_cell_guid": "b1076dfc-b9ad-4769-8c92-a6c4dae69d19",
    "_uuid": "8f2839f25d086af736a60e9eeb907d3b93b6e0e5",
    "execution": {
     "iopub.execute_input": "2023-12-12T05:34:56.657114Z",
     "iopub.status.busy": "2023-12-12T05:34:56.656808Z",
     "iopub.status.idle": "2023-12-12T05:34:56.685248Z",
     "shell.execute_reply": "2023-12-12T05:34:56.684539Z"
    },
    "papermill": {
     "duration": 0.037976,
     "end_time": "2023-12-12T05:34:56.687494",
     "exception": false,
     "start_time": "2023-12-12T05:34:56.649518",
     "status": "completed"
    },
    "tags": []
   },
   "outputs": [],
   "source": [
    "import numpy as np\n",
    "#!pip install cupy\n",
    "#import cupy as np \n",
    "import matplotlib.pyplot as plt\n",
    "from tqdm import tqdm"
   ]
  },
  {
   "cell_type": "code",
   "execution_count": 2,
   "id": "ae6fd3bb",
   "metadata": {
    "execution": {
     "iopub.execute_input": "2023-12-12T05:34:56.700296Z",
     "iopub.status.busy": "2023-12-12T05:34:56.700028Z",
     "iopub.status.idle": "2023-12-12T05:34:56.710683Z",
     "shell.execute_reply": "2023-12-12T05:34:56.709829Z"
    },
    "papermill": {
     "duration": 0.019273,
     "end_time": "2023-12-12T05:34:56.712728",
     "exception": false,
     "start_time": "2023-12-12T05:34:56.693455",
     "status": "completed"
    },
    "tags": []
   },
   "outputs": [],
   "source": [
    "def zeroth_order_terms(V, alpha, beta, L, R, z1, z2):\n",
    "    c10a = (1/z1) * ((1 - alpha) * L + alpha * R)\n",
    "    c20a = (-z1/z2) * c10a\n",
    "    c10b = (1/z1) * ((1 - beta) * L + beta * R)\n",
    "    c20b = (-z1/z2) * c10b\n",
    "    phi0a = V * (np.log(((1 - alpha) * L + alpha * R)) - np.log(R)) / (np.log(L) - np.log(R))\n",
    "    phi0b = V * (np.log(((1 - beta)  * L + beta * R)) - np.log(R)) / (np.log(L) - np.log(R))\n",
    "    y0 = ((1.0 / ((z1 - z2) * (L - R))) * np.log(((1 - alpha) * L + alpha * R) / ((1 - beta) * L + beta * R)))\n",
    "    J10 = ((L - R) / (z1 * (np.log(L) - np.log(R)))) * (z1 * V + np.log(L) - np.log(R))\n",
    "    J20 = ((R - L) / (z2 * (np.log(L) - np.log(R)))) * (z2 * V + np.log(L) - np.log(R))\n",
    "    return c10a, c20a, c10b, c20b, phi0a, phi0b, y0, J10, J20"
   ]
  },
  {
   "cell_type": "code",
   "execution_count": 3,
   "id": "86782e75",
   "metadata": {
    "execution": {
     "iopub.execute_input": "2023-12-12T05:34:56.725893Z",
     "iopub.status.busy": "2023-12-12T05:34:56.725636Z",
     "iopub.status.idle": "2023-12-12T05:34:56.743250Z",
     "shell.execute_reply": "2023-12-12T05:34:56.742388Z"
    },
    "papermill": {
     "duration": 0.026493,
     "end_time": "2023-12-12T05:34:56.745190",
     "exception": false,
     "start_time": "2023-12-12T05:34:56.718697",
     "status": "completed"
    },
    "tags": []
   },
   "outputs": [],
   "source": [
    "def first_order_terms(V, alpha, beta, L, R, z1, z2):\n",
    "    c10a, c20a, c10b, c20b, phi0a, phi0b, y0, J10, J20 = zeroth_order_terms(V, alpha, beta, L, R, z1, z2)\n",
    "    c11a = (z2 * alpha * (phi0b - phi0a) / (z1 - z2)) - (1 / (2 * (z1 - z2)))\n",
    "    c21a = (z1 * alpha * (phi0b - phi0a) / (z2 - z1)) - (1 / (2 * (z2 - z1)))\n",
    "    c11b = (z2 * (1 - beta) * (phi0a - phi0b) / (z1 - z2)) - (1 / (2 * (z1 - z2)))\n",
    "    c21b = (z1 * (1 - beta) * (phi0a - phi0b) / (z2 - z1)) - (1 / (2 * (z2 - z1)))\n",
    "    c1L  = L / z1\n",
    "    c1R  = R / z1\n",
    "    T0   =   J10 +  J20\n",
    "\n",
    "    A = -((beta - alpha) * (L - R) ** 2) / (((1 - alpha) * L + alpha * R) * ((1 - beta) * L + beta * R) * (np.log(L) - np.log(R)))\n",
    "    B = ( np.log(((1 - beta) * L + beta * R)) - np.log(((1 - alpha) * L + alpha * R))  ) / A\n",
    "\n",
    "    lambda_val = V / (np.log(L) - np.log(R))\n",
    "    phi1a = ((1 + z1 * lambda_val) * (1 + z2 * lambda_val) * (c10b - c10a) * (np.log(c1L) - np.log(c10a))) / (z1 * (z1 - z2) * c10a * c10b * (np.log(c1R) - np.log(c1L))) \\\n",
    "                  + (1 / (2 * z1 * (z1 - z2) * c10a)) + (lambda_val * ((z2 * alpha * (phi0b - phi0a)) / ((z1 - z2) * c10a) ) )\n",
    "    phi1b = ((1 + z1 * lambda_val) * (1 + z2 * lambda_val) * (c10b - c10a) * (np.log(c1R) - np.log(c10b))) / (z1 * (z1 - z2) * c10a * c10b * (np.log(c1R) - np.log(c1L))) \\\n",
    "                  + (1 / (2 * z1 * (z1 - z2) * c10b)) + (lambda_val * ((z2 * (1 - beta) * (phi0a - phi0b)) / ((z1 - z2) * c10b) ) )\n",
    "    y1 = (((1 - beta) * c1L + alpha * c1R) * (phi0a - phi0b)) / (z1 * (z1 - z2) * T0 * c10a * c10b) \\\n",
    "           + ((np.log(c10a) - np.log(c10b)) * (phi0a - phi0b)) / (z1 * (z1 - z2) * T0 * (c1L - c1R)) \\\n",
    "            - (((z2 * J10 + z1 * J20) * (c10a - c10b)) / (z1 ** 2 * z2 * (z1 - z2) * T0 ** 2 * c10a * c10b))\n",
    "    J11 = ( (A * (z2 * (1 - B) * V + np.log(L) - np.log(R))) / ((z1 - z2) * (np.log(L) - np.log(R))**2) ) * (z1 * V + np.log(L) - np.log(R))\n",
    "    J21 = ( (A * (z1 * (1 - B) * V + np.log(L) - np.log(R))) / ((z2 - z1) * (np.log(L) - np.log(R))**2) ) * (z2 * V + np.log(L) - np.log(R))\n",
    "\n",
    "\n",
    "    return c11a, c21a, c11b, c21b, phi1a, phi1b, y1, J11, J21"
   ]
  },
  {
   "cell_type": "code",
   "execution_count": 4,
   "id": "7e582959",
   "metadata": {
    "execution": {
     "iopub.execute_input": "2023-12-12T05:34:56.757988Z",
     "iopub.status.busy": "2023-12-12T05:34:56.757723Z",
     "iopub.status.idle": "2023-12-12T05:34:56.765943Z",
     "shell.execute_reply": "2023-12-12T05:34:56.764935Z"
    },
    "papermill": {
     "duration": 0.016776,
     "end_time": "2023-12-12T05:34:56.767923",
     "exception": false,
     "start_time": "2023-12-12T05:34:56.751147",
     "status": "completed"
    },
    "tags": []
   },
   "outputs": [],
   "source": [
    "def calculate_voltage_ranges(L, R):\n",
    "    alpha = 1/3\n",
    "    beta = 2/3\n",
    "    z1 = 1\n",
    "    z2 = -1\n",
    "\n",
    "    A = -((beta - alpha) * (L - R) ** 2) / (((1 - alpha) * L + alpha * R) * ((1 - beta) * L + beta * R) * (np.log(L) - np.log(R)))\n",
    "    B = ( np.log(((1 - beta) * L + beta * R)) - np.log(((1 - alpha) * L + alpha * R))  ) / A\n",
    "\n",
    "    Vq1 = (np.log(R) - np.log(L)) / (z2 * (1 - B))\n",
    "    Vq2 = (np.log(R) - np.log(L)) / (z1 * (1 - B))\n",
    "\n",
    "    Vqmin = np.min([Vq1, Vq2])\n",
    "    Vqmax = np.max([Vq1, Vq2])\n",
    "\n",
    "    V1_range = np.linspace(Vqmin-80, Vqmin, 200)\n",
    "    V2_range = np.linspace(Vqmin, Vqmax, 200)\n",
    "    V3_range = np.linspace(Vqmax, Vqmax+80, 200)\n",
    "\n",
    "    return alpha, beta, z1, z2, V1_range, V2_range, V3_range"
   ]
  },
  {
   "cell_type": "code",
   "execution_count": 5,
   "id": "4e5996ef",
   "metadata": {
    "execution": {
     "iopub.execute_input": "2023-12-12T05:34:56.781001Z",
     "iopub.status.busy": "2023-12-12T05:34:56.780745Z",
     "iopub.status.idle": "2023-12-12T05:34:56.832336Z",
     "shell.execute_reply": "2023-12-12T05:34:56.831617Z"
    },
    "papermill": {
     "duration": 0.06066,
     "end_time": "2023-12-12T05:34:56.834270",
     "exception": false,
     "start_time": "2023-12-12T05:34:56.773610",
     "status": "completed"
    },
    "tags": []
   },
   "outputs": [],
   "source": [
    " # Define the second order terms\n",
    "def second_order_terms(V, alpha, beta, L, R, z1, z2):\n",
    "    # Constants\n",
    "    c10a, c20a, c10b, c20b, phi0a, phi0b, y0, J10, J20 = zeroth_order_terms(V, alpha, beta, L, R, z1, z2)\n",
    "    c11a, c21a, c11b, c21b, phi1a, phi1b, y1, J11, J21 = first_order_terms(V, alpha, beta, L, R, z1, z2)\n",
    "    H1 = 1.0\n",
    "    phiL = V\n",
    "    phiR = 0.0\n",
    "    c1L  = L / z1\n",
    "    c1R  = R / z1\n",
    "    T0   = J10 +  J20\n",
    "    T1   = J11 +  J21\n",
    "    I1   = z1*J11 + z2*J21\n",
    "\n",
    "    # Intermediate calculations\n",
    "    A1 = -z1 * (c1L - c10a) / (alpha * H1 * (np.log(c1L) - np.log(c10a)))\n",
    "    B1 = z1 * (c10b - c1R) / ((1 - beta) * H1 * (np.log(c10b) - np.log(c1R)))\n",
    "    \n",
    "    A2_1 = (z1 * z2 * (phi1a - phi1b) / ((z1 - z2) * H1)) * (\n",
    "    (1 / z1) + (V - phi0a) / (np.log(c1L) - np.log(c10a)) - (V - phi0a) * (c1L - c10a) / ((np.log(c1L) - np.log(c10a))**2 * c10a) )\n",
    "\n",
    "    # A2:\n",
    "    A2_2 = (z1 * (c1L - c10a) / (alpha * H1 * (np.log(c1L) - np.log(c10a))) ) * (\n",
    "    z1 * z2 * alpha * (phi0b - phi0a) / (2 * (z1 * (z1 - z2) * c10a)**2) - (z1 + z2) / (6 * (z1 * (z1 - z2) * c10a)**2))    \n",
    "\n",
    "    A2_3 = (z1 * z2 * (phi0a - phi0b) / (H1 * (np.log(c1L) - np.log(c10a)) * (z1 - z2)**2) ) * (\n",
    "    (z1 - z2) * phi1a - ((z1 - z2) * (c1L - c10a) * phi1a / ((np.log(c1L) - np.log(c10a)) * c10a)) - 1 / (2 * z1 * c10a)\n",
    "    + (c1L - c10a) / (2 * z1 * (np.log(c1L) - np.log(c10a)) * c10a**2)\n",
    "    + z2 * (c11a + c21a) * (V - phi0a) * (c1L + c10a) / (2 * (np.log(c1L) - np.log(c10a)) * c10a**2) )\n",
    "\n",
    "    A2 = A2_1 - A2_2 - A2_3\n",
    "    \n",
    "    # B2:\n",
    "    B2_1 = (z1 * z2 * (phi1a - phi1b) / ((z1 - z2) * H1)) * (\n",
    "    (1 / z1) + phi0b / (np.log(c10b) - np.log(c1R)) - phi0b * (c10b - c1R) / ((np.log(c10b) - np.log(c1R))**2 * c10b))\n",
    "\n",
    "    B2_2 = (z1 * (c10b - c1R) / ((1 - beta) * H1 * (np.log(c10b) - np.log(c1R)))) * (\n",
    "    z1 * z2 * (1 - beta) * (phi0a - phi0b) / (2 * (z1 * (z1 - z2) * c10b)**2) - (z1 + z2) / (6 * (z1 * (z1 - z2) * c10b)**2))\n",
    "\n",
    "    B2_3 = (z1 * z2 * (phi0b - phi0a) / (H1 * (np.log(c10b) - np.log(c1R)) * (z1 - z2)**2)) * (\n",
    "    (z1 - z2) * phi1b - (z1 - z2) * (c10b - c1R) * phi1b / ((np.log(c10b) - np.log(c1R)) * c10b) - (1 / (2 * z1 * c10b))\n",
    "    + (c10b - c1R) / (2 * z1 * (np.log(c10b) - np.log(c1R)) * c10b**2)\n",
    "    + z2 * (c11b + c21b) * phi0b * (c1R + c10b) / (2 * (np.log(c10b) - np.log(c1R)) * c10b**2))\n",
    "\n",
    "\n",
    "    B2 = B2_1 + B2_2 - B2_3\n",
    "\n",
    "    # C:\n",
    "    C_1 = -(z1**2 * c11a + z2**2 * c21a) / (2 * (z1 * (z1 - z2) * c10a)**2)\n",
    "    C_2 = (z1**2 * c11b + z2**2 * c21b) / (2 * (z1 * (z1 - z2) * c10b)**2)\n",
    "    C_3 = (z1 + z2) * ((c10b)**2 - (c10a)**2) / (12 * (z1 * (z1 - z2) * c10a * c10b)**2)\n",
    "    C_4 = -I1 * y1\n",
    "    \n",
    "    C_5 = (z1 - z2) * (L - R) * V * y1 / (H1 * (np.log(L) - np.log(R)) * c10a) * (\n",
    "    (z2 * alpha * (phi0b - phi0a) / (z1 - z2)) - (c10a * (phi0a - phi0b) / (H1 * T0)) - 1 / (z1 - z2))\n",
    "    \n",
    "    C_6 = z2 * V / (2 * z1 * (z1 - z2)**2 * (np.log(L) - np.log(R))) * (1 / (c10a)**2 - 1 / (c10b)**2)\n",
    "    \n",
    "    C_7 = z1 * z2 * (phi1a - phi1b) * V / (np.log(L) - np.log(R)) * (\n",
    "        (1 / (z1 * (z1 - z2))) * (alpha / c10a + (1 - beta) / c10b) + y0 / H1)\n",
    "    \n",
    "    C_8 = -((z1**2 * z2**2 * V) / (2 * (np.log(L) - np.log(R)) ) ) * (T0 * y1 + T1 * y0)**2\n",
    "    \n",
    "    C_9 = (z1 * z2 * V * (phi0a - phi0b) * y0 / (H1 * c10a * (np.log(L) - np.log(R))) ) * (\n",
    "        z2 * alpha * (phi0b - phi0a) / (z1 - z2) - (1 / (z1 - z2)) ) \n",
    "    \n",
    "    C_10 = (J11 * V / (z1 * T0 * (np.log(L) - np.log(R))) ) * (1 / c10b - 1 / c10a)\n",
    "    \n",
    "    C_11 = (J10 * (phi0a - phi0b) * V) / (z1 * T0**2 * H1 * (np.log(L) - np.log(R))) * (\n",
    "        1 / c10b - 1 / c10a)\n",
    "\n",
    "    C = C_1 + C_2 + C_3 + C_4 + C_5 + C_6 + C_7 + C_8 + C_9 + C_10 + C_11\n",
    "    \n",
    "    \n",
    "    # Calculate c12a, c22a, c12b, c22b\n",
    "    c12a = -(z1 + 4 * z2) / (24 * z1 * (z1 - z2)**2 * c10a) - ((phi1a - phi1b) * alpha * z2) / (z1 - z2)\n",
    "    c22a = (4 * z1 + z2) / (24 * z1 * (z1 - z2)**2 * c10a) + ((phi1a - phi1b) * alpha * z1) / (z1 - z2)\n",
    "    c12b = -(z1 + 4 * z2) / (24 * z1 * (z1 - z2)**2 * c10b) + ((phi1a - phi1b) * (1 - beta) * z2) / (z1 - z2)\n",
    "    c22b = (4 * z1 + z2) / (24 * z1 * (z1 - z2)**2 * c10b) - ((phi1a - phi1b) * (1 - beta) * z1) / (z1 - z2)\n",
    "\n",
    "    # Calculate phi2a, phi2b\n",
    "    phi2a = (B1 * C - (z1 - z2) * y0 * B1 * A2 - z2 * y0 * B1 * (phi1b - phi1a) / H1 +\n",
    "              B2 - A2) / (A1 - B1 + (z1 - z2) * y0 * A1 * B1)\n",
    "    phi2b = (1 - (z1 - z2) * y0 * A1) * phi2a + C - (z1 - z2) * y0 * A2 - z2 * y0 * (phi1b - phi1a) / H1\n",
    "\n",
    "    # Calculate y2\n",
    "    y2_1 = ((phi1a - phi1b) * y0 / (H1 * T0)) - y1 / c10a * (\n",
    "    (z2 * alpha * (phi0b - phi0a) / (z1 - z2)) - c10a * (phi0a - phi0b) / (H1 * T0) - (1 / (z1 - z2)) )\n",
    "    \n",
    "    y2_2 = (1 / (2 * z1**2 * (z1 - z2)**2 * T0)) * (1 / (c10a)**2 - 1 / (c10b)**2)\n",
    "    \n",
    "    y2_3 = ((phi1a - phi1b) / (z1 * (z1 - z2) * T0)) * (alpha / c10a + (1 - beta) / c10b)\n",
    "    \n",
    "    y2_4 = (-z1 * z2 / (2 * T0)) * (T0 * y1 + T1 * y0)**2\n",
    "    \n",
    "    y2_5 = (phi0a - phi0b) * y0 / (H1 * T0 * c10a) * (\n",
    "        z2 * alpha * (phi0b - phi0a) / (z1 - z2) - 1 / (z1 - z2) )\n",
    "    \n",
    "    y2_6 = J11 / (z1**2 * z2 * T0**2) * (1 / c10b - 1 / c10a)\n",
    "    \n",
    "    y2_7 = J10 * (phi0a - phi0b) / (z1**2 * z2 * T0**3 * H1) * (1 / c10b - 1 / c10a)\n",
    "\n",
    "    y2 = y2_1 + y2_2 + y2_3 + y2_4 + y2_5 + y2_6 + y2_7\n",
    "\n",
    "\n",
    "\n",
    "\n",
    "\n",
    "    # Calculate J12:\n",
    "    J12_term1 = (z1 * z2 * (phi1a - phi1b) / (H1 * (z1 - z2)))\n",
    "    J12_term1 *= ((1 / z1) + (phiL - phi0a) / (np.log(c1L) - np.log(c10a)) - (phiL - phi0a) * (c1L - c10a) / ((np.log(c1L) - np.log(c10a))**2 * c10a))\n",
    "\n",
    "    J12_term2 = z1 * (c1L - c10a) / (alpha * H1 * (np.log(c1L) - np.log(c10a)))\n",
    "    J12_term2 *= (phi2a + z1 * z2 * alpha * (phi0b - phi0a) / (2 * (z1 * (z1 - z2) * c10a)**2) - (z1 + z2) / (6 * (z1 * (z1 - z2) * c10a)**2))\n",
    "\n",
    "    J12_term3 = z1 * z2 * (phi0a - phi0b) / (H1 * (np.log(c1L) - np.log(c10a)) * (z1 - z2)**2)\n",
    "    J12_term3 *= ((z1 - z2) * phi1a - ( (z1 - z2) * (c1L - c10a) * phi1a / ((np.log(c1L) - np.log(c10a)) * c10a) ) - 1 / (2 * z1 * c10a) + (c1L - c10a) / (2 * z1 * (np.log(c1L) - np.log(c10a)) * (c10a**2)) + z2 * (c11a + c21a) * (phiL - phi0a) * (c1L + c10a) / (2 * (np.log(c1L) - np.log(c10a)) * (c10a**2)))\n",
    "\n",
    "    J12 = J12_term1 - J12_term2 - J12_term3\n",
    "\n",
    "    # Calculate J22:\n",
    "    J22_term1 = (z1 * z2 * (phi1a - phi1b) / (H1 * (z2 - z1)))\n",
    "    J22_term1 *= ((1 / z2) + (phiL - phi0a) / (np.log(c1L) - np.log(c10a)) - (phiL - phi0a) * (c1L - c10a) / ((np.log(c1L) - np.log(c10a))**2 * c10a))\n",
    "\n",
    "    J22_term2 = z1 * (c1L - c10a) / (alpha * H1 * (np.log(c1L) - np.log(c10a)))\n",
    "    J22_term2 *= (phi2a + z1 * z2 * alpha * (phi0b - phi0a) / (2 * (z1 * (z1 - z2) * c10a)**2) - (z1 + z2) / (6 * (z1 * (z1 - z2) * c10a)**2))\n",
    "\n",
    "    J22_term3 = z1 * z2 * (phi0a - phi0b) / (H1 * (np.log(c1L) - np.log(c10a)) * (z1 - z2)**2)\n",
    "    J22_term3 *= (z1 - z2) * phi1a - (z1 - z2) * (c1L - c10a) * phi1a / ((np.log(c1L) - np.log(c10a)) * c10a) - 1 / (2 * z1 * c10a) + (c1L - c10a) / (2 * z1 * (np.log(c1L) - np.log(c10a)) * (c10a**2))+  (z2 * (c11a + c21a) * (phiL - phi0a) * (c1L + c10a) / (2 * (np.log(c1L) - np.log(c10a)) * (c10a**2)))\n",
    "\n",
    "    J22 = J22_term1 + J22_term2 + J22_term3\n",
    "\n",
    "\n",
    "    return c12a, c22a, c12b, c22b, phi2a, phi2b, y2, J12, J22\n",
    "\n",
    "\n",
    "#result = second_order_terms(V, alpha, beta, L, R, z1, z2)\n",
    "#print(result)\n"
   ]
  },
  {
   "cell_type": "code",
   "execution_count": 6,
   "id": "b3084a35",
   "metadata": {
    "execution": {
     "iopub.execute_input": "2023-12-12T05:34:56.846931Z",
     "iopub.status.busy": "2023-12-12T05:34:56.846664Z",
     "iopub.status.idle": "2023-12-12T05:34:56.852452Z",
     "shell.execute_reply": "2023-12-12T05:34:56.851636Z"
    },
    "papermill": {
     "duration": 0.014186,
     "end_time": "2023-12-12T05:34:56.854365",
     "exception": false,
     "start_time": "2023-12-12T05:34:56.840179",
     "status": "completed"
    },
    "tags": []
   },
   "outputs": [],
   "source": [
    "# Identify consecutive indices and keep one element per consecutive sequence with minimum absolute value\n",
    "def keep_min_abs_per_consecutive(indices, values):\n",
    "    result_indices = []\n",
    "    i = 0\n",
    "    while i < len(indices):\n",
    "        j = i + 1\n",
    "        while j < len(indices) and indices[j] == indices[j - 1] + 1:\n",
    "            j += 1\n",
    "\n",
    "        # Find the index with minimum absolute value in the consecutive sequence\n",
    "        min_abs_index = min(range(i, j), key=lambda k: abs(values[indices[k]]))\n",
    "        result_indices.append(indices[min_abs_index])\n",
    "        i = j\n",
    "\n",
    "    return np.array(result_indices)"
   ]
  },
  {
   "cell_type": "code",
   "execution_count": 7,
   "id": "515c1c89",
   "metadata": {
    "execution": {
     "iopub.execute_input": "2023-12-12T05:34:56.867441Z",
     "iopub.status.busy": "2023-12-12T05:34:56.866949Z",
     "iopub.status.idle": "2023-12-12T05:34:56.874046Z",
     "shell.execute_reply": "2023-12-12T05:34:56.873203Z"
    },
    "papermill": {
     "duration": 0.015912,
     "end_time": "2023-12-12T05:34:56.876106",
     "exception": false,
     "start_time": "2023-12-12T05:34:56.860194",
     "status": "completed"
    },
    "tags": []
   },
   "outputs": [],
   "source": [
    "def remove_close_roots(V_zero, V_range,  distance_threshold=0.3):\n",
    "    sorted_indices = np.searchsorted(V_range, V_zero)\n",
    "    #sorted_roots = V_zero[sorted_indices]\n",
    "\n",
    "    result_indices = [sorted_indices[0]]\n",
    "    \n",
    "    for i in range(1, len(sorted_indices)):\n",
    "        distance = V_range[sorted_indices[i]] - V_range[result_indices[-1]]\n",
    "\n",
    "        if distance >= distance_threshold:\n",
    "            result_indices.append(sorted_indices[i])\n",
    "            #print('1=', V_range[sorted_roots[i]])\n",
    "\n",
    "        elif distance < distance_threshold and abs(V_range[sorted_indices[i]]) < abs(V_range[result_indices[-1]]):\n",
    "            result_indices.pop()  # Remove the last added index\n",
    "            result_indices.append(sorted_indices[i])\n",
    "            #print('2=', x_values[sorted_roots[i]])\n",
    "\n",
    "        else:\n",
    "                result_indices.append(sorted_indices[-1])\n",
    "                #print('3=', x_values[sorted_roots[-1]])\n",
    "\n",
    "    return V_range[np.array(result_indices)]"
   ]
  },
  {
   "cell_type": "code",
   "execution_count": 8,
   "id": "513b19bb",
   "metadata": {
    "execution": {
     "iopub.execute_input": "2023-12-12T05:34:56.889798Z",
     "iopub.status.busy": "2023-12-12T05:34:56.889183Z",
     "iopub.status.idle": "2023-12-12T05:34:56.894257Z",
     "shell.execute_reply": "2023-12-12T05:34:56.893449Z"
    },
    "papermill": {
     "duration": 0.014081,
     "end_time": "2023-12-12T05:34:56.896244",
     "exception": false,
     "start_time": "2023-12-12T05:34:56.882163",
     "status": "completed"
    },
    "tags": []
   },
   "outputs": [],
   "source": [
    "def remove_close_values(values, threshold=0.2):\n",
    "    sorted_values = np.sort(values)\n",
    "    result_values = [sorted_values[0]]\n",
    "\n",
    "    for i in range(1, len(sorted_values)):\n",
    "        if sorted_values[i] - result_values[-1] >= threshold:\n",
    "            result_values.append(sorted_values[i])\n",
    "\n",
    "    return np.array(result_values)"
   ]
  },
  {
   "cell_type": "code",
   "execution_count": 9,
   "id": "52e323d2",
   "metadata": {
    "execution": {
     "iopub.execute_input": "2023-12-12T05:34:56.909773Z",
     "iopub.status.busy": "2023-12-12T05:34:56.909514Z",
     "iopub.status.idle": "2023-12-12T05:35:06.102925Z",
     "shell.execute_reply": "2023-12-12T05:35:06.101456Z"
    },
    "papermill": {
     "duration": 9.203382,
     "end_time": "2023-12-12T05:35:06.105628",
     "exception": false,
     "start_time": "2023-12-12T05:34:56.902246",
     "status": "completed"
    },
    "tags": []
   },
   "outputs": [
    {
     "name": "stdout",
     "output_type": "stream",
     "text": [
      "V1= [-2.81055028  2.32775023  2.9957503   7.19455072]\n",
      "V2= [-2.9957503]\n",
      "J1_prd2 =  [-3.96236335e-06  3.71716735e-07 -1.82611118e-07  5.03296946e-06]\n",
      "J2_prd2 =  [7.91964624e-07]\n",
      "V_zero_old =  [-2.9957503  -2.81055028  2.32775023  2.9957503   7.19455072]\n",
      "V_zero_new =  [-2.81055028  2.32775023  2.9957503   7.19455072]\n"
     ]
    }
   ],
   "source": [
    "import numpy as np\n",
    "import matplotlib.pyplot as plt\n",
    "\n",
    "L = .05\n",
    "R = 1\n",
    "\n",
    "# Define V range\n",
    "#num = 1e+10\n",
    "V_range = np.linspace(-500, 500, int(1e7))  # Adjust the number of points as needed\n",
    "alpha, beta, z1, z2, V1_range, V2_range, V3_range = calculate_voltage_ranges(L, R)\n",
    "\n",
    "\n",
    "c10a, c20a, c10b, c20b, phi0a, phi0b, y0, J10, J20 = zeroth_order_terms(V_range, alpha, beta, L, R, z1, z2)\n",
    "c11a, c21a, c11b, c21b, phi1a, phi1b, y1, J11, J21 = first_order_terms(V_range, alpha, beta, L, R, z1, z2)\n",
    "c12a, c22a, c12b, c22b, phi2a, phi2b, y2, J12, J22 = second_order_terms(V_range, alpha, beta, L, R, z1, z2)\n",
    "\n",
    "J1_prd2 = J10 * J12\n",
    "J2_prd2 = J20 * J22\n",
    "\n",
    "# Find indices of zero values in J1_prd2 and J2_prd2\n",
    "#zero_indices1 = np.where(J1_prd2 == 0)[0]\n",
    "#zero_indices2 = np.where(J2_prd2 == 0)[0]\n",
    "\n",
    "# Find indices of values very close to zero in J1_prd2 and J2_prd2\n",
    "epsilon = 1e-5  # Adjust this value as needed\n",
    "zero_indices1 = np.where(np.isclose(J1_prd2, 0., atol=epsilon))[0]\n",
    "zero_indices2 = np.where(np.isclose(J2_prd2, 0., atol=epsilon))[0]\n",
    "#zero_indices1 = np.where(np.abs(J1_prd2) <  epsilon)[0]\n",
    "#zero_indices2 = np.where(np.abs(J2_prd2) <  epsilon)[0]\n",
    "V_zero_values1 = V_range[zero_indices1]\n",
    "V_zero_values2 = V_range[zero_indices2]\n",
    "\n",
    "\n",
    "# Keep one element per consecutive sequence in zero_indices1 and zero_indices2\n",
    "zero_indices1 = keep_min_abs_per_consecutive(zero_indices1, J1_prd2)\n",
    "zero_indices2 = keep_min_abs_per_consecutive(zero_indices2, J2_prd2)\n",
    "\n",
    "\n",
    "# Get corresponding values of t for zero values in J1_prd2 and J2_prd2\n",
    "V_zero_values1 = V_range[zero_indices1]\n",
    "V_zero_values2 = V_range[zero_indices2]\n",
    "print('V1=', V_zero_values1)\n",
    "print('V2=', V_zero_values2)\n",
    "print('J1_prd2 = ', J1_prd2[zero_indices1])\n",
    "print('J2_prd2 = ', J2_prd2[zero_indices2])\n",
    "\n",
    "# Combine the zero values\n",
    "V_combined = np.concatenate([V_zero_values1, V_zero_values2])\n",
    "\n",
    "# Rearrange to have V_zero\n",
    "V_zero = np.sort(V_combined)\n",
    "print('V_zero_old = ', V_zero)\n",
    "# Remove close values in V_combined\n",
    "V_zero = remove_close_roots(V_zero, V_range)\n",
    "print('V_zero_new = ', V_zero)"
   ]
  },
  {
   "cell_type": "code",
   "execution_count": 10,
   "id": "a6b3d266",
   "metadata": {
    "execution": {
     "iopub.execute_input": "2023-12-12T05:35:06.120286Z",
     "iopub.status.busy": "2023-12-12T05:35:06.119828Z",
     "iopub.status.idle": "2023-12-12T05:35:07.372535Z",
     "shell.execute_reply": "2023-12-12T05:35:07.371567Z"
    },
    "papermill": {
     "duration": 1.262619,
     "end_time": "2023-12-12T05:35:07.374873",
     "exception": false,
     "start_time": "2023-12-12T05:35:06.112254",
     "status": "completed"
    },
    "tags": []
   },
   "outputs": [
    {
     "data": {
      "image/png": "[encoded data removed]",
      "text/plain": [
       "<Figure size 1800x400 with 3 Axes>"
      ]
     },
     "metadata": {},
     "output_type": "display_data"
    }
   ],
   "source": [
    "# Create new subintervals using np.linspace\n",
    "if len(V_zero) > 0:\n",
    "    subintervals = [\n",
    "                 np.linspace(V_zero[0]-80, V_zero[0], 200)\n",
    "               ] + [\n",
    "                 np.linspace(V_zero[i], V_zero[i + 1], 200) for i in range(len(V_zero) - 1)\n",
    "               ] + [\n",
    "                 np.linspace(V_zero[-1], V_zero[-1]+80, 200)\n",
    "               ]\n",
    "else:\n",
    "    subintervals = [V_range[0], V_range[-1]]\n",
    "\n",
    "\n",
    "# Check the signs of J1_prd2 and J2_prd2 at the midpoints of subintervals\n",
    "midpoints = [np.mean(interval) for interval in subintervals]\n",
    "signs_J1_prd2 = np.sign(J10 * J12)\n",
    "signs_J2_prd2 = np.sign(J20 * J22)\n",
    "\n",
    "# Check and remove points where both J1_prd2 and J2_prd2 have the same sign across consecutive subintervals\n",
    "new_V_zero = [V_zero[0]]\n",
    "for i in range(1, len(V_zero) - 1):\n",
    "    idx = np.searchsorted(midpoints, V_zero[i])\n",
    "    if signs_J1_prd2[idx] != signs_J1_prd2[idx - 1] or signs_J2_prd2[idx] != signs_J2_prd2[idx - 1]:\n",
    "        new_V_zero.append(V_zero[i])\n",
    "new_V_zero.append(V_zero[-1])\n",
    "\n",
    "# Update V_zero\n",
    "V_zero = np.array(new_V_zero)\n",
    "\n",
    "# Update the length of V_zero\n",
    "lng = len(V_zero)\n",
    "\n",
    "# Create new subintervals using np.linspace\n",
    "if len(V_zero) > 0:\n",
    "      subintervals = [\n",
    "                 np.linspace(V_zero[0]-80, V_zero[0], 200)\n",
    "               ] + [\n",
    "                 np.linspace(V_zero[i], V_zero[i + 1], 200) for i in range(lng - 1)\n",
    "               ] + [\n",
    "                 np.linspace(V_zero[-1], V_zero[-1]+80, 200)\n",
    "               ]\n",
    "else:\n",
    "      subintervals = [V_range[0], V_range[-1]]\n",
    "\n",
    "\n",
    "# Plot J1_prd2 and J2_prd2 on subintervals\n",
    "fig, axs = plt.subplots(1, lng + 1, figsize=(18, 4))\n",
    "\n",
    "for i, interval in enumerate(subintervals):\n",
    "    start_point = interval[0]\n",
    "    end_point = interval[-1]\n",
    "    interval_range = np.linspace(start_point, end_point, 200)\n",
    "    c10a, c20a, c10b, c20b, phi0a, phi0b, y0, J10, J20 = zeroth_order_terms(interval_range, alpha, beta, L, R, z1, z2)\n",
    "    c11a, c21a, c11b, c21b, phi1a, phi1b, y1, J11, J21 = first_order_terms(interval_range, alpha, beta, L, R, z1, z2)\n",
    "    c12a, c22a, c12b, c22b, phi2a, phi2b, y2, J12, J22 = second_order_terms(interval_range, alpha, beta, L, R, z1, z2)\n",
    "    J1_prd22 = J10 * J12\n",
    "    J2_prd22 = J20 * J22\n",
    "\n",
    "    axs[i].plot(interval_range, J1_prd22, color='blue', label=f'$J_{{10}} \\cdot J_{{11}} $')\n",
    "    axs[i].plot(interval_range, J2_prd22, color='red', label=f'$J_{{20}} \\cdot J_{{21}} $')\n",
    "    axs[i].set_title(f'Subinterval {i + 1}')\n",
    "    axs[i].set_xlabel('V')\n",
    "    axs[i].set_ylabel('$J_{product}$')\n",
    "    axs[i].legend()\n",
    "# Adjust the spacing between subplots\n",
    "plt.tight_layout()\n",
    "\n",
    "# Display the figure\n",
    "plt.show()\n",
    "\n"
   ]
  },
  {
   "cell_type": "code",
   "execution_count": 11,
   "id": "b4d7f0b2",
   "metadata": {
    "execution": {
     "iopub.execute_input": "2023-12-12T05:35:07.391156Z",
     "iopub.status.busy": "2023-12-12T05:35:07.390650Z",
     "iopub.status.idle": "2023-12-12T05:35:41.339454Z",
     "shell.execute_reply": "2023-12-12T05:35:41.338383Z"
    },
    "papermill": {
     "duration": 33.969172,
     "end_time": "2023-12-12T05:35:41.351509",
     "exception": false,
     "start_time": "2023-12-12T05:35:07.382337",
     "status": "completed"
    },
    "tags": []
   },
   "outputs": [
    {
     "name": "stderr",
     "output_type": "stream",
     "text": [
      "Processing time:  25%|██▌       | 1/4 [00:09<00:27,  9.16s/it]"
     ]
    },
    {
     "name": "stdout",
     "output_type": "stream",
     "text": [
      "V_zero_new: [-2.9957273  2.9957273]\n"
     ]
    },
    {
     "name": "stderr",
     "output_type": "stream",
     "text": [
      "Processing time:  50%|█████     | 2/4 [00:18<00:18,  9.19s/it]"
     ]
    },
    {
     "name": "stdout",
     "output_type": "stream",
     "text": [
      "V_zero_new: [0.05128901]\n"
     ]
    },
    {
     "name": "stderr",
     "output_type": "stream",
     "text": [
      "Processing time:  75%|███████▌  | 3/4 [00:26<00:08,  8.52s/it]"
     ]
    },
    {
     "name": "stdout",
     "output_type": "stream",
     "text": [
      "V_zero_new: [-0.048797  0.048797]\n"
     ]
    },
    {
     "name": "stderr",
     "output_type": "stream",
     "text": [
      "Processing time: 100%|██████████| 4/4 [00:33<00:00,  8.47s/it]"
     ]
    },
    {
     "name": "stdout",
     "output_type": "stream",
     "text": [
      "V_zero_new: [-0.69314707  0.69314707]\n",
      "Minimum V_zero: -2.995727299572735\n",
      "Maximum V_zero: 2.995727299572721\n"
     ]
    },
    {
     "name": "stderr",
     "output_type": "stream",
     "text": [
      "\n"
     ]
    }
   ],
   "source": [
    "# Define the ranges for L and R\n",
    "#L_values = np.linspace(0.05, 1.95, 10)\n",
    "L_values = [0.05,  0.95, 1.05,  2]\n",
    "R = 1\n",
    "\n",
    "# Initialize matrices for signs_J1 and signs_J2\n",
    "lenL = len(L_values)\n",
    "num_subintervals = 20  \n",
    "\n",
    "signs_J1 = np.zeros((lenL, num_subintervals))\n",
    "signs_J2 = np.zeros((lenL, num_subintervals))\n",
    "V_critic = np.zeros((lenL, num_subintervals))\n",
    "\n",
    "# Initialize min_V and max_V for plots\n",
    "min_V = 60  # Initialize to a positive large value\n",
    "max_V = -60  # Initialize to a engative large value\n",
    "\n",
    "for i, L in tqdm(enumerate(L_values), total=len(L_values), desc='Processing time'):\n",
    "    V_range = np.linspace(-70, 70, int(1e7))  # Adjust the number of points as needed\n",
    "    alpha, beta, z1, z2, V1_range, V2_range, V3_range = calculate_voltage_ranges(L, R)\n",
    "\n",
    "\n",
    "    c10a, c20a, c10b, c20b, phi0a, phi0b, y0, J10, J20 = zeroth_order_terms(V_range, alpha, beta, L, R, z1, z2)\n",
    "    c11a, c21a, c11b, c21b, phi1a, phi1b, y1, J11, J21 = first_order_terms(V_range, alpha, beta, L, R, z1, z2)\n",
    "    c12a, c22a, c12b, c22b, phi2a, phi2b, y2, J12, J22 = second_order_terms(V_range, alpha, beta, L, R, z1, z2)\n",
    "    J1_prd2 = J10\n",
    "    J2_prd2 = J20\n",
    "\n",
    "    # Find indices of values very close to zero in J1_prd2 and J2_prd2\n",
    "    epsilon = 1e-3  # Adjust this value as needed\n",
    "    zero_indices1 = np.where(np.abs(J1_prd2) <  epsilon)[0]\n",
    "    zero_indices2 = np.where(np.abs(J2_prd2) <  epsilon)[0]\n",
    "\n",
    "\n",
    "    # Keep one element per consecutive sequence in zero_indices1 and zero_indices2\n",
    "    zero_indices1 = keep_min_abs_per_consecutive(zero_indices1, J1_prd2)\n",
    "    zero_indices2 = keep_min_abs_per_consecutive(zero_indices2, J2_prd2)\n",
    "\n",
    "    # Get corresponding values of V_range for zero values in J1_prd2 and J2_prd2\n",
    "    V_zero_values1 = V_range[zero_indices1]\n",
    "    V_zero_values2 = V_range[zero_indices2]\n",
    "    #print('V1=', V_zero_values1)\n",
    "    #print('V2=', V_zero_values2)\n",
    "\n",
    "    # Combine the zero values\n",
    "    V_combined = np.concatenate([V_zero_values1, V_zero_values2])\n",
    "\n",
    "    # Rearrange to have V_zero\n",
    "    V_zero = np.sort(V_combined)\n",
    "  \n",
    "    # Remove close values in V_combined\n",
    "    V_zero = remove_close_roots(V_zero, V_range)\n",
    "    print('V_zero_new:', V_zero)\n",
    "\n",
    "    # Find the length of V_zero\n",
    "    lng = len(V_zero)\n",
    "\n",
    "    # Create subintervals\n",
    "    if lng > 0:\n",
    "        subintervals = [\n",
    "                  np.linspace(V_zero[0]-80, V_zero[0], num_subintervals)\n",
    "                ] + [\n",
    "                  np.linspace(V_zero[i], V_zero[i + 1], num_subintervals) for i in range(lng - 1)\n",
    "                ] + [\n",
    "                  np.linspace(V_zero[-1], V_zero[-1]+80, num_subintervals)\n",
    "                ]\n",
    "    else:\n",
    "        subintervals = [V_range[0], V_range[-1]]\n",
    "    # Check the signs of J1_prd2 and J2_prd2 at the midpoints of subintervals\n",
    "    midpoints = [np.mean(interval) for interval in subintervals]\n",
    "    signs_J1_prd2 = np.sign(J10)\n",
    "    signs_J2_prd2 = np.sign(J20)\n",
    "    \n",
    "    # Check and remove points where both J1_prd2 and J2_prd2 have the same sign across consecutive subintervals\n",
    "    new_V_zero = [V_zero[0]]\n",
    "    for s in range(1, len(V_zero) - 1):\n",
    "        idx = np.searchsorted(midpoints, V_zero[s])\n",
    "        if signs_J1_prd2[idx] != signs_J1_prd2[idx - 1] or signs_J2_prd2[idx] != signs_J2_prd2[idx - 1]:\n",
    "            new_V_zero.append(V_zero[s])\n",
    "    new_V_zero.append(V_zero[-1])\n",
    "\n",
    "    # Update V_zero\n",
    "    V_zero = np.array(new_V_zero)\n",
    "\n",
    "    # Update the length of V_zero\n",
    "    lng = len(V_zero)\n",
    "\n",
    "    # Create new subintervals using np.linspace\n",
    "    if lng > 0:\n",
    "        min_V = min(min_V, np.min(V_zero))\n",
    "        max_V = max(max_V, np.max(V_zero))\n",
    "        subintervals = [\n",
    "                  np.linspace(V_zero[0]-80, V_zero[0], num_subintervals)\n",
    "                ] + [\n",
    "                  np.linspace(V_zero[i], V_zero[i + 1], num_subintervals) for i in range(lng - 1)\n",
    "                ] + [\n",
    "                  np.linspace(V_zero[-1], V_zero[-1]+80, num_subintervals)\n",
    "                ]\n",
    "    else:\n",
    "        subintervals = [V_range[0], V_range[-1]]\n",
    "\n",
    "  \n",
    "    signs_J1_temp = np.zeros(num_subintervals)\n",
    "    signs_J2_temp = np.zeros(num_subintervals)\n",
    "    \n",
    "    for k, interval in enumerate(subintervals):\n",
    "        start_point = interval[0]\n",
    "        end_point = interval[-1]\n",
    "        interval_range = np.linspace(start_point, end_point, num_subintervals)\n",
    "        c10a, c20a, c10b, c20b, phi0a, phi0b, y0, J10, J20 = zeroth_order_terms(interval_range, alpha, beta, L, R, z1, z2)\n",
    "        c11a, c21a, c11b, c21b, phi1a, phi1b, y1, J11, J21 = first_order_terms(interval_range, alpha, beta, L, R, z1, z2)\n",
    "        c12a, c22a, c12b, c22b, phi2a, phi2b, y2, J12, J22 = second_order_terms(interval_range, alpha, beta, L, R, z1, z2)\n",
    "        J1_prd22 = J10 * J12\n",
    "        J2_prd22 = J20 * J22\n",
    "\n",
    "        midpoint = (start_point + end_point) / 2\n",
    "        # Find the index in interval_range closest to the midpoint\n",
    "        mid_index = np.abs(interval_range - midpoint).argmin()\n",
    "\n",
    "        #mid_value = interval_range[midpoint_index]\n",
    "\n",
    "        # Append the signs for the current L\n",
    "        sign_J1_prd22 = np.sign(J1_prd22[mid_index])\n",
    "        sign_J2_prd22 = np.sign(J2_prd22[mid_index])\n",
    "\n",
    "\n",
    "        # Append the signs for the current L to the temporary arrays\n",
    "        signs_J1_temp[k] = 1 if sign_J1_prd22 > 0 else -1\n",
    "        signs_J2_temp[k] = 1 if sign_J2_prd22 > 0 else -1\n",
    "\n",
    "    # Assign the temporary arrays to the i-th row of signs_J1 and signs_J2\n",
    "    signs_J1[i, :] = signs_J1_temp\n",
    "    signs_J2[i, :] = signs_J2_temp\n",
    "    V_critic[i, :lng] = V_zero\n",
    "\n",
    "print(\"Minimum V_zero:\", min_V)\n",
    "print(\"Maximum V_zero:\", max_V)"
   ]
  },
  {
   "cell_type": "code",
   "execution_count": 12,
   "id": "f8d68d05",
   "metadata": {
    "execution": {
     "iopub.execute_input": "2023-12-12T05:35:41.369200Z",
     "iopub.status.busy": "2023-12-12T05:35:41.368854Z",
     "iopub.status.idle": "2023-12-12T05:35:41.373198Z",
     "shell.execute_reply": "2023-12-12T05:35:41.372270Z"
    },
    "papermill": {
     "duration": 0.015341,
     "end_time": "2023-12-12T05:35:41.375274",
     "exception": false,
     "start_time": "2023-12-12T05:35:41.359933",
     "status": "completed"
    },
    "tags": []
   },
   "outputs": [],
   "source": [
    "#ch = 0\n",
    "#print(signs_J1.shape)\n",
    "#print(signs_J1[ch,:])\n",
    "#print(V_critic.shape)\n",
    "#print(V_critic[ch,:])\n",
    "#print(len(V_critic))\n",
    "#lenL"
   ]
  },
  {
   "cell_type": "code",
   "execution_count": 13,
   "id": "bfb8f60d",
   "metadata": {
    "execution": {
     "iopub.execute_input": "2023-12-12T05:35:41.394187Z",
     "iopub.status.busy": "2023-12-12T05:35:41.393868Z",
     "iopub.status.idle": "2023-12-12T05:35:41.610884Z",
     "shell.execute_reply": "2023-12-12T05:35:41.609892Z"
    },
    "papermill": {
     "duration": 0.229182,
     "end_time": "2023-12-12T05:35:41.613389",
     "exception": false,
     "start_time": "2023-12-12T05:35:41.384207",
     "status": "completed"
    },
    "tags": []
   },
   "outputs": [],
   "source": [
    "# Create a matrix to store the heatmap values\n",
    "Jsign_func1 = np.zeros((lenL, len(V_range)))\n",
    "for i in range(len(V_critic)):\n",
    "    left_index = np.searchsorted(V_range,V_critic[i, 0])\n",
    "    #print(V_range[left_index])\n",
    "    #print('left=',left_index)\n",
    "    Jsign_func1[i, :left_index] = signs_J1[i, 0]\n",
    "    \n",
    "    for j in range(len(V_critic[i]) - 1):\n",
    "        if (V_critic[i, j] == 0 and V_critic[i, j+1] == 0) :\n",
    "            break\n",
    "            \n",
    "        elif (V_critic[i, j] != 0 and V_critic[i, j+1] == 0) :\n",
    "            right_index = np.searchsorted(V_range,V_critic[i, j])\n",
    "            #print('right=',left_index)\n",
    "            Jsign_func1[i, right_index:] = signs_J1[i, j+1]\n",
    "\n",
    "        # Find the indices corresponding to the current segment\n",
    "        else:\n",
    "            start_index = np.searchsorted(V_range, V_critic[i, j])\n",
    "            end_index = np.searchsorted(V_range, V_critic[i, j + 1])\n",
    "            # Assign values from S to the corresponding segment in H\n",
    "            Jsign_func1[i, start_index:end_index] = signs_J1[i, j + 1]\n",
    "        "
   ]
  },
  {
   "cell_type": "code",
   "execution_count": 14,
   "id": "c90e4094",
   "metadata": {
    "execution": {
     "iopub.execute_input": "2023-12-12T05:35:41.632288Z",
     "iopub.status.busy": "2023-12-12T05:35:41.631637Z",
     "iopub.status.idle": "2023-12-12T05:35:41.839128Z",
     "shell.execute_reply": "2023-12-12T05:35:41.838358Z"
    },
    "papermill": {
     "duration": 0.219046,
     "end_time": "2023-12-12T05:35:41.841435",
     "exception": false,
     "start_time": "2023-12-12T05:35:41.622389",
     "status": "completed"
    },
    "tags": []
   },
   "outputs": [],
   "source": [
    "\n",
    "# Create a matrix to store the heatmap values\n",
    "Jsign_func2 = np.zeros((lenL, len(V_range)))\n",
    "for i in range(len(V_critic)):\n",
    "    left_index = np.searchsorted(V_range,V_critic[i, 0])\n",
    "    Jsign_func2[i, :left_index] = signs_J2[i, 0]\n",
    "    for j in range(len(V_critic[i]) - 1):\n",
    "        if (V_critic[i, j] == 0 and V_critic[i, j+1] == 0) :\n",
    "            break\n",
    "            \n",
    "        elif (V_critic[i, j] != 0 and V_critic[i, j+1] == 0) :\n",
    "            right_index = np.searchsorted(V_range,V_critic[i, j])\n",
    "            Jsign_func2[i, right_index:] = signs_J2[i, j+1]\n",
    "\n",
    "        # Find the indices corresponding to the current segment\n",
    "        else:\n",
    "            start_index = np.searchsorted(V_range, V_critic[i, j])\n",
    "            end_index = np.searchsorted(V_range, V_critic[i, j + 1])\n",
    "            # Assign values from S to the corresponding segment in H\n",
    "            Jsign_func2[i, start_index:end_index] = signs_J2[i, j + 1]"
   ]
  },
  {
   "cell_type": "code",
   "execution_count": 15,
   "id": "c09cd361",
   "metadata": {
    "execution": {
     "iopub.execute_input": "2023-12-12T05:35:41.858368Z",
     "iopub.status.busy": "2023-12-12T05:35:41.858089Z",
     "iopub.status.idle": "2023-12-12T05:35:49.153410Z",
     "shell.execute_reply": "2023-12-12T05:35:49.152470Z"
    },
    "papermill": {
     "duration": 7.306899,
     "end_time": "2023-12-12T05:35:49.156377",
     "exception": false,
     "start_time": "2023-12-12T05:35:41.849478",
     "status": "completed"
    },
    "tags": []
   },
   "outputs": [
    {
     "name": "stderr",
     "output_type": "stream",
     "text": [
      "/opt/conda/lib/python3.10/site-packages/matplotlib/image.py:175: UserWarning: Data with more than 2**23 columns cannot be accurately displayed. Downsampling to less than 2**23 columns before displaying. To remove this warning, manually downsample your data.\n",
      "  warnings.warn(msg.format(n='2**23 columns'))\n"
     ]
    },
    {
     "data": {
      "image/png": "[encoded data removed]",
      "text/plain": [
       "<Figure size 1200x600 with 4 Axes>"
      ]
     },
     "metadata": {},
     "output_type": "display_data"
    }
   ],
   "source": [
    "fig, axs = plt.subplots(1, 2, figsize=(12, 6))\n",
    "\n",
    "# Plot the heatmap for signs_J1\n",
    "img1 = axs[0].imshow(Jsign_func1, cmap='coolwarm', extent=[V_range[0], V_range[-1], L_values[0], L_values[-1]], aspect='auto', vmin=-1, vmax=1)\n",
    "axs[0].set_xlabel('Voltage (V)')\n",
    "axs[0].set_ylabel('L_values')\n",
    "axs[0].set_title(r'Heatmap for signs of $J_1$')\n",
    "axs[0].set_xlim(min_V, max_V)\n",
    "axs[0].grid(True)\n",
    "\n",
    "# Plot the heatmap for signs_J2\n",
    "img2 = axs[1].imshow(Jsign_func2, cmap='coolwarm', extent=[V_range[0], V_range[-1], L_values[0], L_values[-1]], aspect='auto', vmin=-1, vmax=1)\n",
    "axs[1].set_xlabel('Voltage (V)')\n",
    "axs[1].set_ylabel('L_values')\n",
    "axs[1].set_title(r'Heatmap for signs of $J_2$')\n",
    "axs[1].set_xlim(min_V - 10, max_V + 10)\n",
    "axs[1].grid(True)\n",
    "\n",
    "# Add legends\n",
    "fig.colorbar(img1, ax=axs[0])\n",
    "fig.colorbar(img2, ax=axs[1])\n",
    "\n",
    "# Adjust layout for better spacing\n",
    "plt.tight_layout()\n",
    "plt.show()\n"
   ]
  },
  {
   "cell_type": "code",
   "execution_count": 16,
   "id": "6cf36bcf",
   "metadata": {
    "execution": {
     "iopub.execute_input": "2023-12-12T05:35:49.177023Z",
     "iopub.status.busy": "2023-12-12T05:35:49.176729Z",
     "iopub.status.idle": "2023-12-12T05:35:49.574313Z",
     "shell.execute_reply": "2023-12-12T05:35:49.573459Z"
    },
    "papermill": {
     "duration": 0.409859,
     "end_time": "2023-12-12T05:35:49.576689",
     "exception": false,
     "start_time": "2023-12-12T05:35:49.166830",
     "status": "completed"
    },
    "tags": []
   },
   "outputs": [],
   "source": [
    "# Create a 3D matrix to store both signs_J1 and signs_J2\n",
    "Jsign_matrix = np.zeros((2, lenL, len(V_range)))\n",
    "\n",
    "# Define a list for both signs_J1 and signs_J2\n",
    "sign_matrices = [signs_J1, signs_J2]\n",
    "\n",
    "for idx, signs in enumerate(sign_matrices):\n",
    "    for i in range(len(V_critic)):\n",
    "        left_index = np.searchsorted(V_range, V_critic[i, 0])\n",
    "        Jsign_matrix[idx, i, :left_index] = signs[i, 0]\n",
    "        for j in range(len(V_critic[i]) - 1):\n",
    "            if V_critic[i, j] == 0 and V_critic[i, j + 1] == 0:\n",
    "                break\n",
    "            # Find the indices corresponding to the current segment\n",
    "            elif V_critic[i, j] != 0 and V_critic[i, j + 1] == 0:\n",
    "                right_index = np.searchsorted(V_range, V_critic[i, j])\n",
    "                Jsign_matrix[idx, i, right_index:] = signs[i, j + 1]\n",
    "                \n",
    "            else: \n",
    "                start_index = np.searchsorted(V_range, V_critic[i, j])\n",
    "                end_index = np.searchsorted(V_range, V_critic[i, j + 1])\n",
    "\n",
    "                # Assign values from S to the corresponding segment in H\n",
    "                Jsign_matrix[idx, i, start_index:end_index] = signs[i, j + 1]"
   ]
  },
  {
   "cell_type": "code",
   "execution_count": 17,
   "id": "f9785fcd",
   "metadata": {
    "execution": {
     "iopub.execute_input": "2023-12-12T05:35:49.595718Z",
     "iopub.status.busy": "2023-12-12T05:35:49.595359Z",
     "iopub.status.idle": "2023-12-12T05:35:55.210848Z",
     "shell.execute_reply": "2023-12-12T05:35:55.209795Z"
    },
    "papermill": {
     "duration": 5.627139,
     "end_time": "2023-12-12T05:35:55.213026",
     "exception": false,
     "start_time": "2023-12-12T05:35:49.585887",
     "status": "completed"
    },
    "tags": []
   },
   "outputs": [
    {
     "data": {
      "image/png": "[encoded data removed]",
      "text/plain": [
       "<Figure size 640x480 with 2 Axes>"
      ]
     },
     "metadata": {},
     "output_type": "display_data"
    }
   ],
   "source": [
    "# Plot the heatmap with specified color scale limits for both signs_J1 and signs_J2\n",
    "plt.imshow(Jsign_matrix[0, :, :], cmap='coolwarm', extent=[V_range[0], V_range[-1], L_values[-1], L_values[0]], aspect='auto', vmin=-1, vmax=1)\n",
    "plt.imshow(Jsign_matrix[1, :, :], cmap='coolwarm', extent=[V_range[0], V_range[-1], L_values[-1], L_values[0]], aspect='auto', vmin=-1, vmax=1, alpha=0.5)  # Alpha blends the two heatmaps\n",
    "plt.xlabel('Voltage (V)')\n",
    "plt.ylabel('L_values')\n",
    "plt.title('Overlap of Same Sign Regions for $J_1$ and $J_2$')\n",
    "plt.colorbar()\n",
    "\n",
    "# Set x-axis limits\n",
    "plt.xlim(min_V - 10, max_V + 10)\n",
    "\n",
    "plt.show()"
   ]
  }
 ],
 "metadata": {
  "kaggle": {
   "accelerator": "nvidiaTeslaT4",
   "dataSources": [],
   "dockerImageVersionId": 30616,
   "isGpuEnabled": true,
   "isInternetEnabled": true,
   "language": "python",
   "sourceType": "notebook"
  },
  "kernelspec": {
   "display_name": "Python 3",
   "language": "python",
   "name": "python3"
  },
  "language_info": {
   "codemirror_mode": {
    "name": "ipython",
    "version": 3
   },
   "file_extension": ".py",
   "mimetype": "text/x-python",
   "name": "python",
   "nbconvert_exporter": "python",
   "pygments_lexer": "ipython3",
   "version": "3.10.12"
  },
  "papermill": {
   "default_parameters": {},
   "duration": 63.707058,
   "end_time": "2023-12-12T05:35:55.641438",
   "environment_variables": {},
   "exception": null,
   "input_path": "__notebook__.ipynb",
   "output_path": "__notebook__.ipynb",
   "parameters": {},
   "start_time": "2023-12-12T05:34:51.934380",
   "version": "2.4.0"
  }
 },
 "nbformat": 4,
 "nbformat_minor": 5
}
