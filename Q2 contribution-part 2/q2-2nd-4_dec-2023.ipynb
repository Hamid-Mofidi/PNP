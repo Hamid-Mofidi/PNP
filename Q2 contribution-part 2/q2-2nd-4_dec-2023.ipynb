{
 "cells": [
  {
   "cell_type": "code",
   "execution_count": 1,
   "id": "3e4f8202",
   "metadata": {
    "_cell_guid": "b1076dfc-b9ad-4769-8c92-a6c4dae69d19",
    "_uuid": "8f2839f25d086af736a60e9eeb907d3b93b6e0e5",
    "execution": {
     "iopub.execute_input": "2023-12-25T02:29:28.447052Z",
     "iopub.status.busy": "2023-12-25T02:29:28.446736Z",
     "iopub.status.idle": "2023-12-25T02:29:28.467670Z",
     "shell.execute_reply": "2023-12-25T02:29:28.466771Z"
    },
    "papermill": {
     "duration": 0.030527,
     "end_time": "2023-12-25T02:29:28.469660",
     "exception": false,
     "start_time": "2023-12-25T02:29:28.439133",
     "status": "completed"
    },
    "tags": []
   },
   "outputs": [],
   "source": [
    "import numpy as np\n",
    "#!pip install cupy\n",
    "#import cupy as np \n",
    "import matplotlib.pyplot as plt\n",
    "from tqdm import tqdm"
   ]
  },
  {
   "cell_type": "code",
   "execution_count": 2,
   "id": "bc1601e8",
   "metadata": {
    "execution": {
     "iopub.execute_input": "2023-12-25T02:29:28.483126Z",
     "iopub.status.busy": "2023-12-25T02:29:28.482858Z",
     "iopub.status.idle": "2023-12-25T02:29:28.493756Z",
     "shell.execute_reply": "2023-12-25T02:29:28.492957Z"
    },
    "papermill": {
     "duration": 0.019589,
     "end_time": "2023-12-25T02:29:28.495686",
     "exception": false,
     "start_time": "2023-12-25T02:29:28.476097",
     "status": "completed"
    },
    "tags": []
   },
   "outputs": [],
   "source": [
    "def zeroth_order_terms(V, alpha, beta, L, R, z1, z2):\n",
    "    c10a = (1/z1) * ((1 - alpha) * L + alpha * R)\n",
    "    c20a = (-z1/z2) * c10a\n",
    "    c10b = (1/z1) * ((1 - beta) * L + beta * R)\n",
    "    c20b = (-z1/z2) * c10b\n",
    "    phi0a = V * (np.log(((1 - alpha) * L + alpha * R)) - np.log(R)) / (np.log(L) - np.log(R))\n",
    "    phi0b = V * (np.log(((1 - beta)  * L + beta * R)) - np.log(R)) / (np.log(L) - np.log(R))\n",
    "    y0 = ((1.0 / ((z1 - z2) * (L - R))) * np.log(((1 - alpha) * L + alpha * R) / ((1 - beta) * L + beta * R)))\n",
    "    J10 = ((L - R) / (z1 * (np.log(L) - np.log(R)))) * (z1 * V + np.log(L) - np.log(R))\n",
    "    J20 = ((R - L) / (z2 * (np.log(L) - np.log(R)))) * (z2 * V + np.log(L) - np.log(R))\n",
    "    return c10a, c20a, c10b, c20b, phi0a, phi0b, y0, J10, J20"
   ]
  },
  {
   "cell_type": "code",
   "execution_count": 3,
   "id": "2451433d",
   "metadata": {
    "execution": {
     "iopub.execute_input": "2023-12-25T02:29:28.509436Z",
     "iopub.status.busy": "2023-12-25T02:29:28.508693Z",
     "iopub.status.idle": "2023-12-25T02:29:28.526527Z",
     "shell.execute_reply": "2023-12-25T02:29:28.525795Z"
    },
    "papermill": {
     "duration": 0.027127,
     "end_time": "2023-12-25T02:29:28.528777",
     "exception": false,
     "start_time": "2023-12-25T02:29:28.501650",
     "status": "completed"
    },
    "tags": []
   },
   "outputs": [],
   "source": [
    "def first_order_terms(V, alpha, beta, L, R, z1, z2):\n",
    "    c10a, c20a, c10b, c20b, phi0a, phi0b, y0, J10, J20 = zeroth_order_terms(V, alpha, beta, L, R, z1, z2)\n",
    "    c11a = (z2 * alpha * (phi0b - phi0a) / (z1 - z2)) - (1 / (2 * (z1 - z2)))\n",
    "    c21a = (z1 * alpha * (phi0b - phi0a) / (z2 - z1)) - (1 / (2 * (z2 - z1)))\n",
    "    c11b = (z2 * (1 - beta) * (phi0a - phi0b) / (z1 - z2)) - (1 / (2 * (z1 - z2)))\n",
    "    c21b = (z1 * (1 - beta) * (phi0a - phi0b) / (z2 - z1)) - (1 / (2 * (z2 - z1)))\n",
    "    c1L  = L / z1\n",
    "    c1R  = R / z1\n",
    "    T0   =   J10 +  J20\n",
    "\n",
    "    A = -((beta - alpha) * (L - R) ** 2) / (((1 - alpha) * L + alpha * R) * ((1 - beta) * L + beta * R) * (np.log(L) - np.log(R)))\n",
    "    B = ( np.log(((1 - beta) * L + beta * R)) - np.log(((1 - alpha) * L + alpha * R))  ) / A\n",
    "\n",
    "    lambda_val = V / (np.log(L) - np.log(R))\n",
    "    phi1a = ((1 + z1 * lambda_val) * (1 + z2 * lambda_val) * (c10b - c10a) * (np.log(c1L) - np.log(c10a))) / (z1 * (z1 - z2) * c10a * c10b * (np.log(c1R) - np.log(c1L))) \\\n",
    "                  + (1 / (2 * z1 * (z1 - z2) * c10a)) + (lambda_val * ((z2 * alpha * (phi0b - phi0a)) / ((z1 - z2) * c10a) ) )\n",
    "    phi1b = ((1 + z1 * lambda_val) * (1 + z2 * lambda_val) * (c10b - c10a) * (np.log(c1R) - np.log(c10b))) / (z1 * (z1 - z2) * c10a * c10b * (np.log(c1R) - np.log(c1L))) \\\n",
    "                  + (1 / (2 * z1 * (z1 - z2) * c10b)) + (lambda_val * ((z2 * (1 - beta) * (phi0a - phi0b)) / ((z1 - z2) * c10b) ) )\n",
    "    y1 = (((1 - beta) * c1L + alpha * c1R) * (phi0a - phi0b)) / (z1 * (z1 - z2) * T0 * c10a * c10b) \\\n",
    "           + ((np.log(c10a) - np.log(c10b)) * (phi0a - phi0b)) / (z1 * (z1 - z2) * T0 * (c1L - c1R)) \\\n",
    "            - (((z2 * J10 + z1 * J20) * (c10a - c10b)) / (z1 ** 2 * z2 * (z1 - z2) * T0 ** 2 * c10a * c10b))\n",
    "    J11 = ( (A * (z2 * (1 - B) * V + np.log(L) - np.log(R))) / ((z1 - z2) * (np.log(L) - np.log(R))**2) ) * (z1 * V + np.log(L) - np.log(R))\n",
    "    J21 = ( (A * (z1 * (1 - B) * V + np.log(L) - np.log(R))) / ((z2 - z1) * (np.log(L) - np.log(R))**2) ) * (z2 * V + np.log(L) - np.log(R))\n",
    "\n",
    "\n",
    "    return c11a, c21a, c11b, c21b, phi1a, phi1b, y1, J11, J21"
   ]
  },
  {
   "cell_type": "code",
   "execution_count": 4,
   "id": "7daf27e4",
   "metadata": {
    "execution": {
     "iopub.execute_input": "2023-12-25T02:29:28.543836Z",
     "iopub.status.busy": "2023-12-25T02:29:28.543544Z",
     "iopub.status.idle": "2023-12-25T02:29:28.552999Z",
     "shell.execute_reply": "2023-12-25T02:29:28.552024Z"
    },
    "papermill": {
     "duration": 0.019576,
     "end_time": "2023-12-25T02:29:28.555256",
     "exception": false,
     "start_time": "2023-12-25T02:29:28.535680",
     "status": "completed"
    },
    "tags": []
   },
   "outputs": [],
   "source": [
    "def calculate_voltage_ranges(L, R):\n",
    "    alpha = 1/3\n",
    "    beta = 2/3\n",
    "    z1 = 1\n",
    "    z2 = -1\n",
    "\n",
    "    A = -((beta - alpha) * (L - R) ** 2) / (((1 - alpha) * L + alpha * R) * ((1 - beta) * L + beta * R) * (np.log(L) - np.log(R)))\n",
    "    B = ( np.log(((1 - beta) * L + beta * R)) - np.log(((1 - alpha) * L + alpha * R))  ) / A\n",
    "\n",
    "    Vq1 = (np.log(R) - np.log(L)) / (z2 * (1 - B))\n",
    "    Vq2 = (np.log(R) - np.log(L)) / (z1 * (1 - B))\n",
    "\n",
    "    Vqmin = np.min([Vq1, Vq2])\n",
    "    Vqmax = np.max([Vq1, Vq2])\n",
    "\n",
    "    V1_range = np.linspace(Vqmin-80, Vqmin, 200)\n",
    "    V2_range = np.linspace(Vqmin, Vqmax, 200)\n",
    "    V3_range = np.linspace(Vqmax, Vqmax+80, 200)\n",
    "\n",
    "    return alpha, beta, z1, z2, V1_range, V2_range, V3_range"
   ]
  },
  {
   "cell_type": "code",
   "execution_count": 5,
   "id": "12cfe0fc",
   "metadata": {
    "execution": {
     "iopub.execute_input": "2023-12-25T02:29:28.570438Z",
     "iopub.status.busy": "2023-12-25T02:29:28.570151Z",
     "iopub.status.idle": "2023-12-25T02:29:28.619055Z",
     "shell.execute_reply": "2023-12-25T02:29:28.618369Z"
    },
    "papermill": {
     "duration": 0.05915,
     "end_time": "2023-12-25T02:29:28.621150",
     "exception": false,
     "start_time": "2023-12-25T02:29:28.562000",
     "status": "completed"
    },
    "tags": []
   },
   "outputs": [],
   "source": [
    " # Define the second order terms\n",
    "def second_order_terms(V, alpha, beta, L, R, z1, z2):\n",
    "    # Constants\n",
    "    c10a, c20a, c10b, c20b, phi0a, phi0b, y0, J10, J20 = zeroth_order_terms(V, alpha, beta, L, R, z1, z2)\n",
    "    c11a, c21a, c11b, c21b, phi1a, phi1b, y1, J11, J21 = first_order_terms(V, alpha, beta, L, R, z1, z2)\n",
    "    H1 = 1.0\n",
    "    phiL = V\n",
    "    phiR = 0.0\n",
    "    c1L  = L / z1\n",
    "    c1R  = R / z1\n",
    "    T0   = J10 +  J20\n",
    "    T1   = J11 +  J21\n",
    "    I1   = z1*J11 + z2*J21\n",
    "\n",
    "    # Intermediate calculations\n",
    "    A1 = -z1 * (c1L - c10a) / (alpha * H1 * (np.log(c1L) - np.log(c10a)))\n",
    "    B1 = z1 * (c10b - c1R) / ((1 - beta) * H1 * (np.log(c10b) - np.log(c1R)))\n",
    "\n",
    "    A2_1 = (z1 * z2 * (phi1a - phi1b) / ((z1 - z2) * H1)) * (\n",
    "    (1 / z1) + (V - phi0a) / (np.log(c1L) - np.log(c10a)) - (V - phi0a) * (c1L - c10a) / ((np.log(c1L) - np.log(c10a))**2 * c10a) )\n",
    "\n",
    "    # A2:\n",
    "    A2_2 = (z1 * (c1L - c10a) / (alpha * H1 * (np.log(c1L) - np.log(c10a))) ) * (\n",
    "    z1 * z2 * alpha * (phi0b - phi0a) / (2 * (z1 * (z1 - z2) * c10a)**2) - (z1 + z2) / (6 * (z1 * (z1 - z2) * c10a)**2))\n",
    "\n",
    "    A2_3 = (z1 * z2 * (phi0a - phi0b) / (H1 * (np.log(c1L) - np.log(c10a)) * (z1 - z2)**2) ) * (\n",
    "    (z1 - z2) * phi1a - ((z1 - z2) * (c1L - c10a) * phi1a / ((np.log(c1L) - np.log(c10a)) * c10a)) - 1 / (2 * z1 * c10a)\n",
    "    + (c1L - c10a) / (2 * z1 * (np.log(c1L) - np.log(c10a)) * c10a**2)\n",
    "    + z2 * (c11a + c21a) * (V - phi0a) * (c1L + c10a) / (2 * (np.log(c1L) - np.log(c10a)) * c10a**2) )\n",
    "\n",
    "    A2 = A2_1 - A2_2 - A2_3\n",
    "\n",
    "    # B2:\n",
    "    B2_1 = (z1 * z2 * (phi1a - phi1b) / ((z1 - z2) * H1)) * (\n",
    "    (1 / z1) + phi0b / (np.log(c10b) - np.log(c1R)) - phi0b * (c10b - c1R) / ((np.log(c10b) - np.log(c1R))**2 * c10b))\n",
    "\n",
    "    B2_2 = (z1 * (c10b - c1R) / ((1 - beta) * H1 * (np.log(c10b) - np.log(c1R)))) * (\n",
    "    z1 * z2 * (1 - beta) * (phi0a - phi0b) / (2 * (z1 * (z1 - z2) * c10b)**2) - (z1 + z2) / (6 * (z1 * (z1 - z2) * c10b)**2))\n",
    "\n",
    "    B2_3 = (z1 * z2 * (phi0b - phi0a) / (H1 * (np.log(c10b) - np.log(c1R)) * (z1 - z2)**2)) * (\n",
    "    (z1 - z2) * phi1b - (z1 - z2) * (c10b - c1R) * phi1b / ((np.log(c10b) - np.log(c1R)) * c10b) - (1 / (2 * z1 * c10b))\n",
    "    + (c10b - c1R) / (2 * z1 * (np.log(c10b) - np.log(c1R)) * c10b**2)\n",
    "    + z2 * (c11b + c21b) * phi0b * (c1R + c10b) / (2 * (np.log(c10b) - np.log(c1R)) * c10b**2))\n",
    "\n",
    "\n",
    "    B2 = B2_1 + B2_2 - B2_3\n",
    "\n",
    "    # C:\n",
    "    C_1 = -(z1**2 * c11a + z2**2 * c21a) / (2 * (z1 * (z1 - z2) * c10a)**2)\n",
    "    C_2 = (z1**2 * c11b + z2**2 * c21b) / (2 * (z1 * (z1 - z2) * c10b)**2)\n",
    "    C_3 = (z1 + z2) * ((c10b)**2 - (c10a)**2) / (12 * (z1 * (z1 - z2) * c10a * c10b)**2)\n",
    "    C_4 = -I1 * y1\n",
    "\n",
    "    C_5 = ((z1 - z2) * (L - R) * V * y1) / (H1 * (np.log(L) - np.log(R)) * c10a) * (\n",
    "    (z2 * alpha * (phi0b - phi0a) / (z1 - z2)) - (c10a * (phi0a - phi0b) / (H1 * T0)) - 1 / (z1 - z2))\n",
    "\n",
    "    C_6 = z2 * V / (2 * z1 * (z1 - z2)**2 * (np.log(L) - np.log(R))) * (1 / (c10a)**2 - 1 / (c10b)**2)\n",
    "\n",
    "    C_7 = z1 * z2 * (phi1a - phi1b) * V / (np.log(L) - np.log(R)) * (\n",
    "        (1 / (z1 * (z1 - z2))) * (alpha / c10a + (1 - beta) / c10b) + y0 / H1)\n",
    "\n",
    "    C_8 = -((z1**2 * z2**2 * V) / (2 * (np.log(L) - np.log(R)) ) ) * (T0 * y1 + T1 * y0)**2\n",
    "\n",
    "    C_9 = (z1 * z2 * V * (phi0a - phi0b) * y0 / (H1 * c10a * (np.log(L) - np.log(R))) ) * (\n",
    "        z2 * alpha * (phi0b - phi0a) / (z1 - z2) - (1 / (z1 - z2)) )\n",
    "\n",
    "    C_10 = (J11 * V / (z1 * T0 * (np.log(L) - np.log(R))) ) * (1 / c10b - 1 / c10a)\n",
    "\n",
    "    C_11 = (J10 * (phi0a - phi0b) * V) / (z1 * T0**2 * H1 * (np.log(L) - np.log(R))) * (\n",
    "        1 / c10b - 1 / c10a)\n",
    "\n",
    "    C = C_1 + C_2 + C_3 + C_4 + C_5 + C_6 + C_7 + C_8 + C_9 + C_10 + C_11\n",
    "\n",
    "\n",
    "    # Calculate c12a, c22a, c12b, c22b\n",
    "    c12a = -(z1 + 4 * z2) / (24 * z1 * (z1 - z2)**2 * c10a) - ((phi1a - phi1b) * alpha * z2) / (z1 - z2)\n",
    "    c22a = (4 * z1 + z2) / (24 * z1 * (z1 - z2)**2 * c10a) + ((phi1a - phi1b) * alpha * z1) / (z1 - z2)\n",
    "    c12b = -(z1 + 4 * z2) / (24 * z1 * (z1 - z2)**2 * c10b) + ((phi1a - phi1b) * (1 - beta) * z2) / (z1 - z2)\n",
    "    c22b = (4 * z1 + z2) / (24 * z1 * (z1 - z2)**2 * c10b) - ((phi1a - phi1b) * (1 - beta) * z1) / (z1 - z2)\n",
    "\n",
    "    # Calculate phi2a, phi2b\n",
    "    phi2a = (B1 * C - (z1 - z2) * y0 * B1 * A2 - z2 * y0 * B1 * (phi1b - phi1a) / H1 +\n",
    "              B2 - A2) / (A1 - B1 + (z1 - z2) * y0 * A1 * B1)\n",
    "    phi2b = (1 - (z1 - z2) * y0 * A1) * phi2a + C - (z1 - z2) * y0 * A2 - z2 * y0 * (phi1b - phi1a) / H1\n",
    "\n",
    "    # Calculate y2\n",
    "    y2_1 = ((phi1a - phi1b) * y0 / (H1 * T0)) - y1 / c10a * (\n",
    "    (z2 * alpha * (phi0b - phi0a) / (z1 - z2)) - c10a * (phi0a - phi0b) / (H1 * T0) - (1 / (z1 - z2)) )\n",
    "\n",
    "    y2_2 = (1 / (2 * z1**2 * (z1 - z2)**2 * T0)) * (1 / (c10a)**2 - 1 / (c10b)**2)\n",
    "\n",
    "    y2_3 = ((phi1a - phi1b) / (z1 * (z1 - z2) * T0)) * (alpha / c10a + (1 - beta) / c10b)\n",
    "\n",
    "    y2_4 = (-z1 * z2 / (2 * T0)) * (T0 * y1 + T1 * y0)**2\n",
    "\n",
    "    y2_5 = (phi0a - phi0b) * y0 / (H1 * T0 * c10a) * (\n",
    "        z2 * alpha * (phi0b - phi0a) / (z1 - z2) - 1 / (z1 - z2) )\n",
    "\n",
    "    y2_6 = J11 / (z1**2 * z2 * T0**2) * (1 / c10b - 1 / c10a)\n",
    "\n",
    "    y2_7 = J10 * (phi0a - phi0b) / (z1**2 * z2 * T0**3 * H1) * (1 / c10b - 1 / c10a)\n",
    "\n",
    "    y2 = y2_1 + y2_2 + y2_3 + y2_4 + y2_5 + y2_6 + y2_7\n",
    "\n",
    "\n",
    "\n",
    "\n",
    "\n",
    "    # Calculate J12 and J22:\n",
    "    Jcommon_1 = (z1 * z2 * (phi1a - phi1b) / (H1 * (z1 - z2)))\n",
    "    Jcommon_2 = z1 * (c1L - c10a) / (alpha * H1 * (np.log(c1L) - np.log(c10a)))\n",
    "    Jcommon_3 = (phi2a + z1 * z2 * alpha * (phi0b - phi0a) / (2 * (z1 * (z1 - z2) * c10a)**2) - (z1 + z2) / (6 * (z1 * (z1 - z2) * c10a)**2))\n",
    "    Jcommon_4 = z1 * z2 * (phi0a - phi0b) / (H1 * (np.log(c1L) - np.log(c10a)) * (z1 - z2)**2)\n",
    "    Jcommon_5 = (z1 - z2) * phi1a - ( (z1 - z2) * (c1L - c10a) * phi1a / ((np.log(c1L) - np.log(c10a)) * c10a) ) - 1 / (2 * z1 * c10a) + (c1L - c10a) / (2 * z1 * (np.log(c1L) - np.log(c10a)) * (c10a**2)) + z2 * (c11a + c21a) * (phiL - phi0a) * (c1L + c10a) / (2 * (np.log(c1L) - np.log(c10a)) * (c10a**2))\n",
    "    \n",
    "    J_term2 = Jcommon_2 * Jcommon_3\n",
    "    J_term3 = Jcommon_4 * Jcommon_5\n",
    "    \n",
    "    # Calculate J12:\n",
    "    J12_term1 = Jcommon_1 * ((1 / z1) + (phiL - phi0a) / (np.log(c1L) - np.log(c10a)) - (phiL - phi0a) * (c1L - c10a) / ((np.log(c1L) - np.log(c10a))**2 * c10a))\n",
    "    J12_term2 = Jcommon_2 * Jcommon_3\n",
    "    J12_term3 = Jcommon_4 * Jcommon_5\n",
    "\n",
    "    J12 = J12_term1 - J12_term2 - J12_term3\n",
    "\n",
    "    # Calculate J22:\n",
    "    J22_term1 = - Jcommon_1 * ((1 / z2) + (phiL - phi0a) / (np.log(c1L) - np.log(c10a)) - (phiL - phi0a) * (c1L - c10a) / ((np.log(c1L) - np.log(c10a))**2 * c10a))\n",
    "    J22_term2 = Jcommon_2 * Jcommon_3\n",
    "    J22_term3 = Jcommon_4 * Jcommon_5\n",
    "\n",
    "    J22 = J22_term1 + J22_term2 + J22_term3\n",
    "\n",
    "\n",
    "    return c12a, c22a, c12b, c22b, phi2a, phi2b, y2, J12, J22\n",
    "\n",
    "\n",
    "#result = second_order_terms(V, alpha, beta, L, R, z1, z2)\n",
    "#print(result)\n"
   ]
  },
  {
   "cell_type": "code",
   "execution_count": 6,
   "id": "f0b8fb75",
   "metadata": {
    "execution": {
     "iopub.execute_input": "2023-12-25T02:29:28.637165Z",
     "iopub.status.busy": "2023-12-25T02:29:28.636556Z",
     "iopub.status.idle": "2023-12-25T02:29:28.643165Z",
     "shell.execute_reply": "2023-12-25T02:29:28.642310Z"
    },
    "papermill": {
     "duration": 0.016289,
     "end_time": "2023-12-25T02:29:28.645234",
     "exception": false,
     "start_time": "2023-12-25T02:29:28.628945",
     "status": "completed"
    },
    "tags": []
   },
   "outputs": [],
   "source": [
    "# Identify consecutive indices and keep one element per consecutive sequence with minimum absolute value\n",
    "def keep_min_abs_per_consecutive(indices, values):\n",
    "    result_indices = []\n",
    "    i = 0\n",
    "    while i < len(indices):\n",
    "        j = i + 1\n",
    "        while j < len(indices) and indices[j] == indices[j - 1] + 1:\n",
    "            j += 1\n",
    "\n",
    "        # Find the index with minimum absolute value in the consecutive sequence\n",
    "        min_abs_index = min(range(i, j), key=lambda k: abs(values[indices[k]]))\n",
    "        result_indices.append(indices[min_abs_index])\n",
    "        i = j\n",
    "\n",
    "    return np.array(result_indices)"
   ]
  },
  {
   "cell_type": "code",
   "execution_count": 7,
   "id": "12970f44",
   "metadata": {
    "execution": {
     "iopub.execute_input": "2023-12-25T02:29:28.659845Z",
     "iopub.status.busy": "2023-12-25T02:29:28.659582Z",
     "iopub.status.idle": "2023-12-25T02:29:28.666612Z",
     "shell.execute_reply": "2023-12-25T02:29:28.665785Z"
    },
    "papermill": {
     "duration": 0.016837,
     "end_time": "2023-12-25T02:29:28.668665",
     "exception": false,
     "start_time": "2023-12-25T02:29:28.651828",
     "status": "completed"
    },
    "tags": []
   },
   "outputs": [],
   "source": [
    "def remove_close_roots(V_zero, V_range,  distance_threshold=0.3):\n",
    "    sorted_indices = np.searchsorted(V_range, V_zero)\n",
    "    #sorted_roots = V_zero[sorted_indices]\n",
    "\n",
    "    result_indices = [sorted_indices[0]]\n",
    "    \n",
    "    for i in range(1, len(sorted_indices)):\n",
    "        distance = V_range[sorted_indices[i]] - V_range[result_indices[-1]]\n",
    "\n",
    "        if distance >= distance_threshold:\n",
    "            result_indices.append(sorted_indices[i])\n",
    "            #print('1=', V_range[sorted_roots[i]])\n",
    "\n",
    "        elif distance < distance_threshold and abs(V_range[sorted_indices[i]]) < abs(V_range[result_indices[-1]]):\n",
    "            result_indices.pop()  # Remove the last added index\n",
    "            result_indices.append(sorted_indices[i])\n",
    "            #print('2=', x_values[sorted_roots[i]])\n",
    "\n",
    "        #else:\n",
    "         #       result_indices.append(sorted_indices[-1])\n",
    "                #print('3=', x_values[sorted_roots[-1]])\n",
    "\n",
    "    return V_range[np.array(result_indices)]"
   ]
  },
  {
   "cell_type": "code",
   "execution_count": 8,
   "id": "ba328201",
   "metadata": {
    "execution": {
     "iopub.execute_input": "2023-12-25T02:29:28.682466Z",
     "iopub.status.busy": "2023-12-25T02:29:28.682145Z",
     "iopub.status.idle": "2023-12-25T02:29:28.694531Z",
     "shell.execute_reply": "2023-12-25T02:29:28.693765Z"
    },
    "papermill": {
     "duration": 0.021647,
     "end_time": "2023-12-25T02:29:28.696548",
     "exception": false,
     "start_time": "2023-12-25T02:29:28.674901",
     "status": "completed"
    },
    "tags": []
   },
   "outputs": [],
   "source": [
    "def remove_same_sign_points(V_zero, V_range, J1_prd2, J2_prd2):\n",
    "    new_V_zero = []\n",
    "\n",
    "    LHS_index = np.abs(V_range - (V_zero[0] - 10) ).argmin()\n",
    "    mid_0_1 = (V_zero[0] + V_zero[1]) / 2\n",
    "    mid_0_1_index = np.abs(V_range - mid_0_1).argmin()\n",
    "    sign_J1_prd2_LHS = np.sign(J1_prd2[LHS_index])\n",
    "    sign_J2_prd2_LHS = np.sign(J2_prd2[LHS_index])\n",
    "    sign_J1_prd2_0_1 = np.sign(J1_prd2[mid_0_1_index])\n",
    "    sign_J2_prd2_0_1 = np.sign(J2_prd2[mid_0_1_index])\n",
    "\n",
    "    if sign_J1_prd2_LHS != sign_J1_prd2_0_1 or sign_J2_prd2_LHS != sign_J2_prd2_0_1:\n",
    "        new_V_zero.append(V_zero[0])\n",
    "\n",
    "\n",
    "    for i in range(1, len(V_zero) - 1):\n",
    "        midpoint_prev = (V_zero[i - 1] + V_zero[i]) / 2\n",
    "        midpoint_next = (V_zero[i + 1] + V_zero[i]) / 2\n",
    "        mid_index_prev = np.abs(V_range - midpoint_prev).argmin()\n",
    "        mid_index_next = np.abs(V_range - midpoint_next).argmin()\n",
    "\n",
    "        # Append the signs for the current midpoint\n",
    "        sign_J1_prd2_prev = np.sign(J1_prd2[mid_index_prev])\n",
    "        sign_J2_prd2_prev = np.sign(J2_prd2[mid_index_prev])\n",
    "        sign_J1_prd2_next = np.sign(J1_prd2[mid_index_next])\n",
    "        sign_J2_prd2_next = np.sign(J2_prd2[mid_index_next])\n",
    "\n",
    "        threshold_value = 1e-2\n",
    "\n",
    "        if (\n",
    "            sign_J1_prd2_prev != sign_J1_prd2_next or\n",
    "            sign_J2_prd2_prev != sign_J2_prd2_next\n",
    "            ) and (\n",
    "            abs(J1_prd2[mid_index_prev]) > threshold_value and\n",
    "            abs(J2_prd2[mid_index_prev]) > threshold_value and\n",
    "            abs(J1_prd2[mid_index_next]) > threshold_value and\n",
    "            abs(J2_prd2[mid_index_next]) > threshold_value\n",
    "            ):\n",
    "            new_V_zero.append(V_zero[i])\n",
    "\n",
    "\n",
    "\n",
    "    RHS_index = np.abs(V_range - (V_zero[-1] + 10) ).argmin()\n",
    "    sign_J1_prd2_RHS = np.sign(J1_prd2[RHS_index])\n",
    "    sign_J2_prd2_RHS = np.sign(J2_prd2[RHS_index])\n",
    "    if sign_J1_prd2_next != sign_J1_prd2_RHS or sign_J2_prd2_next != sign_J2_prd2_RHS:\n",
    "        new_V_zero.append(V_zero[-1])\n",
    "\n",
    "\n",
    "    return np.array(new_V_zero)\n"
   ]
  },
  {
   "cell_type": "code",
   "execution_count": 9,
   "id": "d9259c5b",
   "metadata": {
    "execution": {
     "iopub.execute_input": "2023-12-25T02:29:28.710489Z",
     "iopub.status.busy": "2023-12-25T02:29:28.710183Z",
     "iopub.status.idle": "2023-12-25T02:29:36.179620Z",
     "shell.execute_reply": "2023-12-25T02:29:36.178485Z"
    },
    "papermill": {
     "duration": 7.479139,
     "end_time": "2023-12-25T02:29:36.181887",
     "exception": false,
     "start_time": "2023-12-25T02:29:28.702748",
     "status": "completed"
    },
    "tags": []
   },
   "outputs": [
    {
     "name": "stdout",
     "output_type": "stream",
     "text": [
      "V1= [-69.13945691  -0.22315002]\n",
      "V2= [ 0.22315002 69.13945691]\n",
      "J1_prd2 =  [-4.00642407e-06  1.06762486e-06]\n",
      "J2_prd2 =  [-1.06762485e-06  4.00642407e-06]\n",
      "V_zero_old =  [-69.13945691  -0.22315002   0.22315002  69.13945691]\n",
      "V_zero_new =  [-69.13945691  -0.22315002   0.22315002  69.13945691]\n"
     ]
    }
   ],
   "source": [
    "import numpy as np\n",
    "import matplotlib.pyplot as plt\n",
    "\n",
    "L = 1.25\n",
    "R = 1\n",
    "\n",
    "# Define V range\n",
    "#num = 1e+10\n",
    "V_range = np.linspace(-500, 500, int(1e7))  # Adjust the number of points as needed\n",
    "alpha, beta, z1, z2, V1_range, V2_range, V3_range = calculate_voltage_ranges(L, R)\n",
    "\n",
    "\n",
    "c10a, c20a, c10b, c20b, phi0a, phi0b, y0, J10, J20 = zeroth_order_terms(V_range, alpha, beta, L, R, z1, z2)\n",
    "c11a, c21a, c11b, c21b, phi1a, phi1b, y1, J11, J21 = first_order_terms(V_range, alpha, beta, L, R, z1, z2)\n",
    "c12a, c22a, c12b, c22b, phi2a, phi2b, y2, J12, J22 = second_order_terms(V_range, alpha, beta, L, R, z1, z2)\n",
    "\n",
    "J1_prd2 = J11\n",
    "J2_prd2 = J21\n",
    "\n",
    "# Find indices of zero values in J1_prd2 and J2_prd2\n",
    "#zero_indices1 = np.where(J1_prd2 == 0)[0]\n",
    "#zero_indices2 = np.where(J2_prd2 == 0)[0]\n",
    "\n",
    "# Find indices of values very close to zero in J1_prd2 and J2_prd2\n",
    "epsilon = 1e-3  # Adjust this value as needed\n",
    "zero_indices1 = np.where(np.isclose(J1_prd2, 0., atol=epsilon))[0]\n",
    "zero_indices2 = np.where(np.isclose(J2_prd2, 0., atol=epsilon))[0]\n",
    "#zero_indices1 = np.where(np.abs(J1_prd2) <  epsilon)[0]\n",
    "#zero_indices2 = np.where(np.abs(J2_prd2) <  epsilon)[0]\n",
    "V_zero_values1 = V_range[zero_indices1]\n",
    "V_zero_values2 = V_range[zero_indices2]\n",
    "\n",
    "\n",
    "# Keep one element per consecutive sequence in zero_indices1 and zero_indices2\n",
    "zero_indices1 = keep_min_abs_per_consecutive(zero_indices1, J1_prd2)\n",
    "zero_indices2 = keep_min_abs_per_consecutive(zero_indices2, J2_prd2)\n",
    "\n",
    "\n",
    "# Get corresponding values of t for zero values in J1_prd2 and J2_prd2\n",
    "V_zero_values1 = V_range[zero_indices1]\n",
    "V_zero_values2 = V_range[zero_indices2]\n",
    "print('V1=', V_zero_values1)\n",
    "print('V2=', V_zero_values2)\n",
    "print('J1_prd2 = ', J1_prd2[zero_indices1])\n",
    "print('J2_prd2 = ', J2_prd2[zero_indices2])\n",
    "\n",
    "# Combine the zero values\n",
    "V_combined = np.concatenate([V_zero_values1, V_zero_values2])\n",
    "\n",
    "# Rearrange to have V_zero\n",
    "V_zero = np.sort(V_combined)\n",
    "print('V_zero_old = ', V_zero)\n",
    "# Remove close values in V_combined\n",
    "V_zero = remove_close_roots(V_zero, V_range)\n",
    "print('V_zero_new = ', V_zero)"
   ]
  },
  {
   "cell_type": "code",
   "execution_count": 10,
   "id": "05249fe1",
   "metadata": {
    "execution": {
     "iopub.execute_input": "2023-12-25T02:29:36.195533Z",
     "iopub.status.busy": "2023-12-25T02:29:36.195195Z",
     "iopub.status.idle": "2023-12-25T02:29:36.578936Z",
     "shell.execute_reply": "2023-12-25T02:29:36.577866Z"
    },
    "papermill": {
     "duration": 0.392941,
     "end_time": "2023-12-25T02:29:36.581100",
     "exception": false,
     "start_time": "2023-12-25T02:29:36.188159",
     "status": "completed"
    },
    "tags": []
   },
   "outputs": [
    {
     "name": "stdout",
     "output_type": "stream",
     "text": [
      "V_zero= [-69.13945691  -0.22315002   0.22315002  69.13945691]\n"
     ]
    }
   ],
   "source": [
    "# Call the function to get the updated V_zero\n",
    "if len(V_zero) > 2 and len(V_zero_values1) > 1 and len(V_zero_values2) > 1:\n",
    "    V_zero = remove_same_sign_points(V_zero, V_range, J1_prd2, J2_prd2)\n",
    "\n",
    "# Convert V_zero to np.array form (if it's not already)\n",
    "V_zero = np.array(V_zero)\n",
    "\n",
    "# Print the updated V_zero\n",
    "print('V_zero=', V_zero)"
   ]
  },
  {
   "cell_type": "code",
   "execution_count": 11,
   "id": "6794e844",
   "metadata": {
    "execution": {
     "iopub.execute_input": "2023-12-25T02:29:36.594831Z",
     "iopub.status.busy": "2023-12-25T02:29:36.594543Z",
     "iopub.status.idle": "2023-12-25T02:29:38.058901Z",
     "shell.execute_reply": "2023-12-25T02:29:38.058109Z"
    },
    "papermill": {
     "duration": 1.474018,
     "end_time": "2023-12-25T02:29:38.061465",
     "exception": false,
     "start_time": "2023-12-25T02:29:36.587447",
     "status": "completed"
    },
    "tags": []
   },
   "outputs": [
    {
     "data": {
      "image/png": "[encoded data removed]",
      "text/plain": [
       "<Figure size 1800x400 with 5 Axes>"
      ]
     },
     "metadata": {},
     "output_type": "display_data"
    }
   ],
   "source": [
    "# Update the length of V_zero\n",
    "lng = len(V_zero)\n",
    "\n",
    "# Create new subintervals using np.linspace\n",
    "if len(V_zero) > 0:\n",
    "      subintervals = [\n",
    "                 np.linspace(V_zero[0]-80, V_zero[0], 200)\n",
    "               ] + [\n",
    "                 np.linspace(V_zero[i], V_zero[i + 1], 200) for i in range(lng - 1)\n",
    "               ] + [\n",
    "                 np.linspace(V_zero[-1], V_zero[-1]+80, 200)\n",
    "               ]\n",
    "else:\n",
    "      subintervals = [V_range[0], V_range[-1]]\n",
    "\n",
    "\n",
    "# Plot J1_prd2 and J2_prd2 on subintervals\n",
    "fig, axs = plt.subplots(1, lng + 1, figsize=(18, 4))\n",
    "\n",
    "for i, interval in enumerate(subintervals):\n",
    "    start_point = interval[0]\n",
    "    end_point = interval[-1]\n",
    "    interval_range = np.linspace(start_point, end_point, 200)\n",
    "    c10a, c20a, c10b, c20b, phi0a, phi0b, y0, J10, J20 = zeroth_order_terms(interval_range, alpha, beta, L, R, z1, z2)\n",
    "    c11a, c21a, c11b, c21b, phi1a, phi1b, y1, J11, J21 = first_order_terms(interval_range, alpha, beta, L, R, z1, z2)\n",
    "    c12a, c22a, c12b, c22b, phi2a, phi2b, y2, J12, J22 = second_order_terms(interval_range, alpha, beta, L, R, z1, z2)\n",
    "    J1_prd22 = J11\n",
    "    J2_prd22 = J21\n",
    "\n",
    "    axs[i].plot(interval_range, J1_prd22, color='blue', label=f'$J_{{10}} \\cdot J_{{11}} $')\n",
    "    axs[i].plot(interval_range, J2_prd22, color='red', label=f'$J_{{20}} \\cdot J_{{21}} $')\n",
    "    axs[i].set_title(f'Subinterval {i + 1}')\n",
    "    axs[i].set_xlabel('V')\n",
    "    axs[i].set_ylabel('$J_{product}$')\n",
    "    axs[i].legend()\n",
    "# Adjust the spacing between subplots\n",
    "plt.tight_layout()\n",
    "\n",
    "# Display the figure\n",
    "plt.show()"
   ]
  },
  {
   "cell_type": "code",
   "execution_count": 12,
   "id": "add054af",
   "metadata": {
    "execution": {
     "iopub.execute_input": "2023-12-25T02:29:38.077502Z",
     "iopub.status.busy": "2023-12-25T02:29:38.077221Z",
     "iopub.status.idle": "2023-12-25T02:32:27.075461Z",
     "shell.execute_reply": "2023-12-25T02:32:27.074539Z"
    },
    "papermill": {
     "duration": 169.0205,
     "end_time": "2023-12-25T02:32:27.089533",
     "exception": false,
     "start_time": "2023-12-25T02:29:38.069033",
     "status": "completed"
    },
    "tags": []
   },
   "outputs": [
    {
     "name": "stderr",
     "output_type": "stream",
     "text": [
      "Processing time:   5%|▌         | 1/20 [00:09<02:56,  9.29s/it]"
     ]
    },
    {
     "name": "stdout",
     "output_type": "stream",
     "text": [
      "V_zero= [-5.41479054 -2.9957303   2.9957303   5.41479054]\n"
     ]
    },
    {
     "name": "stderr",
     "output_type": "stream",
     "text": [
      "Processing time:  10%|█         | 2/20 [00:18<02:45,  9.22s/it]"
     ]
    },
    {
     "name": "stdout",
     "output_type": "stream",
     "text": [
      "V_zero= [-8.22103082 -1.89711019  1.89711019  8.22103082]\n"
     ]
    },
    {
     "name": "stderr",
     "output_type": "stream",
     "text": [
      "Processing time:  15%|█▌        | 3/20 [00:27<02:36,  9.19s/it]"
     ]
    },
    {
     "name": "stdout",
     "output_type": "stream",
     "text": [
      "V_zero= [-11.16287112  -1.38629014   1.38629014  11.16287112]\n"
     ]
    },
    {
     "name": "stderr",
     "output_type": "stream",
     "text": [
      "Processing time:  20%|██        | 4/20 [00:36<02:26,  9.17s/it]"
     ]
    },
    {
     "name": "stdout",
     "output_type": "stream",
     "text": [
      "V_zero= [-14.70725147  -1.0498301    1.0498301   14.70725147]\n"
     ]
    },
    {
     "name": "stderr",
     "output_type": "stream",
     "text": [
      "Processing time:  25%|██▌       | 5/20 [00:45<02:17,  9.16s/it]"
     ]
    },
    {
     "name": "stdout",
     "output_type": "stream",
     "text": [
      "V_zero= [-19.32293193  -0.79851008   0.79851008  19.32293193]\n"
     ]
    },
    {
     "name": "stderr",
     "output_type": "stream",
     "text": [
      "Processing time:  30%|███       | 6/20 [00:55<02:08,  9.15s/it]"
     ]
    },
    {
     "name": "stdout",
     "output_type": "stream",
     "text": [
      "V_zero= [-25.80473258  -0.59783006   0.59783006  25.80473258]\n"
     ]
    },
    {
     "name": "stderr",
     "output_type": "stream",
     "text": [
      "Processing time:  35%|███▌      | 7/20 [01:04<01:58,  9.12s/it]"
     ]
    },
    {
     "name": "stdout",
     "output_type": "stream",
     "text": [
      "V_zero= [-35.81171358  -0.43079004   0.43079004  35.81171358]\n"
     ]
    },
    {
     "name": "stderr",
     "output_type": "stream",
     "text": [
      "Processing time:  40%|████      | 8/20 [01:13<01:49,  9.10s/it]"
     ]
    },
    {
     "name": "stdout",
     "output_type": "stream",
     "text": [
      "V_zero= [-53.62765536  -0.28769003   0.28769003  53.62765536]\n"
     ]
    },
    {
     "name": "stderr",
     "output_type": "stream",
     "text": [
      "Processing time:  45%|████▌     | 9/20 [01:22<01:40,  9.13s/it]"
     ]
    },
    {
     "name": "stdout",
     "output_type": "stream",
     "text": [
      "V_zero= [-94.93209949  -0.16251002   0.16251002  94.93209949]\n"
     ]
    },
    {
     "name": "stderr",
     "output_type": "stream",
     "text": [
      "Processing time:  65%|██████▌   | 13/20 [01:53<00:56,  8.11s/it]"
     ]
    },
    {
     "name": "stdout",
     "output_type": "stream",
     "text": [
      "V_zero= [-69.13943691  -0.22315002   0.22315002  69.13943691]\n"
     ]
    },
    {
     "name": "stderr",
     "output_type": "stream",
     "text": [
      "Processing time:  70%|███████   | 14/20 [02:01<00:48,  8.05s/it]"
     ]
    },
    {
     "name": "stdout",
     "output_type": "stream",
     "text": [
      "V_zero= [-51.40759514  -0.30011003   0.30011003  51.40759514]\n"
     ]
    },
    {
     "name": "stderr",
     "output_type": "stream",
     "text": [
      "Processing time:  75%|███████▌  | 15/20 [02:09<00:39,  8.00s/it]"
     ]
    },
    {
     "name": "stdout",
     "output_type": "stream",
     "text": [
      "V_zero= [-41.51999415  -0.37157004   0.37157004  41.51999415]\n"
     ]
    },
    {
     "name": "stderr",
     "output_type": "stream",
     "text": [
      "Processing time:  80%|████████  | 16/20 [02:17<00:31,  7.96s/it]"
     ]
    },
    {
     "name": "stdout",
     "output_type": "stream",
     "text": [
      "V_zero= [-35.20109352  -0.43825004   0.43825004  35.20109352]\n"
     ]
    },
    {
     "name": "stderr",
     "output_type": "stream",
     "text": [
      "Processing time:  85%|████████▌ | 17/20 [02:25<00:23,  7.95s/it]"
     ]
    },
    {
     "name": "stdout",
     "output_type": "stream",
     "text": [
      "V_zero= [-30.80605308  -0.50077005   0.50077005  30.80605308]\n"
     ]
    },
    {
     "name": "stderr",
     "output_type": "stream",
     "text": [
      "Processing time:  90%|█████████ | 18/20 [02:33<00:15,  7.90s/it]"
     ]
    },
    {
     "name": "stdout",
     "output_type": "stream",
     "text": [
      "V_zero= [-27.56699276  -0.55961006   0.55961006  27.56699276]\n"
     ]
    },
    {
     "name": "stderr",
     "output_type": "stream",
     "text": [
      "Processing time:  95%|█████████▌| 19/20 [02:41<00:07,  7.88s/it]"
     ]
    },
    {
     "name": "stdout",
     "output_type": "stream",
     "text": [
      "V_zero= [-25.07715251  -0.61519006   0.61519006  25.07715251]\n"
     ]
    },
    {
     "name": "stderr",
     "output_type": "stream",
     "text": [
      "Processing time: 100%|██████████| 20/20 [02:48<00:00,  8.45s/it]"
     ]
    },
    {
     "name": "stdout",
     "output_type": "stream",
     "text": [
      "V_zero= [-23.10093231  -0.66783007   0.66783007  23.10093231]\n",
      "Minimum V_zero: -94.93209949320995\n",
      "Maximum V_zero: 94.93209949320996\n"
     ]
    },
    {
     "name": "stderr",
     "output_type": "stream",
     "text": [
      "\n"
     ]
    }
   ],
   "source": [
    "# Define the ranges for L and R\n",
    "L_values = np.linspace(0.05, 1.95, 20)\n",
    "#L_values = [0.05,  0.95, 1.05,  2]\n",
    "R = 1\n",
    "\n",
    "# Initialize matrices for signs_J1 and signs_J2\n",
    "lenL = len(L_values)\n",
    "num_subintervals = 20\n",
    "\n",
    "signs_J1 = np.zeros((lenL, num_subintervals))\n",
    "signs_J2 = np.zeros((lenL, num_subintervals))\n",
    "V_critic = np.zeros((lenL, num_subintervals))\n",
    "\n",
    "# Initialize min_V and max_V for plots\n",
    "min_V = 60  # Initialize to a positive large value\n",
    "max_V = -60  # Initialize to a engative large value\n",
    "\n",
    "for i, L in tqdm(enumerate(L_values), total=len(L_values), desc='Processing time'):\n",
    "    V_range = np.linspace(-100, 100, int(1e7))  # Adjust the number of points as needed\n",
    "    alpha, beta, z1, z2, V1_range, V2_range, V3_range = calculate_voltage_ranges(L, R)\n",
    "\n",
    "\n",
    "    c10a, c20a, c10b, c20b, phi0a, phi0b, y0, J10, J20 = zeroth_order_terms(V_range, alpha, beta, L, R, z1, z2)\n",
    "    c11a, c21a, c11b, c21b, phi1a, phi1b, y1, J11, J21 = first_order_terms(V_range, alpha, beta, L, R, z1, z2)\n",
    "    c12a, c22a, c12b, c22b, phi2a, phi2b, y2, J12, J22 = second_order_terms(V_range, alpha, beta, L, R, z1, z2)\n",
    "    J1_prd2 = J11\n",
    "    J2_prd2 = J21\n",
    "\n",
    "    # Find indices of values very close to zero in J1_prd2 and J2_prd2\n",
    "    epsilon = 1e-2  # Adjust this value as needed\n",
    "    zero_indices1 = np.where(np.isclose(J1_prd2, 0., atol=epsilon))[0]\n",
    "    zero_indices2 = np.where(np.isclose(J2_prd2, 0., atol=epsilon))[0]\n",
    "\n",
    "\n",
    "    # Keep one element per consecutive sequence in zero_indices1 and zero_indices2\n",
    "    zero_indices1 = keep_min_abs_per_consecutive(zero_indices1, J1_prd2)\n",
    "    zero_indices2 = keep_min_abs_per_consecutive(zero_indices2, J2_prd2)\n",
    "\n",
    "    # Get corresponding values of V_range for zero values in J1_prd2 and J2_prd2\n",
    "    V_zero_values1 = V_range[zero_indices1]\n",
    "    V_zero_values2 = V_range[zero_indices2]\n",
    "    #print('V1=', V_zero_values1)\n",
    "    #print('V2=', V_zero_values2)\n",
    "\n",
    "    # Combine the zero values\n",
    "    V_combined = np.concatenate([V_zero_values1, V_zero_values2])\n",
    "\n",
    "    # Rearrange to have V_zero\n",
    "    V_zero = np.sort(V_combined)\n",
    "\n",
    "    # Remove close values in V_combined\n",
    "    V_zero = remove_close_roots(V_zero, V_range)\n",
    "    #print('V_zero_new:', V_zero)\n",
    "\n",
    "    # Call the function to get the updated V_zero\n",
    "    if len(V_zero) > 2 and len(V_zero_values1) > 1 and len(V_zero_values2) > 1:\n",
    "        V_zero = remove_same_sign_points(V_zero, V_range, J1_prd2, J2_prd2)\n",
    "        # Convert V_zero to np.array form (if it's not already)\n",
    "        V_zero = np.array(V_zero)\n",
    "        print('V_zero=', V_zero)\n",
    "\n",
    "    # Update the length of V_zero\n",
    "    lng = len(V_zero)\n",
    "\n",
    "    # Create new subintervals using np.linspace\n",
    "    if lng > 0:\n",
    "        min_V = min(min_V, np.min(V_zero))\n",
    "        max_V = max(max_V, np.max(V_zero))\n",
    "        subintervals = [\n",
    "                  np.linspace(V_zero[0]-80, V_zero[0], num_subintervals)\n",
    "                ] + [\n",
    "                  np.linspace(V_zero[i], V_zero[i + 1], num_subintervals) for i in range(lng - 1)\n",
    "                ] + [\n",
    "                  np.linspace(V_zero[-1], V_zero[-1]+80, num_subintervals)\n",
    "                ]\n",
    "    else:\n",
    "        subintervals = [V_range[0], V_range[-1]]\n",
    "\n",
    "\n",
    "    signs_J1_temp = np.zeros(num_subintervals)\n",
    "    signs_J2_temp = np.zeros(num_subintervals)\n",
    "\n",
    "    for k, interval in enumerate(subintervals):\n",
    "        start_point = interval[0]\n",
    "        end_point = interval[-1]\n",
    "        interval_range = np.linspace(start_point, end_point, num_subintervals)\n",
    "        c10a, c20a, c10b, c20b, phi0a, phi0b, y0, J10, J20 = zeroth_order_terms(interval_range, alpha, beta, L, R, z1, z2)\n",
    "        c11a, c21a, c11b, c21b, phi1a, phi1b, y1, J11, J21 = first_order_terms(interval_range, alpha, beta, L, R, z1, z2)\n",
    "        c12a, c22a, c12b, c22b, phi2a, phi2b, y2, J12, J22 = second_order_terms(interval_range, alpha, beta, L, R, z1, z2)\n",
    "        J1_prd22 = J11\n",
    "        J2_prd22 = J21\n",
    "\n",
    "        midpoint = (start_point + end_point) / 2\n",
    "        # Find the index in interval_range closest to the midpoint\n",
    "        mid_index = np.abs(interval_range - midpoint).argmin()\n",
    "\n",
    "        #mid_value = interval_range[midpoint_index]\n",
    "\n",
    "        # Append the signs for the current L\n",
    "        sign_J1_prd22 = np.sign(J1_prd22[mid_index])\n",
    "        sign_J2_prd22 = np.sign(J2_prd22[mid_index])\n",
    "\n",
    "\n",
    "        # Append the signs for the current L to the temporary arrays\n",
    "        signs_J1_temp[k] = 1 if sign_J1_prd22 > 0 else -1\n",
    "        signs_J2_temp[k] = 1 if sign_J2_prd22 > 0 else -1\n",
    "\n",
    "    # Assign the temporary arrays to the i-th row of signs_J1 and signs_J2\n",
    "    signs_J1[i, :] = signs_J1_temp\n",
    "    signs_J2[i, :] = signs_J2_temp\n",
    "    V_critic[i, :lng] = V_zero\n",
    "\n",
    "print(\"Minimum V_zero:\", min_V)\n",
    "print(\"Maximum V_zero:\", max_V)"
   ]
  },
  {
   "cell_type": "code",
   "execution_count": 13,
   "id": "b83c6d96",
   "metadata": {
    "execution": {
     "iopub.execute_input": "2023-12-25T02:32:27.111290Z",
     "iopub.status.busy": "2023-12-25T02:32:27.110979Z",
     "iopub.status.idle": "2023-12-25T02:32:27.114852Z",
     "shell.execute_reply": "2023-12-25T02:32:27.114102Z"
    },
    "papermill": {
     "duration": 0.016913,
     "end_time": "2023-12-25T02:32:27.116677",
     "exception": false,
     "start_time": "2023-12-25T02:32:27.099764",
     "status": "completed"
    },
    "tags": []
   },
   "outputs": [],
   "source": [
    "#ch = 0\n",
    "#print(signs_J1.shape)\n",
    "#print(signs_J1[ch,:])\n",
    "#print(V_critic.shape)\n",
    "#print(V_critic[ch,:])\n",
    "#print(len(V_critic))\n",
    "#lenL"
   ]
  },
  {
   "cell_type": "code",
   "execution_count": 14,
   "id": "c09fc4f7",
   "metadata": {
    "execution": {
     "iopub.execute_input": "2023-12-25T02:32:27.138621Z",
     "iopub.status.busy": "2023-12-25T02:32:27.138351Z",
     "iopub.status.idle": "2023-12-25T02:32:28.108457Z",
     "shell.execute_reply": "2023-12-25T02:32:28.107529Z"
    },
    "papermill": {
     "duration": 0.983878,
     "end_time": "2023-12-25T02:32:28.110872",
     "exception": false,
     "start_time": "2023-12-25T02:32:27.126994",
     "status": "completed"
    },
    "tags": []
   },
   "outputs": [],
   "source": [
    "# Create a matrix to store the heatmap values\n",
    "Jsign_func1 = np.zeros((lenL, len(V_range)))\n",
    "for i in range(len(V_critic)):\n",
    "    left_index = np.searchsorted(V_range,V_critic[i, 0])\n",
    "    #print('left=',V_range[left_index])\n",
    "    #print('left=',left_index)\n",
    "    Jsign_func1[i, :left_index] = signs_J1[i, 0]\n",
    "\n",
    "    for j in range(len(V_critic[i]) - 1):\n",
    "        if (V_critic[i, j] == 0 and V_critic[i, j+1] == 0) :\n",
    "            break\n",
    "\n",
    "        elif (V_critic[i, j] != 0 and V_critic[i, j+1] == 0) :\n",
    "            right_index = np.searchsorted(V_range,V_critic[i, j])\n",
    "            #print('right=',V_range[right_index])\n",
    "            Jsign_func1[i, right_index:] = signs_J1[i, j+1]\n",
    "\n",
    "        # Find the indices corresponding to the current segment\n",
    "        else:\n",
    "            start_index = np.searchsorted(V_range, V_critic[i, j])\n",
    "            end_index = np.searchsorted(V_range, V_critic[i, j + 1])\n",
    "            # Assign values from S to the corresponding segment in H\n",
    "            Jsign_func1[i, start_index:end_index] = signs_J1[i, j + 1]\n"
   ]
  },
  {
   "cell_type": "code",
   "execution_count": 15,
   "id": "3fb50a59",
   "metadata": {
    "execution": {
     "iopub.execute_input": "2023-12-25T02:32:28.133605Z",
     "iopub.status.busy": "2023-12-25T02:32:28.132932Z",
     "iopub.status.idle": "2023-12-25T02:32:29.105376Z",
     "shell.execute_reply": "2023-12-25T02:32:29.104591Z"
    },
    "papermill": {
     "duration": 0.98625,
     "end_time": "2023-12-25T02:32:29.107825",
     "exception": false,
     "start_time": "2023-12-25T02:32:28.121575",
     "status": "completed"
    },
    "tags": []
   },
   "outputs": [],
   "source": [
    "\n",
    "# Create a matrix to store the heatmap values\n",
    "Jsign_func2 = np.zeros((lenL, len(V_range)))\n",
    "for i in range(len(V_critic)):\n",
    "    left_index = np.searchsorted(V_range,V_critic[i, 0])\n",
    "    Jsign_func2[i, :left_index] = signs_J2[i, 0]\n",
    "    for j in range(len(V_critic[i]) - 1):\n",
    "        if (V_critic[i, j] == 0 and V_critic[i, j+1] == 0) :\n",
    "            break\n",
    "\n",
    "        elif (V_critic[i, j] != 0 and V_critic[i, j+1] == 0) :\n",
    "            right_index = np.searchsorted(V_range,V_critic[i, j])\n",
    "            Jsign_func2[i, right_index:] = signs_J2[i, j+1]\n",
    "\n",
    "        # Find the indices corresponding to the current segment\n",
    "        else:\n",
    "            start_index = np.searchsorted(V_range, V_critic[i, j])\n",
    "            end_index = np.searchsorted(V_range, V_critic[i, j + 1])\n",
    "            # Assign values from S to the corresponding segment in H\n",
    "            Jsign_func2[i, start_index:end_index] = signs_J2[i, j + 1]"
   ]
  },
  {
   "cell_type": "code",
   "execution_count": 16,
   "id": "4efc8eae",
   "metadata": {
    "execution": {
     "iopub.execute_input": "2023-12-25T02:32:29.130365Z",
     "iopub.status.busy": "2023-12-25T02:32:29.130051Z",
     "iopub.status.idle": "2023-12-25T02:32:43.576050Z",
     "shell.execute_reply": "2023-12-25T02:32:43.575085Z"
    },
    "papermill": {
     "duration": 14.459574,
     "end_time": "2023-12-25T02:32:43.578376",
     "exception": false,
     "start_time": "2023-12-25T02:32:29.118802",
     "status": "completed"
    },
    "tags": []
   },
   "outputs": [
    {
     "name": "stderr",
     "output_type": "stream",
     "text": [
      "/opt/conda/lib/python3.10/site-packages/matplotlib/image.py:175: UserWarning: Data with more than 2**23 columns cannot be accurately displayed. Downsampling to less than 2**23 columns before displaying. To remove this warning, manually downsample your data.\n",
      "  warnings.warn(msg.format(n='2**23 columns'))\n"
     ]
    },
    {
     "data": {
      "image/png": "[encoded data removed]",
      "text/plain": [
       "<Figure size 1200x600 with 4 Axes>"
      ]
     },
     "metadata": {},
     "output_type": "display_data"
    }
   ],
   "source": [
    "fig, axs = plt.subplots(1, 2, figsize=(12, 6))\n",
    "\n",
    "# Plot the heatmap for signs_J1\n",
    "img1 = axs[0].imshow(Jsign_func1, cmap='coolwarm', extent=[V_range[0], V_range[-1], L_values[0], L_values[-1]], aspect='auto', vmin=-1, vmax=1)\n",
    "axs[0].set_xlabel('Voltage (V)')\n",
    "axs[0].set_ylabel('L_values')\n",
    "axs[0].set_title(r'Heatmap for signs of $J_1$')\n",
    "axs[0].set_xlim(min_V - 10, max_V + 10)\n",
    "axs[0].grid(True)\n",
    "\n",
    "# Plot the heatmap for signs_J2\n",
    "img2 = axs[1].imshow(Jsign_func2, cmap='coolwarm', extent=[V_range[0], V_range[-1], L_values[0], L_values[-1]], aspect='auto', vmin=-1, vmax=1)\n",
    "axs[1].set_xlabel('Voltage (V)')\n",
    "axs[1].set_ylabel('L_values')\n",
    "axs[1].set_title(r'Heatmap for signs of $J_2$')\n",
    "axs[1].set_xlim(min_V - 10, max_V + 10)\n",
    "axs[1].grid(True)\n",
    "\n",
    "# Add legends\n",
    "fig.colorbar(img1, ax=axs[0])\n",
    "fig.colorbar(img2, ax=axs[1])\n",
    "\n",
    "# Adjust layout for better spacing\n",
    "plt.tight_layout()\n",
    "plt.show()"
   ]
  },
  {
   "cell_type": "code",
   "execution_count": 17,
   "id": "5402f41f",
   "metadata": {
    "execution": {
     "iopub.execute_input": "2023-12-25T02:32:43.603084Z",
     "iopub.status.busy": "2023-12-25T02:32:43.602629Z",
     "iopub.status.idle": "2023-12-25T02:32:45.525180Z",
     "shell.execute_reply": "2023-12-25T02:32:45.524375Z"
    },
    "papermill": {
     "duration": 1.937648,
     "end_time": "2023-12-25T02:32:45.527707",
     "exception": false,
     "start_time": "2023-12-25T02:32:43.590059",
     "status": "completed"
    },
    "tags": []
   },
   "outputs": [],
   "source": [
    "# Create a 3D matrix to store both signs_J1 and signs_J2\n",
    "Jsign_matrix = np.zeros((2, lenL, len(V_range)))\n",
    "\n",
    "# Define a list for both signs_J1 and signs_J2\n",
    "sign_matrices = [signs_J1, signs_J2]\n",
    "\n",
    "for idx, signs in enumerate(sign_matrices):\n",
    "    for i in range(len(V_critic)):\n",
    "        left_index = np.searchsorted(V_range, V_critic[i, 0])\n",
    "        Jsign_matrix[idx, i, :left_index] = signs[i, 0]\n",
    "        for j in range(len(V_critic[i]) - 1):\n",
    "            if V_critic[i, j] == 0 and V_critic[i, j + 1] == 0:\n",
    "                break\n",
    "            # Find the indices corresponding to the current segment\n",
    "            elif V_critic[i, j] != 0 and V_critic[i, j + 1] == 0:\n",
    "                right_index = np.searchsorted(V_range, V_critic[i, j])\n",
    "                Jsign_matrix[idx, i, right_index:] = signs[i, j + 1]\n",
    "\n",
    "            else:\n",
    "                start_index = np.searchsorted(V_range, V_critic[i, j])\n",
    "                end_index = np.searchsorted(V_range, V_critic[i, j + 1])\n",
    "\n",
    "                # Assign values from S to the corresponding segment in H\n",
    "                Jsign_matrix[idx, i, start_index:end_index] = signs[i, j + 1]"
   ]
  },
  {
   "cell_type": "code",
   "execution_count": 18,
   "id": "bb1f2e8c",
   "metadata": {
    "execution": {
     "iopub.execute_input": "2023-12-25T02:32:45.551812Z",
     "iopub.status.busy": "2023-12-25T02:32:45.551510Z",
     "iopub.status.idle": "2023-12-25T02:32:58.407326Z",
     "shell.execute_reply": "2023-12-25T02:32:58.406409Z"
    },
    "papermill": {
     "duration": 12.870016,
     "end_time": "2023-12-25T02:32:58.409539",
     "exception": false,
     "start_time": "2023-12-25T02:32:45.539523",
     "status": "completed"
    },
    "tags": []
   },
   "outputs": [
    {
     "data": {
      "image/png": "[encoded data removed]",
      "text/plain": [
       "<Figure size 640x480 with 2 Axes>"
      ]
     },
     "metadata": {},
     "output_type": "display_data"
    }
   ],
   "source": [
    "# Plot the heatmap with specified color scale limits for both signs_J1 and signs_J2\n",
    "plt.imshow(Jsign_matrix[0, :, :], cmap='coolwarm', extent=[V_range[0], V_range[-1], L_values[-1], L_values[0]], aspect='auto', vmin=-1, vmax=1)\n",
    "plt.imshow(Jsign_matrix[1, :, :], cmap='coolwarm', extent=[V_range[0], V_range[-1], L_values[-1], L_values[0]], aspect='auto', vmin=-1, vmax=1, alpha=0.5)  # Alpha blends the two heatmaps\n",
    "plt.xlabel('Voltage (V)')\n",
    "plt.ylabel('L_values')\n",
    "plt.title('Overlap of Same Sign Regions for $J_1$ and $J_2$')\n",
    "plt.colorbar()\n",
    "\n",
    "# Set x-axis limits\n",
    "plt.xlim(min_V - 10, max_V + 10)\n",
    "\n",
    "plt.show()"
   ]
  }
 ],
 "metadata": {
  "kaggle": {
   "accelerator": "nvidiaTeslaT4",
   "dataSources": [
    {
     "datasetId": 4151872,
     "sourceId": 7182745,
     "sourceType": "datasetVersion"
    }
   ],
   "dockerImageVersionId": 30616,
   "isGpuEnabled": true,
   "isInternetEnabled": true,
   "language": "python",
   "sourceType": "notebook"
  },
  "kernelspec": {
   "display_name": "Python 3",
   "language": "python",
   "name": "python3"
  },
  "language_info": {
   "codemirror_mode": {
    "name": "ipython",
    "version": 3
   },
   "file_extension": ".py",
   "mimetype": "text/x-python",
   "name": "python",
   "nbconvert_exporter": "python",
   "pygments_lexer": "ipython3",
   "version": "3.10.12"
  },
  "papermill": {
   "default_parameters": {},
   "duration": 214.107918,
   "end_time": "2023-12-25T02:32:59.040635",
   "environment_variables": {},
   "exception": null,
   "input_path": "__notebook__.ipynb",
   "output_path": "__notebook__.ipynb",
   "parameters": {},
   "start_time": "2023-12-25T02:29:24.932717",
   "version": "2.4.0"
  }
 },
 "nbformat": 4,
 "nbformat_minor": 5
}
