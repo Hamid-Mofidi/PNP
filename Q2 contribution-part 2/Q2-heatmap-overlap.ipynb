{
 "cells": [
  {
   "cell_type": "code",
   "execution_count": 1,
   "id": "48a1737d",
   "metadata": {
    "_cell_guid": "b1076dfc-b9ad-4769-8c92-a6c4dae69d19",
    "_uuid": "8f2839f25d086af736a60e9eeb907d3b93b6e0e5",
    "execution": {
     "iopub.execute_input": "2023-12-26T04:13:30.604734Z",
     "iopub.status.busy": "2023-12-26T04:13:30.604048Z",
     "iopub.status.idle": "2023-12-26T04:13:30.625500Z",
     "shell.execute_reply": "2023-12-26T04:13:30.624847Z"
    },
    "papermill": {
     "duration": 0.029379,
     "end_time": "2023-12-26T04:13:30.627336",
     "exception": false,
     "start_time": "2023-12-26T04:13:30.597957",
     "status": "completed"
    },
    "tags": []
   },
   "outputs": [],
   "source": [
    "import numpy as np\n",
    "#!pip install cupy\n",
    "#import cupy as np \n",
    "import matplotlib.pyplot as plt\n",
    "from tqdm import tqdm"
   ]
  },
  {
   "cell_type": "code",
   "execution_count": 2,
   "id": "580d54a9",
   "metadata": {
    "execution": {
     "iopub.execute_input": "2023-12-26T04:13:30.636929Z",
     "iopub.status.busy": "2023-12-26T04:13:30.636684Z",
     "iopub.status.idle": "2023-12-26T04:13:30.646883Z",
     "shell.execute_reply": "2023-12-26T04:13:30.646062Z"
    },
    "papermill": {
     "duration": 0.017073,
     "end_time": "2023-12-26T04:13:30.648859",
     "exception": false,
     "start_time": "2023-12-26T04:13:30.631786",
     "status": "completed"
    },
    "tags": []
   },
   "outputs": [],
   "source": [
    "def zeroth_order_terms(V, alpha, beta, L, R, z1, z2):\n",
    "    c10a = (1/z1) * ((1 - alpha) * L + alpha * R)\n",
    "    c20a = (-z1/z2) * c10a\n",
    "    c10b = (1/z1) * ((1 - beta) * L + beta * R)\n",
    "    c20b = (-z1/z2) * c10b\n",
    "    phi0a = V * (np.log(((1 - alpha) * L + alpha * R)) - np.log(R)) / (np.log(L) - np.log(R))\n",
    "    phi0b = V * (np.log(((1 - beta)  * L + beta * R)) - np.log(R)) / (np.log(L) - np.log(R))\n",
    "    y0 = ((1.0 / ((z1 - z2) * (L - R))) * np.log(((1 - alpha) * L + alpha * R) / ((1 - beta) * L + beta * R)))\n",
    "    J10 = ((L - R) / (z1 * (np.log(L) - np.log(R)))) * (z1 * V + np.log(L) - np.log(R))\n",
    "    J20 = ((R - L) / (z2 * (np.log(L) - np.log(R)))) * (z2 * V + np.log(L) - np.log(R))\n",
    "    return c10a, c20a, c10b, c20b, phi0a, phi0b, y0, J10, J20"
   ]
  },
  {
   "cell_type": "code",
   "execution_count": 3,
   "id": "d568f196",
   "metadata": {
    "execution": {
     "iopub.execute_input": "2023-12-26T04:13:30.657843Z",
     "iopub.status.busy": "2023-12-26T04:13:30.657582Z",
     "iopub.status.idle": "2023-12-26T04:13:30.674737Z",
     "shell.execute_reply": "2023-12-26T04:13:30.673933Z"
    },
    "papermill": {
     "duration": 0.023744,
     "end_time": "2023-12-26T04:13:30.676603",
     "exception": false,
     "start_time": "2023-12-26T04:13:30.652859",
     "status": "completed"
    },
    "tags": []
   },
   "outputs": [],
   "source": [
    "def first_order_terms(V, alpha, beta, L, R, z1, z2):\n",
    "    c10a, c20a, c10b, c20b, phi0a, phi0b, y0, J10, J20 = zeroth_order_terms(V, alpha, beta, L, R, z1, z2)\n",
    "    c11a = (z2 * alpha * (phi0b - phi0a) / (z1 - z2)) - (1 / (2 * (z1 - z2)))\n",
    "    c21a = (z1 * alpha * (phi0b - phi0a) / (z2 - z1)) - (1 / (2 * (z2 - z1)))\n",
    "    c11b = (z2 * (1 - beta) * (phi0a - phi0b) / (z1 - z2)) - (1 / (2 * (z1 - z2)))\n",
    "    c21b = (z1 * (1 - beta) * (phi0a - phi0b) / (z2 - z1)) - (1 / (2 * (z2 - z1)))\n",
    "    c1L  = L / z1\n",
    "    c1R  = R / z1\n",
    "    T0   =   J10 +  J20\n",
    "\n",
    "    A = -((beta - alpha) * (L - R) ** 2) / (((1 - alpha) * L + alpha * R) * ((1 - beta) * L + beta * R) * (np.log(L) - np.log(R)))\n",
    "    B = ( np.log(((1 - beta) * L + beta * R)) - np.log(((1 - alpha) * L + alpha * R))  ) / A\n",
    "\n",
    "    lambda_val = V / (np.log(L) - np.log(R))\n",
    "    phi1a = ((1 + z1 * lambda_val) * (1 + z2 * lambda_val) * (c10b - c10a) * (np.log(c1L) - np.log(c10a))) / (z1 * (z1 - z2) * c10a * c10b * (np.log(c1R) - np.log(c1L))) \\\n",
    "                  + (1 / (2 * z1 * (z1 - z2) * c10a)) + (lambda_val * ((z2 * alpha * (phi0b - phi0a)) / ((z1 - z2) * c10a) ) )\n",
    "    phi1b = ((1 + z1 * lambda_val) * (1 + z2 * lambda_val) * (c10b - c10a) * (np.log(c1R) - np.log(c10b))) / (z1 * (z1 - z2) * c10a * c10b * (np.log(c1R) - np.log(c1L))) \\\n",
    "                  + (1 / (2 * z1 * (z1 - z2) * c10b)) + (lambda_val * ((z2 * (1 - beta) * (phi0a - phi0b)) / ((z1 - z2) * c10b) ) )\n",
    "    y1 = (((1 - beta) * c1L + alpha * c1R) * (phi0a - phi0b)) / (z1 * (z1 - z2) * T0 * c10a * c10b) \\\n",
    "           + ((np.log(c10a) - np.log(c10b)) * (phi0a - phi0b)) / (z1 * (z1 - z2) * T0 * (c1L - c1R)) \\\n",
    "            - (((z2 * J10 + z1 * J20) * (c10a - c10b)) / (z1 ** 2 * z2 * (z1 - z2) * T0 ** 2 * c10a * c10b))\n",
    "    J11 = ( (A * (z2 * (1 - B) * V + np.log(L) - np.log(R))) / ((z1 - z2) * (np.log(L) - np.log(R))**2) ) * (z1 * V + np.log(L) - np.log(R))\n",
    "    J21 = ( (A * (z1 * (1 - B) * V + np.log(L) - np.log(R))) / ((z2 - z1) * (np.log(L) - np.log(R))**2) ) * (z2 * V + np.log(L) - np.log(R))\n",
    "\n",
    "\n",
    "    return c11a, c21a, c11b, c21b, phi1a, phi1b, y1, J11, J21"
   ]
  },
  {
   "cell_type": "code",
   "execution_count": 4,
   "id": "ec91e203",
   "metadata": {
    "execution": {
     "iopub.execute_input": "2023-12-26T04:13:30.685706Z",
     "iopub.status.busy": "2023-12-26T04:13:30.685430Z",
     "iopub.status.idle": "2023-12-26T04:13:30.693317Z",
     "shell.execute_reply": "2023-12-26T04:13:30.692615Z"
    },
    "papermill": {
     "duration": 0.014555,
     "end_time": "2023-12-26T04:13:30.695206",
     "exception": false,
     "start_time": "2023-12-26T04:13:30.680651",
     "status": "completed"
    },
    "tags": []
   },
   "outputs": [],
   "source": [
    "def calculate_voltage_ranges(L, R):\n",
    "    alpha = 1/3\n",
    "    beta = 2/3\n",
    "    z1 = 1\n",
    "    z2 = -1\n",
    "\n",
    "    A = -((beta - alpha) * (L - R) ** 2) / (((1 - alpha) * L + alpha * R) * ((1 - beta) * L + beta * R) * (np.log(L) - np.log(R)))\n",
    "    B = ( np.log(((1 - beta) * L + beta * R)) - np.log(((1 - alpha) * L + alpha * R))  ) / A\n",
    "\n",
    "    Vq1 = (np.log(R) - np.log(L)) / (z2 * (1 - B))\n",
    "    Vq2 = (np.log(R) - np.log(L)) / (z1 * (1 - B))\n",
    "\n",
    "    Vqmin = np.min([Vq1, Vq2])\n",
    "    Vqmax = np.max([Vq1, Vq2])\n",
    "\n",
    "    V1_range = np.linspace(Vqmin-80, Vqmin, 200)\n",
    "    V2_range = np.linspace(Vqmin, Vqmax, 200)\n",
    "    V3_range = np.linspace(Vqmax, Vqmax+80, 200)\n",
    "\n",
    "    return alpha, beta, z1, z2, V1_range, V2_range, V3_range"
   ]
  },
  {
   "cell_type": "code",
   "execution_count": 5,
   "id": "17456e14",
   "metadata": {
    "execution": {
     "iopub.execute_input": "2023-12-26T04:13:30.705157Z",
     "iopub.status.busy": "2023-12-26T04:13:30.704887Z",
     "iopub.status.idle": "2023-12-26T04:13:30.747981Z",
     "shell.execute_reply": "2023-12-26T04:13:30.747172Z"
    },
    "papermill": {
     "duration": 0.050608,
     "end_time": "2023-12-26T04:13:30.749945",
     "exception": false,
     "start_time": "2023-12-26T04:13:30.699337",
     "status": "completed"
    },
    "tags": []
   },
   "outputs": [],
   "source": [
    " # Define the second order terms\n",
    "def second_order_terms(V, alpha, beta, L, R, z1, z2):\n",
    "    # Constants\n",
    "    c10a, c20a, c10b, c20b, phi0a, phi0b, y0, J10, J20 = zeroth_order_terms(V, alpha, beta, L, R, z1, z2)\n",
    "    c11a, c21a, c11b, c21b, phi1a, phi1b, y1, J11, J21 = first_order_terms(V, alpha, beta, L, R, z1, z2)\n",
    "    H1 = 1.0\n",
    "    phiL = V\n",
    "    phiR = 0.0\n",
    "    c1L  = L / z1\n",
    "    c1R  = R / z1\n",
    "    T0   = J10 +  J20\n",
    "    T1   = J11 +  J21\n",
    "    I1   = z1*J11 + z2*J21\n",
    "\n",
    "    # Intermediate calculations\n",
    "    A1 = -z1 * (c1L - c10a) / (alpha * H1 * (np.log(c1L) - np.log(c10a)))\n",
    "    B1 = z1 * (c10b - c1R) / ((1 - beta) * H1 * (np.log(c10b) - np.log(c1R)))\n",
    "\n",
    "    A2_1 = (z1 * z2 * (phi1a - phi1b) / ((z1 - z2) * H1)) * (\n",
    "    (1 / z1) + (V - phi0a) / (np.log(c1L) - np.log(c10a)) - (V - phi0a) * (c1L - c10a) / ((np.log(c1L) - np.log(c10a))**2 * c10a) )\n",
    "\n",
    "    # A2:\n",
    "    A2_2 = (z1 * (c1L - c10a) / (alpha * H1 * (np.log(c1L) - np.log(c10a))) ) * (\n",
    "    z1 * z2 * alpha * (phi0b - phi0a) / (2 * (z1 * (z1 - z2) * c10a)**2) - (z1 + z2) / (6 * (z1 * (z1 - z2) * c10a)**2))\n",
    "\n",
    "    A2_3 = (z1 * z2 * (phi0a - phi0b) / (H1 * (np.log(c1L) - np.log(c10a)) * (z1 - z2)**2) ) * (\n",
    "    (z1 - z2) * phi1a - ((z1 - z2) * (c1L - c10a) * phi1a / ((np.log(c1L) - np.log(c10a)) * c10a)) - 1 / (2 * z1 * c10a)\n",
    "    + (c1L - c10a) / (2 * z1 * (np.log(c1L) - np.log(c10a)) * c10a**2)\n",
    "    + z2 * (c11a + c21a) * (V - phi0a) * (c1L + c10a) / (2 * (np.log(c1L) - np.log(c10a)) * c10a**2) )\n",
    "\n",
    "    A2 = A2_1 - A2_2 - A2_3\n",
    "\n",
    "    # B2:\n",
    "    B2_1 = (z1 * z2 * (phi1a - phi1b) / ((z1 - z2) * H1)) * (\n",
    "    (1 / z1) + phi0b / (np.log(c10b) - np.log(c1R)) - phi0b * (c10b - c1R) / ((np.log(c10b) - np.log(c1R))**2 * c10b))\n",
    "\n",
    "    B2_2 = (z1 * (c10b - c1R) / ((1 - beta) * H1 * (np.log(c10b) - np.log(c1R)))) * (\n",
    "    z1 * z2 * (1 - beta) * (phi0a - phi0b) / (2 * (z1 * (z1 - z2) * c10b)**2) - (z1 + z2) / (6 * (z1 * (z1 - z2) * c10b)**2))\n",
    "\n",
    "    B2_3 = (z1 * z2 * (phi0b - phi0a) / (H1 * (np.log(c10b) - np.log(c1R)) * (z1 - z2)**2)) * (\n",
    "    (z1 - z2) * phi1b - (z1 - z2) * (c10b - c1R) * phi1b / ((np.log(c10b) - np.log(c1R)) * c10b) - (1 / (2 * z1 * c10b))\n",
    "    + (c10b - c1R) / (2 * z1 * (np.log(c10b) - np.log(c1R)) * c10b**2)\n",
    "    + z2 * (c11b + c21b) * phi0b * (c1R + c10b) / (2 * (np.log(c10b) - np.log(c1R)) * c10b**2))\n",
    "\n",
    "\n",
    "    B2 = B2_1 + B2_2 - B2_3\n",
    "\n",
    "    # C:\n",
    "    C_1 = -(z1**2 * c11a + z2**2 * c21a) / (2 * (z1 * (z1 - z2) * c10a)**2)\n",
    "    C_2 = (z1**2 * c11b + z2**2 * c21b) / (2 * (z1 * (z1 - z2) * c10b)**2)\n",
    "    C_3 = (z1 + z2) * ((c10b)**2 - (c10a)**2) / (12 * (z1 * (z1 - z2) * c10a * c10b)**2)\n",
    "    C_4 = -I1 * y1\n",
    "\n",
    "    C_5 = ((z1 - z2) * (L - R) * V * y1) / (H1 * (np.log(L) - np.log(R)) * c10a) * (\n",
    "    (z2 * alpha * (phi0b - phi0a) / (z1 - z2)) - (c10a * (phi0a - phi0b) / (H1 * T0)) - 1 / (z1 - z2))\n",
    "\n",
    "    C_6 = z2 * V / (2 * z1 * (z1 - z2)**2 * (np.log(L) - np.log(R))) * (1 / (c10a)**2 - 1 / (c10b)**2)\n",
    "\n",
    "    C_7 = z1 * z2 * (phi1a - phi1b) * V / (np.log(L) - np.log(R)) * (\n",
    "        (1 / (z1 * (z1 - z2))) * (alpha / c10a + (1 - beta) / c10b) + y0 / H1)\n",
    "\n",
    "    C_8 = -((z1**2 * z2**2 * V) / (2 * (np.log(L) - np.log(R)) ) ) * (T0 * y1 + T1 * y0)**2\n",
    "\n",
    "    C_9 = (z1 * z2 * V * (phi0a - phi0b) * y0 / (H1 * c10a * (np.log(L) - np.log(R))) ) * (\n",
    "        z2 * alpha * (phi0b - phi0a) / (z1 - z2) - (1 / (z1 - z2)) )\n",
    "\n",
    "    C_10 = (J11 * V / (z1 * T0 * (np.log(L) - np.log(R))) ) * (1 / c10b - 1 / c10a)\n",
    "\n",
    "    C_11 = (J10 * (phi0a - phi0b) * V) / (z1 * T0**2 * H1 * (np.log(L) - np.log(R))) * (\n",
    "        1 / c10b - 1 / c10a)\n",
    "\n",
    "    C = C_1 + C_2 + C_3 + C_4 + C_5 + C_6 + C_7 + C_8 + C_9 + C_10 + C_11\n",
    "\n",
    "\n",
    "    # Calculate c12a, c22a, c12b, c22b\n",
    "    c12a = -(z1 + 4 * z2) / (24 * z1 * (z1 - z2)**2 * c10a) - ((phi1a - phi1b) * alpha * z2) / (z1 - z2)\n",
    "    c22a = (4 * z1 + z2) / (24 * z1 * (z1 - z2)**2 * c10a) + ((phi1a - phi1b) * alpha * z1) / (z1 - z2)\n",
    "    c12b = -(z1 + 4 * z2) / (24 * z1 * (z1 - z2)**2 * c10b) + ((phi1a - phi1b) * (1 - beta) * z2) / (z1 - z2)\n",
    "    c22b = (4 * z1 + z2) / (24 * z1 * (z1 - z2)**2 * c10b) - ((phi1a - phi1b) * (1 - beta) * z1) / (z1 - z2)\n",
    "\n",
    "    # Calculate phi2a, phi2b\n",
    "    phi2a = (B1 * C - (z1 - z2) * y0 * B1 * A2 - z2 * y0 * B1 * (phi1b - phi1a) / H1 +\n",
    "              B2 - A2) / (A1 - B1 + (z1 - z2) * y0 * A1 * B1)\n",
    "    phi2b = (1 - (z1 - z2) * y0 * A1) * phi2a + C - (z1 - z2) * y0 * A2 - z2 * y0 * (phi1b - phi1a) / H1\n",
    "\n",
    "    # Calculate y2\n",
    "    y2_1 = ((phi1a - phi1b) * y0 / (H1 * T0)) - y1 / c10a * (\n",
    "    (z2 * alpha * (phi0b - phi0a) / (z1 - z2)) - c10a * (phi0a - phi0b) / (H1 * T0) - (1 / (z1 - z2)) )\n",
    "\n",
    "    y2_2 = (1 / (2 * z1**2 * (z1 - z2)**2 * T0)) * (1 / (c10a)**2 - 1 / (c10b)**2)\n",
    "\n",
    "    y2_3 = ((phi1a - phi1b) / (z1 * (z1 - z2) * T0)) * (alpha / c10a + (1 - beta) / c10b)\n",
    "\n",
    "    y2_4 = (-z1 * z2 / (2 * T0)) * (T0 * y1 + T1 * y0)**2\n",
    "\n",
    "    y2_5 = (phi0a - phi0b) * y0 / (H1 * T0 * c10a) * (\n",
    "        z2 * alpha * (phi0b - phi0a) / (z1 - z2) - 1 / (z1 - z2) )\n",
    "\n",
    "    y2_6 = J11 / (z1**2 * z2 * T0**2) * (1 / c10b - 1 / c10a)\n",
    "\n",
    "    y2_7 = J10 * (phi0a - phi0b) / (z1**2 * z2 * T0**3 * H1) * (1 / c10b - 1 / c10a)\n",
    "\n",
    "    y2 = y2_1 + y2_2 + y2_3 + y2_4 + y2_5 + y2_6 + y2_7\n",
    "\n",
    "\n",
    "\n",
    "\n",
    "\n",
    "    # Calculate J12 and J22:\n",
    "    Jcommon_1 = (z1 * z2 * (phi1a - phi1b) / (H1 * (z1 - z2)))\n",
    "    Jcommon_2 = z1 * (c1L - c10a) / (alpha * H1 * (np.log(c1L) - np.log(c10a)))\n",
    "    Jcommon_3 = (phi2a + z1 * z2 * alpha * (phi0b - phi0a) / (2 * (z1 * (z1 - z2) * c10a)**2) - (z1 + z2) / (6 * (z1 * (z1 - z2) * c10a)**2))\n",
    "    Jcommon_4 = z1 * z2 * (phi0a - phi0b) / (H1 * (np.log(c1L) - np.log(c10a)) * (z1 - z2)**2)\n",
    "    Jcommon_5 = (z1 - z2) * phi1a - ( (z1 - z2) * (c1L - c10a) * phi1a / ((np.log(c1L) - np.log(c10a)) * c10a) ) - 1 / (2 * z1 * c10a) + (c1L - c10a) / (2 * z1 * (np.log(c1L) - np.log(c10a)) * (c10a**2)) + z2 * (c11a + c21a) * (phiL - phi0a) * (c1L + c10a) / (2 * (np.log(c1L) - np.log(c10a)) * (c10a**2))\n",
    "    \n",
    "    J_term2 = Jcommon_2 * Jcommon_3\n",
    "    J_term3 = Jcommon_4 * Jcommon_5\n",
    "    \n",
    "    # Calculate J12:\n",
    "    J12_term1 = Jcommon_1 * ((1 / z1) + (phiL - phi0a) / (np.log(c1L) - np.log(c10a)) - (phiL - phi0a) * (c1L - c10a) / ((np.log(c1L) - np.log(c10a))**2 * c10a))\n",
    "    J12_term2 = Jcommon_2 * Jcommon_3\n",
    "    J12_term3 = Jcommon_4 * Jcommon_5\n",
    "\n",
    "    J12 = J12_term1 - J12_term2 - J12_term3\n",
    "\n",
    "    # Calculate J22:\n",
    "    J22_term1 = - Jcommon_1 * ((1 / z2) + (phiL - phi0a) / (np.log(c1L) - np.log(c10a)) - (phiL - phi0a) * (c1L - c10a) / ((np.log(c1L) - np.log(c10a))**2 * c10a))\n",
    "    J22_term2 = Jcommon_2 * Jcommon_3\n",
    "    J22_term3 = Jcommon_4 * Jcommon_5\n",
    "\n",
    "    J22 = J22_term1 + J22_term2 + J22_term3\n",
    "\n",
    "\n",
    "    return c12a, c22a, c12b, c22b, phi2a, phi2b, y2, J12, J22\n",
    "\n",
    "\n",
    "#result = second_order_terms(V, alpha, beta, L, R, z1, z2)\n",
    "#print(result)\n"
   ]
  },
  {
   "cell_type": "code",
   "execution_count": 6,
   "id": "7eabb6b1",
   "metadata": {
    "execution": {
     "iopub.execute_input": "2023-12-26T04:13:30.760274Z",
     "iopub.status.busy": "2023-12-26T04:13:30.759994Z",
     "iopub.status.idle": "2023-12-26T04:13:30.765782Z",
     "shell.execute_reply": "2023-12-26T04:13:30.764957Z"
    },
    "papermill": {
     "duration": 0.013043,
     "end_time": "2023-12-26T04:13:30.767654",
     "exception": false,
     "start_time": "2023-12-26T04:13:30.754611",
     "status": "completed"
    },
    "tags": []
   },
   "outputs": [],
   "source": [
    "# Identify consecutive indices and keep one element per consecutive sequence with minimum absolute value\n",
    "def keep_min_abs_per_consecutive(indices, values):\n",
    "    result_indices = []\n",
    "    i = 0\n",
    "    while i < len(indices):\n",
    "        j = i + 1\n",
    "        while j < len(indices) and indices[j] == indices[j - 1] + 1:\n",
    "            j += 1\n",
    "\n",
    "        # Find the index with minimum absolute value in the consecutive sequence\n",
    "        min_abs_index = min(range(i, j), key=lambda k: abs(values[indices[k]]))\n",
    "        result_indices.append(indices[min_abs_index])\n",
    "        i = j\n",
    "\n",
    "    return np.array(result_indices)"
   ]
  },
  {
   "cell_type": "code",
   "execution_count": 7,
   "id": "8e9fe9b0",
   "metadata": {
    "execution": {
     "iopub.execute_input": "2023-12-26T04:13:30.777125Z",
     "iopub.status.busy": "2023-12-26T04:13:30.776861Z",
     "iopub.status.idle": "2023-12-26T04:13:30.783214Z",
     "shell.execute_reply": "2023-12-26T04:13:30.782426Z"
    },
    "papermill": {
     "duration": 0.013174,
     "end_time": "2023-12-26T04:13:30.785116",
     "exception": false,
     "start_time": "2023-12-26T04:13:30.771942",
     "status": "completed"
    },
    "tags": []
   },
   "outputs": [],
   "source": [
    "def remove_close_roots(V_zero, V_range,  distance_threshold=0.3):\n",
    "    sorted_indices = np.searchsorted(V_range, V_zero)\n",
    "    #sorted_roots = V_zero[sorted_indices]\n",
    "\n",
    "    result_indices = [sorted_indices[0]]\n",
    "    \n",
    "    for i in range(1, len(sorted_indices)):\n",
    "        distance = V_range[sorted_indices[i]] - V_range[result_indices[-1]]\n",
    "\n",
    "        if distance >= distance_threshold:\n",
    "            result_indices.append(sorted_indices[i])\n",
    "            #print('1=', V_range[sorted_roots[i]])\n",
    "\n",
    "        elif distance < distance_threshold and abs(V_range[sorted_indices[i]]) < abs(V_range[result_indices[-1]]):\n",
    "            result_indices.pop()  # Remove the last added index\n",
    "            result_indices.append(sorted_indices[i])\n",
    "            #print('2=', x_values[sorted_roots[i]])\n",
    "\n",
    "        #else:\n",
    "         #       result_indices.append(sorted_indices[-1])\n",
    "                #print('3=', x_values[sorted_roots[-1]])\n",
    "\n",
    "    return V_range[np.array(result_indices)]"
   ]
  },
  {
   "cell_type": "code",
   "execution_count": 8,
   "id": "7c9790f8",
   "metadata": {
    "execution": {
     "iopub.execute_input": "2023-12-26T04:13:30.794899Z",
     "iopub.status.busy": "2023-12-26T04:13:30.794458Z",
     "iopub.status.idle": "2023-12-26T04:13:30.805434Z",
     "shell.execute_reply": "2023-12-26T04:13:30.804680Z"
    },
    "papermill": {
     "duration": 0.017777,
     "end_time": "2023-12-26T04:13:30.807151",
     "exception": false,
     "start_time": "2023-12-26T04:13:30.789374",
     "status": "completed"
    },
    "tags": []
   },
   "outputs": [],
   "source": [
    "def remove_same_sign_points(V_zero, V_range, J1_prd2, J2_prd2):\n",
    "    new_V_zero = []\n",
    "\n",
    "    LHS_index = np.abs(V_range - (V_zero[0] - 10) ).argmin()\n",
    "    mid_0_1 = (V_zero[0] + V_zero[1]) / 2\n",
    "    mid_0_1_index = np.abs(V_range - mid_0_1).argmin()\n",
    "    sign_J1_prd2_LHS = np.sign(J1_prd2[LHS_index])\n",
    "    sign_J2_prd2_LHS = np.sign(J2_prd2[LHS_index])\n",
    "    sign_J1_prd2_0_1 = np.sign(J1_prd2[mid_0_1_index])\n",
    "    sign_J2_prd2_0_1 = np.sign(J2_prd2[mid_0_1_index])\n",
    "\n",
    "    if sign_J1_prd2_LHS != sign_J1_prd2_0_1 or sign_J2_prd2_LHS != sign_J2_prd2_0_1:\n",
    "        new_V_zero.append(V_zero[0])\n",
    "\n",
    "\n",
    "    for i in range(1, len(V_zero) - 1):\n",
    "        midpoint_prev = (V_zero[i - 1] + V_zero[i]) / 2\n",
    "        midpoint_next = (V_zero[i + 1] + V_zero[i]) / 2\n",
    "        mid_index_prev = np.abs(V_range - midpoint_prev).argmin()\n",
    "        mid_index_next = np.abs(V_range - midpoint_next).argmin()\n",
    "\n",
    "        # Append the signs for the current midpoint\n",
    "        sign_J1_prd2_prev = np.sign(J1_prd2[mid_index_prev])\n",
    "        sign_J2_prd2_prev = np.sign(J2_prd2[mid_index_prev])\n",
    "        sign_J1_prd2_next = np.sign(J1_prd2[mid_index_next])\n",
    "        sign_J2_prd2_next = np.sign(J2_prd2[mid_index_next])\n",
    "\n",
    "        threshold_value = 1e-2\n",
    "\n",
    "        if (\n",
    "            sign_J1_prd2_prev != sign_J1_prd2_next or\n",
    "            sign_J2_prd2_prev != sign_J2_prd2_next\n",
    "            ) and (\n",
    "            abs(J1_prd2[mid_index_prev]) > threshold_value and\n",
    "            abs(J2_prd2[mid_index_prev]) > threshold_value and\n",
    "            abs(J1_prd2[mid_index_next]) > threshold_value and\n",
    "            abs(J2_prd2[mid_index_next]) > threshold_value\n",
    "            ):\n",
    "            new_V_zero.append(V_zero[i])\n",
    "\n",
    "\n",
    "\n",
    "    RHS_index = np.abs(V_range - (V_zero[-1] + 10) ).argmin()\n",
    "    sign_J1_prd2_RHS = np.sign(J1_prd2[RHS_index])\n",
    "    sign_J2_prd2_RHS = np.sign(J2_prd2[RHS_index])\n",
    "    if sign_J1_prd2_next != sign_J1_prd2_RHS or sign_J2_prd2_next != sign_J2_prd2_RHS:\n",
    "        new_V_zero.append(V_zero[-1])\n",
    "\n",
    "\n",
    "    return np.array(new_V_zero)\n"
   ]
  },
  {
   "cell_type": "code",
   "execution_count": 9,
   "id": "e9d3b81e",
   "metadata": {
    "execution": {
     "iopub.execute_input": "2023-12-26T04:13:30.817226Z",
     "iopub.status.busy": "2023-12-26T04:13:30.816933Z",
     "iopub.status.idle": "2023-12-26T04:17:49.208550Z",
     "shell.execute_reply": "2023-12-26T04:17:49.207608Z"
    },
    "papermill": {
     "duration": 258.40038,
     "end_time": "2023-12-26T04:17:49.212020",
     "exception": false,
     "start_time": "2023-12-26T04:13:30.811640",
     "status": "completed"
    },
    "tags": []
   },
   "outputs": [
    {
     "name": "stderr",
     "output_type": "stream",
     "text": [
      "Processing time:   0%|          | 0/30 [00:00<?, ?it/s]"
     ]
    },
    {
     "name": "stdout",
     "output_type": "stream",
     "text": [
      "0.05\n"
     ]
    },
    {
     "name": "stderr",
     "output_type": "stream",
     "text": [
      "Processing time:   3%|▎         | 1/30 [00:09<04:48,  9.96s/it]"
     ]
    },
    {
     "name": "stdout",
     "output_type": "stream",
     "text": [
      "V_zero= [-2.81057028  5.9709906 ]\n",
      "0.11724137931034483\n"
     ]
    },
    {
     "name": "stderr",
     "output_type": "stream",
     "text": [
      "Processing time:   7%|▋         | 2/30 [00:19<04:36,  9.86s/it]"
     ]
    },
    {
     "name": "stdout",
     "output_type": "stream",
     "text": [
      "V_zero= [-7.32023073  7.32023073]\n",
      "0.18448275862068964\n"
     ]
    },
    {
     "name": "stderr",
     "output_type": "stream",
     "text": [
      "Processing time:  10%|█         | 3/30 [00:29<04:24,  9.78s/it]"
     ]
    },
    {
     "name": "stdout",
     "output_type": "stream",
     "text": [
      "V_zero= [-9.19163092  9.19163092]\n",
      "0.2517241379310345\n"
     ]
    },
    {
     "name": "stderr",
     "output_type": "stream",
     "text": [
      "Processing time:  13%|█▎        | 4/30 [00:39<04:13,  9.77s/it]"
     ]
    },
    {
     "name": "stdout",
     "output_type": "stream",
     "text": [
      "V_zero= [-11.21775112  11.21775112]\n",
      "0.3189655172413793\n"
     ]
    },
    {
     "name": "stderr",
     "output_type": "stream",
     "text": [
      "Processing time:  17%|█▋        | 5/30 [00:48<04:03,  9.72s/it]"
     ]
    },
    {
     "name": "stdout",
     "output_type": "stream",
     "text": [
      "V_zero= [-13.51819135  13.51819135]\n",
      "0.3862068965517241\n"
     ]
    },
    {
     "name": "stderr",
     "output_type": "stream",
     "text": [
      "Processing time:  20%|██        | 6/30 [00:58<03:52,  9.68s/it]"
     ]
    },
    {
     "name": "stdout",
     "output_type": "stream",
     "text": [
      "V_zero= [-16.22339162  16.22339162]\n",
      "0.45344827586206893\n"
     ]
    },
    {
     "name": "stderr",
     "output_type": "stream",
     "text": [
      "Processing time:  23%|██▎       | 7/30 [01:08<03:42,  9.68s/it]"
     ]
    },
    {
     "name": "stdout",
     "output_type": "stream",
     "text": [
      "V_zero= [-19.50923195  19.50923195]\n",
      "0.5206896551724138\n"
     ]
    },
    {
     "name": "stderr",
     "output_type": "stream",
     "text": [
      "Processing time:  27%|██▋       | 8/30 [01:17<03:28,  9.47s/it]"
     ]
    },
    {
     "name": "stdout",
     "output_type": "stream",
     "text": [
      "0.5879310344827586\n"
     ]
    },
    {
     "name": "stderr",
     "output_type": "stream",
     "text": [
      "Processing time:  30%|███       | 9/30 [01:26<03:16,  9.34s/it]"
     ]
    },
    {
     "name": "stdout",
     "output_type": "stream",
     "text": [
      "0.6551724137931034\n"
     ]
    },
    {
     "name": "stderr",
     "output_type": "stream",
     "text": [
      "Processing time:  33%|███▎      | 10/30 [01:35<03:05,  9.27s/it]"
     ]
    },
    {
     "name": "stdout",
     "output_type": "stream",
     "text": [
      "0.7224137931034482\n"
     ]
    },
    {
     "name": "stderr",
     "output_type": "stream",
     "text": [
      "Processing time:  37%|███▋      | 11/30 [01:44<02:54,  9.20s/it]"
     ]
    },
    {
     "name": "stdout",
     "output_type": "stream",
     "text": [
      "0.7896551724137931\n"
     ]
    },
    {
     "name": "stderr",
     "output_type": "stream",
     "text": [
      "Processing time:  40%|████      | 12/30 [01:53<02:43,  9.11s/it]"
     ]
    },
    {
     "name": "stdout",
     "output_type": "stream",
     "text": [
      "0.8568965517241379\n"
     ]
    },
    {
     "name": "stderr",
     "output_type": "stream",
     "text": [
      "Processing time:  43%|████▎     | 13/30 [02:02<02:33,  9.05s/it]"
     ]
    },
    {
     "name": "stdout",
     "output_type": "stream",
     "text": [
      "0.9241379310344827\n"
     ]
    },
    {
     "name": "stderr",
     "output_type": "stream",
     "text": [
      "Processing time:  47%|████▋     | 14/30 [02:10<02:23,  8.97s/it]"
     ]
    },
    {
     "name": "stdout",
     "output_type": "stream",
     "text": [
      "0.9913793103448276\n"
     ]
    },
    {
     "name": "stderr",
     "output_type": "stream",
     "text": [
      "Processing time:  50%|█████     | 15/30 [02:19<02:13,  8.91s/it]"
     ]
    },
    {
     "name": "stdout",
     "output_type": "stream",
     "text": [
      "1.0586206896551724\n"
     ]
    },
    {
     "name": "stderr",
     "output_type": "stream",
     "text": [
      "Processing time:  53%|█████▎    | 16/30 [02:27<01:58,  8.48s/it]"
     ]
    },
    {
     "name": "stdout",
     "output_type": "stream",
     "text": [
      "1.1258620689655172\n"
     ]
    },
    {
     "name": "stderr",
     "output_type": "stream",
     "text": [
      "Processing time:  57%|█████▋    | 17/30 [02:34<01:47,  8.23s/it]"
     ]
    },
    {
     "name": "stdout",
     "output_type": "stream",
     "text": [
      "1.193103448275862\n"
     ]
    },
    {
     "name": "stderr",
     "output_type": "stream",
     "text": [
      "Processing time:  60%|██████    | 18/30 [02:42<01:36,  8.07s/it]"
     ]
    },
    {
     "name": "stdout",
     "output_type": "stream",
     "text": [
      "1.2603448275862068\n"
     ]
    },
    {
     "name": "stderr",
     "output_type": "stream",
     "text": [
      "Processing time:  63%|██████▎   | 19/30 [02:50<01:27,  7.97s/it]"
     ]
    },
    {
     "name": "stdout",
     "output_type": "stream",
     "text": [
      "1.3275862068965516\n"
     ]
    },
    {
     "name": "stderr",
     "output_type": "stream",
     "text": [
      "Processing time:  67%|██████▋   | 20/30 [02:57<01:18,  7.90s/it]"
     ]
    },
    {
     "name": "stdout",
     "output_type": "stream",
     "text": [
      "1.3948275862068964\n"
     ]
    },
    {
     "name": "stderr",
     "output_type": "stream",
     "text": [
      "Processing time:  70%|███████   | 21/30 [03:05<01:10,  7.87s/it]"
     ]
    },
    {
     "name": "stdout",
     "output_type": "stream",
     "text": [
      "1.4620689655172414\n"
     ]
    },
    {
     "name": "stderr",
     "output_type": "stream",
     "text": [
      "Processing time:  73%|███████▎  | 22/30 [03:13<01:02,  7.84s/it]"
     ]
    },
    {
     "name": "stdout",
     "output_type": "stream",
     "text": [
      "1.5293103448275862\n"
     ]
    },
    {
     "name": "stderr",
     "output_type": "stream",
     "text": [
      "Processing time:  77%|███████▋  | 23/30 [03:21<00:54,  7.80s/it]"
     ]
    },
    {
     "name": "stdout",
     "output_type": "stream",
     "text": [
      "1.596551724137931\n"
     ]
    },
    {
     "name": "stderr",
     "output_type": "stream",
     "text": [
      "Processing time:  80%|████████  | 24/30 [03:29<00:46,  7.80s/it]"
     ]
    },
    {
     "name": "stdout",
     "output_type": "stream",
     "text": [
      "1.6637931034482758\n"
     ]
    },
    {
     "name": "stderr",
     "output_type": "stream",
     "text": [
      "Processing time:  83%|████████▎ | 25/30 [03:36<00:39,  7.80s/it]"
     ]
    },
    {
     "name": "stdout",
     "output_type": "stream",
     "text": [
      "1.7310344827586206\n"
     ]
    },
    {
     "name": "stderr",
     "output_type": "stream",
     "text": [
      "Processing time:  87%|████████▋ | 26/30 [03:45<00:31,  7.95s/it]"
     ]
    },
    {
     "name": "stdout",
     "output_type": "stream",
     "text": [
      "V_zero= [-28.11439281  28.11439281]\n",
      "1.7982758620689654\n"
     ]
    },
    {
     "name": "stderr",
     "output_type": "stream",
     "text": [
      "Processing time:  90%|█████████ | 27/30 [03:53<00:24,  8.06s/it]"
     ]
    },
    {
     "name": "stdout",
     "output_type": "stream",
     "text": [
      "V_zero= [-26.28875263  26.28875263]\n",
      "1.8655172413793102\n"
     ]
    },
    {
     "name": "stderr",
     "output_type": "stream",
     "text": [
      "Processing time:  93%|█████████▎| 28/30 [04:01<00:16,  8.11s/it]"
     ]
    },
    {
     "name": "stdout",
     "output_type": "stream",
     "text": [
      "V_zero= [-24.74129247  24.74129247]\n",
      "1.9327586206896552\n"
     ]
    },
    {
     "name": "stderr",
     "output_type": "stream",
     "text": [
      "Processing time:  97%|█████████▋| 29/30 [04:10<00:08,  8.18s/it]"
     ]
    },
    {
     "name": "stdout",
     "output_type": "stream",
     "text": [
      "V_zero= [-23.41215234  23.41215234]\n",
      "2.0\n"
     ]
    },
    {
     "name": "stderr",
     "output_type": "stream",
     "text": [
      "Processing time: 100%|██████████| 30/30 [04:18<00:00,  8.61s/it]"
     ]
    },
    {
     "name": "stdout",
     "output_type": "stream",
     "text": [
      "V_zero= [-22.25751223  -3.0198703   22.25751223]\n",
      "Minimum V_zero: -28.114392811439274\n",
      "Maximum V_zero: 28.114392811439274\n"
     ]
    },
    {
     "name": "stderr",
     "output_type": "stream",
     "text": [
      "\n"
     ]
    }
   ],
   "source": [
    "# Define the ranges for L and R\n",
    "L_values = np.linspace(0.05, 2, 30)\n",
    "#L_values = [0.05,  0.95, 1.05,  2]\n",
    "R = 1\n",
    "\n",
    "# Initialize matrices for signs_J1 and signs_J2\n",
    "lenL = len(L_values)\n",
    "num_subintervals = 20\n",
    "\n",
    "signs_J1 = np.zeros((lenL, num_subintervals))\n",
    "signs_J2 = np.zeros((lenL, num_subintervals))\n",
    "V_critic = np.zeros((lenL, num_subintervals))\n",
    "\n",
    "# Initialize min_V and max_V for plots\n",
    "min_V = 60  # Initialize to a positive large value\n",
    "max_V = -60  # Initialize to a engative large value\n",
    "\n",
    "for i, L in tqdm(enumerate(L_values), total=len(L_values), desc='Processing time'):\n",
    "    print(L)\n",
    "    V_range = np.linspace(-100, 100, int(1e7))  # Adjust the number of points as needed\n",
    "    alpha, beta, z1, z2, V1_range, V2_range, V3_range = calculate_voltage_ranges(L, R)\n",
    "\n",
    "\n",
    "    c10a, c20a, c10b, c20b, phi0a, phi0b, y0, J10, J20 = zeroth_order_terms(V_range, alpha, beta, L, R, z1, z2)\n",
    "    c11a, c21a, c11b, c21b, phi1a, phi1b, y1, J11, J21 = first_order_terms(V_range, alpha, beta, L, R, z1, z2)\n",
    "    c12a, c22a, c12b, c22b, phi2a, phi2b, y2, J12, J22 = second_order_terms(V_range, alpha, beta, L, R, z1, z2)\n",
    "    J1_prd2 = J10 * J11 * J12\n",
    "    J2_prd2 = J20 * J21 * J22\n",
    "\n",
    "    # Find indices of values very close to zero in J1_prd2 and J2_prd2\n",
    "    epsilon = 1e-2  # Adjust this value as needed\n",
    "    zero_indices1 = np.where(np.isclose(J1_prd2, 0., atol=epsilon))[0]\n",
    "    zero_indices2 = np.where(np.isclose(J2_prd2, 0., atol=epsilon))[0]\n",
    "\n",
    "\n",
    "    # Keep one element per consecutive sequence in zero_indices1 and zero_indices2\n",
    "    zero_indices1 = keep_min_abs_per_consecutive(zero_indices1, J1_prd2)\n",
    "    zero_indices2 = keep_min_abs_per_consecutive(zero_indices2, J2_prd2)\n",
    "\n",
    "    # Get corresponding values of V_range for zero values in J1_prd2 and J2_prd2\n",
    "    V_zero_values1 = V_range[zero_indices1]\n",
    "    V_zero_values2 = V_range[zero_indices2]\n",
    "    #print('V1=', V_zero_values1)\n",
    "    #print('V2=', V_zero_values2)\n",
    "\n",
    "    # Combine the zero values\n",
    "    V_combined = np.concatenate([V_zero_values1, V_zero_values2])\n",
    "\n",
    "    # Rearrange to have V_zero\n",
    "    V_zero = np.sort(V_combined)\n",
    "\n",
    "    # Remove close values in V_combined\n",
    "    V_zero = remove_close_roots(V_zero, V_range)\n",
    "    #print('V_zero_new:', V_zero)\n",
    "\n",
    "    # Call the function to get the updated V_zero\n",
    "    if len(V_zero) > 2 and len(V_zero_values1) > 1 and len(V_zero_values2) > 1:\n",
    "        V_zero = remove_same_sign_points(V_zero, V_range, J1_prd2, J2_prd2)\n",
    "        # Convert V_zero to np.array form (if it's not already)\n",
    "        V_zero = np.array(V_zero)\n",
    "        print('V_zero=', V_zero)\n",
    "\n",
    "    # Update the length of V_zero\n",
    "    lng = len(V_zero)\n",
    "\n",
    "    # Create new subintervals using np.linspace\n",
    "    if lng > 0:\n",
    "        min_V = min(min_V, np.min(V_zero))\n",
    "        max_V = max(max_V, np.max(V_zero))\n",
    "        subintervals = [\n",
    "                  np.linspace(V_zero[0]-80, V_zero[0], num_subintervals)\n",
    "                ] + [\n",
    "                  np.linspace(V_zero[i], V_zero[i + 1], num_subintervals) for i in range(lng - 1)\n",
    "                ] + [\n",
    "                  np.linspace(V_zero[-1], V_zero[-1]+80, num_subintervals)\n",
    "                ]\n",
    "    else:\n",
    "        subintervals = [V_range[0], V_range[-1]]\n",
    "\n",
    "\n",
    "    signs_J1_temp = np.zeros(num_subintervals)\n",
    "    signs_J2_temp = np.zeros(num_subintervals)\n",
    "\n",
    "    for k, interval in enumerate(subintervals):\n",
    "        start_point = interval[0]\n",
    "        end_point = interval[-1]\n",
    "        interval_range = np.linspace(start_point, end_point, num_subintervals)\n",
    "        c10a, c20a, c10b, c20b, phi0a, phi0b, y0, J10, J20 = zeroth_order_terms(interval_range, alpha, beta, L, R, z1, z2)\n",
    "        c11a, c21a, c11b, c21b, phi1a, phi1b, y1, J11, J21 = first_order_terms(interval_range, alpha, beta, L, R, z1, z2)\n",
    "        c12a, c22a, c12b, c22b, phi2a, phi2b, y2, J12, J22 = second_order_terms(interval_range, alpha, beta, L, R, z1, z2)\n",
    "        J1_prd22 = J10 * J11 * J12\n",
    "        J2_prd22 = J20 * J21 * J22\n",
    "\n",
    "        midpoint = (start_point + end_point) / 2\n",
    "        # Find the index in interval_range closest to the midpoint\n",
    "        mid_index = np.abs(interval_range - midpoint).argmin()\n",
    "\n",
    "        #mid_value = interval_range[midpoint_index]\n",
    "\n",
    "        # Append the signs for the current L\n",
    "        sign_J1_prd22 = np.sign(J1_prd22[mid_index])\n",
    "        sign_J2_prd22 = np.sign(J2_prd22[mid_index])\n",
    "\n",
    "\n",
    "        # Append the signs for the current L to the temporary arrays\n",
    "        signs_J1_temp[k] = 1 if sign_J1_prd22 > 0 else -1\n",
    "        signs_J2_temp[k] = 1 if sign_J2_prd22 > 0 else -1\n",
    "\n",
    "    # Assign the temporary arrays to the i-th row of signs_J1 and signs_J2\n",
    "    signs_J1[i, :] = signs_J1_temp\n",
    "    signs_J2[i, :] = signs_J2_temp\n",
    "    V_critic[i, :lng] = V_zero\n",
    "\n",
    "print(\"Minimum V_zero:\", min_V)\n",
    "print(\"Maximum V_zero:\", max_V)"
   ]
  },
  {
   "cell_type": "code",
   "execution_count": 10,
   "id": "a099a38b",
   "metadata": {
    "execution": {
     "iopub.execute_input": "2023-12-26T04:17:49.232109Z",
     "iopub.status.busy": "2023-12-26T04:17:49.231818Z",
     "iopub.status.idle": "2023-12-26T04:17:50.645818Z",
     "shell.execute_reply": "2023-12-26T04:17:50.645016Z"
    },
    "papermill": {
     "duration": 1.426692,
     "end_time": "2023-12-26T04:17:50.648208",
     "exception": false,
     "start_time": "2023-12-26T04:17:49.221516",
     "status": "completed"
    },
    "tags": []
   },
   "outputs": [],
   "source": [
    "# Create a matrix to store the heatmap values\n",
    "Jsign_func1 = np.zeros((lenL, len(V_range)))\n",
    "for i in range(len(V_critic)):\n",
    "    left_index = np.searchsorted(V_range,V_critic[i, 0])\n",
    "    #print('left=',V_range[left_index])\n",
    "    #print('left=',left_index)\n",
    "    Jsign_func1[i, :left_index] = signs_J1[i, 0]\n",
    "\n",
    "    for j in range(len(V_critic[i]) - 1):\n",
    "        if (V_critic[i, j] == 0 and V_critic[i, j+1] == 0) :\n",
    "            break\n",
    "\n",
    "        elif (V_critic[i, j] != 0 and V_critic[i, j+1] == 0) :\n",
    "            right_index = np.searchsorted(V_range,V_critic[i, j])\n",
    "            #print('right=',V_range[right_index])\n",
    "            Jsign_func1[i, right_index:] = signs_J1[i, j+1]\n",
    "\n",
    "        # Find the indices corresponding to the current segment\n",
    "        else:\n",
    "            start_index = np.searchsorted(V_range, V_critic[i, j])\n",
    "            end_index = np.searchsorted(V_range, V_critic[i, j + 1])\n",
    "            # Assign values from S to the corresponding segment in H\n",
    "            Jsign_func1[i, start_index:end_index] = signs_J1[i, j + 1]\n"
   ]
  },
  {
   "cell_type": "code",
   "execution_count": 11,
   "id": "a7471dd6",
   "metadata": {
    "execution": {
     "iopub.execute_input": "2023-12-26T04:17:50.668991Z",
     "iopub.status.busy": "2023-12-26T04:17:50.668713Z",
     "iopub.status.idle": "2023-12-26T04:17:52.078364Z",
     "shell.execute_reply": "2023-12-26T04:17:52.077601Z"
    },
    "papermill": {
     "duration": 1.422402,
     "end_time": "2023-12-26T04:17:52.080627",
     "exception": false,
     "start_time": "2023-12-26T04:17:50.658225",
     "status": "completed"
    },
    "tags": []
   },
   "outputs": [],
   "source": [
    "\n",
    "# Create a matrix to store the heatmap values\n",
    "Jsign_func2 = np.zeros((lenL, len(V_range)))\n",
    "for i in range(len(V_critic)):\n",
    "    left_index = np.searchsorted(V_range,V_critic[i, 0])\n",
    "    Jsign_func2[i, :left_index] = signs_J2[i, 0]\n",
    "    for j in range(len(V_critic[i]) - 1):\n",
    "        if (V_critic[i, j] == 0 and V_critic[i, j+1] == 0) :\n",
    "            break\n",
    "\n",
    "        elif (V_critic[i, j] != 0 and V_critic[i, j+1] == 0) :\n",
    "            right_index = np.searchsorted(V_range,V_critic[i, j])\n",
    "            Jsign_func2[i, right_index:] = signs_J2[i, j+1]\n",
    "\n",
    "        # Find the indices corresponding to the current segment\n",
    "        else:\n",
    "            start_index = np.searchsorted(V_range, V_critic[i, j])\n",
    "            end_index = np.searchsorted(V_range, V_critic[i, j + 1])\n",
    "            # Assign values from S to the corresponding segment in H\n",
    "            Jsign_func2[i, start_index:end_index] = signs_J2[i, j + 1]"
   ]
  },
  {
   "cell_type": "code",
   "execution_count": 12,
   "id": "872f6e6b",
   "metadata": {
    "execution": {
     "iopub.execute_input": "2023-12-26T04:17:52.101185Z",
     "iopub.status.busy": "2023-12-26T04:17:52.100912Z",
     "iopub.status.idle": "2023-12-26T04:18:11.418091Z",
     "shell.execute_reply": "2023-12-26T04:18:11.416964Z"
    },
    "papermill": {
     "duration": 19.329802,
     "end_time": "2023-12-26T04:18:11.420389",
     "exception": false,
     "start_time": "2023-12-26T04:17:52.090587",
     "status": "completed"
    },
    "tags": []
   },
   "outputs": [
    {
     "name": "stderr",
     "output_type": "stream",
     "text": [
      "/opt/conda/lib/python3.10/site-packages/matplotlib/image.py:175: UserWarning: Data with more than 2**23 columns cannot be accurately displayed. Downsampling to less than 2**23 columns before displaying. To remove this warning, manually downsample your data.\n",
      "  warnings.warn(msg.format(n='2**23 columns'))\n"
     ]
    },
    {
     "data": {
      "image/png": "[encoded data removed]",
      "text/plain": [
       "<Figure size 1200x600 with 4 Axes>"
      ]
     },
     "metadata": {},
     "output_type": "display_data"
    }
   ],
   "source": [
    "fig, axs = plt.subplots(1, 2, figsize=(12, 6))\n",
    "\n",
    "# Plot the heatmap for signs_J1\n",
    "img1 = axs[0].imshow(Jsign_func1, cmap='coolwarm', extent=[V_range[0], V_range[-1], L_values[-1], L_values[0]], aspect='auto', vmin=-1, vmax=1)\n",
    "axs[0].set_xlabel('Voltage (V)')\n",
    "axs[0].set_ylabel('$L~$ values')\n",
    "axs[0].set_title(r'Heatmap for signs of $J_{10} \\cdot J_{11} \\cdot J_{12}$')\n",
    "axs[0].set_xlim(min_V, max_V)\n",
    "#axs[0].grid(True)\n",
    "axs[0].set_ylim(L_values[0], L_values[-1])  # Reverse the y-axis\n",
    "\n",
    "# Plot the heatmap for signs_J2\n",
    "img2 = axs[1].imshow(Jsign_func2, cmap='coolwarm', extent=[V_range[0], V_range[-1], L_values[-1], L_values[0]], aspect='auto', vmin=-1, vmax=1)\n",
    "axs[1].set_xlabel('Voltage (V)')\n",
    "axs[1].set_ylabel('$L~$ values')\n",
    "axs[1].set_title(r'Heatmap for signs of $J_{20} \\cdot J_{21} \\cdot J_{22}$')\n",
    "axs[1].set_xlim(min_V, max_V)\n",
    "#axs[1].grid(True)\n",
    "axs[1].set_ylim(L_values[0], L_values[-1])  # Reverse the y-axis\n",
    "\n",
    "# Add legends\n",
    "fig.colorbar(img1, ax=axs[0])\n",
    "fig.colorbar(img2, ax=axs[1])\n",
    "\n",
    "# Adjust layout for better spacing\n",
    "plt.tight_layout()\n",
    "plt.show()"
   ]
  },
  {
   "cell_type": "code",
   "execution_count": 13,
   "id": "147bacc6",
   "metadata": {
    "execution": {
     "iopub.execute_input": "2023-12-26T04:18:11.445583Z",
     "iopub.status.busy": "2023-12-26T04:18:11.444858Z",
     "iopub.status.idle": "2023-12-26T04:18:14.358728Z",
     "shell.execute_reply": "2023-12-26T04:18:14.357840Z"
    },
    "papermill": {
     "duration": 2.927922,
     "end_time": "2023-12-26T04:18:14.361238",
     "exception": false,
     "start_time": "2023-12-26T04:18:11.433316",
     "status": "completed"
    },
    "tags": []
   },
   "outputs": [],
   "source": [
    "# Create a 3D matrix to store both signs_J1 and signs_J2\n",
    "Jsign_matrix = np.zeros((2, lenL, len(V_range)))\n",
    "\n",
    "# Define a list for both signs_J1 and signs_J2\n",
    "sign_matrices = [signs_J1, signs_J2]\n",
    "\n",
    "for idx, signs in enumerate(sign_matrices):\n",
    "    for i in range(len(V_critic)):\n",
    "        left_index = np.searchsorted(V_range, V_critic[i, 0])\n",
    "        Jsign_matrix[idx, i, :left_index] = signs[i, 0]\n",
    "        for j in range(len(V_critic[i]) - 1):\n",
    "            if V_critic[i, j] == 0 and V_critic[i, j + 1] == 0:\n",
    "                break\n",
    "            # Find the indices corresponding to the current segment\n",
    "            elif V_critic[i, j] != 0 and V_critic[i, j + 1] == 0:\n",
    "                right_index = np.searchsorted(V_range, V_critic[i, j])\n",
    "                Jsign_matrix[idx, i, right_index:] = signs[i, j + 1]\n",
    "\n",
    "            else:\n",
    "                start_index = np.searchsorted(V_range, V_critic[i, j])\n",
    "                end_index = np.searchsorted(V_range, V_critic[i, j + 1])\n",
    "\n",
    "                # Assign values from S to the corresponding segment in H\n",
    "                Jsign_matrix[idx, i, start_index:end_index] = signs[i, j + 1]"
   ]
  },
  {
   "cell_type": "code",
   "execution_count": 14,
   "id": "f50cb2b3",
   "metadata": {
    "execution": {
     "iopub.execute_input": "2023-12-26T04:18:14.384621Z",
     "iopub.status.busy": "2023-12-26T04:18:14.384286Z",
     "iopub.status.idle": "2023-12-26T04:18:31.837737Z",
     "shell.execute_reply": "2023-12-26T04:18:31.836814Z"
    },
    "papermill": {
     "duration": 17.467247,
     "end_time": "2023-12-26T04:18:31.839723",
     "exception": false,
     "start_time": "2023-12-26T04:18:14.372476",
     "status": "completed"
    },
    "tags": []
   },
   "outputs": [
    {
     "data": {
      "image/png": "[encoded data removed]",
      "text/plain": [
       "<Figure size 640x480 with 2 Axes>"
      ]
     },
     "metadata": {},
     "output_type": "display_data"
    }
   ],
   "source": [
    "# Plot the heatmap with specified color scale limits for both signs_J1 and signs_J2\n",
    "plt.imshow(Jsign_matrix[0, :, :], cmap='coolwarm', extent=[V_range[0], V_range[-1], L_values[-1], L_values[0]], aspect='auto', vmin=-1, vmax=1)\n",
    "plt.imshow(Jsign_matrix[1, :, :], cmap='coolwarm', extent=[V_range[0], V_range[-1], L_values[-1], L_values[0]], aspect='auto', vmin=-1, vmax=1, alpha=0.5)  # Alpha blends the two heatmaps\n",
    "plt.xlabel('Voltage (V)')\n",
    "plt.ylabel('$L~$ values')\n",
    "plt.title('Overlap of Same Sign Regions for $J_{10} \\cdot J_{11} \\cdot J_{12}$ and $J_{20} \\cdot J_{21} \\cdot J_{22}$')\n",
    "plt.colorbar()\n",
    "\n",
    "# Set x-axis limits\n",
    "plt.xlim(min_V, max_V)\n",
    "# Reverse the y-axis\n",
    "plt.ylim(L_values[0], L_values[-1])\n",
    "\n",
    "\n",
    "\n",
    "plt.show()"
   ]
  }
 ],
 "metadata": {
  "kaggle": {
   "accelerator": "nvidiaTeslaT4",
   "dataSources": [],
   "isGpuEnabled": true,
   "isInternetEnabled": true,
   "language": "python",
   "sourceType": "notebook"
  },
  "kernelspec": {
   "display_name": "Python 3",
   "language": "python",
   "name": "python3"
  },
  "language_info": {
   "codemirror_mode": {
    "name": "ipython",
    "version": 3
   },
   "file_extension": ".py",
   "mimetype": "text/x-python",
   "name": "python",
   "nbconvert_exporter": "python",
   "pygments_lexer": "ipython3",
   "version": "3.10.12"
  },
  "papermill": {
   "default_parameters": {},
   "duration": 305.680409,
   "end_time": "2023-12-26T04:18:32.671087",
   "environment_variables": {},
   "exception": null,
   "input_path": "__notebook__.ipynb",
   "output_path": "__notebook__.ipynb",
   "parameters": {},
   "start_time": "2023-12-26T04:13:26.990678",
   "version": "2.4.0"
  }
 },
 "nbformat": 4,
 "nbformat_minor": 5
}
