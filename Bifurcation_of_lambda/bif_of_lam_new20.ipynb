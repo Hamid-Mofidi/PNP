{
  "nbformat": 4,
  "nbformat_minor": 0,
  "metadata": {
    "colab": {
      "provenance": [],
      "authorship_tag": "ABX9TyPSv7lHRSJ9P0KEBU2YIP23",
      "include_colab_link": true
    },
    "kernelspec": {
      "name": "python3",
      "display_name": "Python 3"
    },
    "language_info": {
      "name": "python"
    }
  },
  "cells": [
    {
      "cell_type": "markdown",
      "metadata": {
        "id": "view-in-github",
        "colab_type": "text"
      },
      "source": [
        "<a href=\"https://colab.research.google.com/github/Hamid-Mofidi/PNP/blob/main/Bifurcation_of_lambda/bif_of_lam_new20.ipynb\" target=\"_parent\"><img src=\"https://colab.research.google.com/assets/colab-badge.svg\" alt=\"Open In Colab\"/></a>"
      ]
    },
    {
      "cell_type": "markdown",
      "source": [
        "This code implements a bifurcation analysis of the flux ratio to investigate the influence of fixed charges on ionic transport phenomena.\n",
        "\n",
        "We vary $r$ to study dependence of the flux ratio on other variables, especially on $\\mathcal{I}$ and $V$."
      ],
      "metadata": {
        "id": "JmlF3kMUNpU7"
      }
    },
    {
      "cell_type": "code",
      "source": [
        "from scipy.optimize import root\n",
        "import numpy as np\n",
        "import matplotlib.pyplot as plt\n",
        "fixed_r = 0.5\n",
        "fixed_r2 = 1\n",
        "fixed_r3 = 2\n",
        "fixed_r4 = 5\n",
        "k = 1 # k=1: bif of lambda_1,  k=2: bif of lambda_2"
      ],
      "metadata": {
        "id": "ffoH2d5psXVp"
      },
      "execution_count": 1,
      "outputs": []
    },
    {
      "cell_type": "code",
      "execution_count": 2,
      "metadata": {
        "id": "WwLWz6voNmaa",
        "outputId": "039b4fc6-e93d-4970-dfda-0957e9e4ffcc",
        "colab": {
          "base_uri": "https://localhost:8080/"
        }
      },
      "outputs": [
        {
          "output_type": "stream",
          "name": "stdout",
          "text": [
            "0.5\n"
          ]
        },
        {
          "output_type": "stream",
          "name": "stderr",
          "text": [
            "<ipython-input-2-b77273f8fbbc>:25: RuntimeWarning: invalid value encountered in double_scalars\n",
            "  G43     = ( I+ ( ((-1)**k) * (A-l) ) ) * siglog * M/(A-l)\n",
            "<ipython-input-2-b77273f8fbbc>:26: RuntimeWarning: divide by zero encountered in double_scalars\n",
            "  GR      =( ( I**2-(A-l)**2 )/(A-l) ) * M * ABGammaR\n",
            "<ipython-input-2-b77273f8fbbc>:26: RuntimeWarning: invalid value encountered in double_scalars\n",
            "  GR      =( ( I**2-(A-l)**2 )/(A-l) ) * M * ABGammaR\n",
            "<ipython-input-2-b77273f8fbbc>:31: RuntimeWarning: invalid value encountered in double_scalars\n",
            "  f2 = V - logAB + ((I*logSBA-rho)/(A-l))\n",
            "<ipython-input-2-b77273f8fbbc>:32: RuntimeWarning: divide by zero encountered in double_scalars\n",
            "  f3 = I - ( (numI1 + numI2+rho)/(logSBA + siglog*(A-l))  )\n",
            "<ipython-input-2-b77273f8fbbc>:93: RuntimeWarning: invalid value encountered in log\n",
            "  ((sol.x[3] - r) * (sol.x[2] +  np.log(sol.x[3]) - np.log(r)  ))\n",
            "<ipython-input-2-b77273f8fbbc>:96: RuntimeWarning: invalid value encountered in log\n",
            "  (np.log(sol.x[3]) - np.log(r)) / \\\n",
            "<ipython-input-2-b77273f8fbbc>:97: RuntimeWarning: invalid value encountered in log\n",
            "  ((sol.x[3] - r) * (-sol.x[2] + np.log(sol.x[3]) - np.log(r)  ))\n"
          ]
        },
        {
          "output_type": "stream",
          "name": "stdout",
          "text": [
            "r is  0.5\n",
            "k is  1\n"
          ]
        }
      ],
      "source": [
        "def equations(x):\n",
        "    A, I, V, l = x\n",
        "\n",
        "    # k = 1\n",
        "    r =  fixed_r\n",
        "    eps = 1e-15 #  a small number\n",
        "\n",
        "    sqA    = np.sqrt(1+A**2)\n",
        "    sqB    = np.sqrt(1+(l-A+r)**2) #assume that alpha=1/3, beta=2/3\n",
        "    logAB  = np.log(np.maximum( (l-A+r)*(sqA-1), eps)/np.maximum( A*(sqB-1), eps) )\n",
        "    rho    = (A-l)**2 + (sqA - sqB)*(A-l)\n",
        "    sigma  = l/r\n",
        "    logSBA = np.log(np.maximum( sigma*(l-A+r) , eps)/ np.maximum(A, eps) ) # not a real number\n",
        "    siglog = 3*sigma*np.log( np.maximum( sigma, eps) )/(l*(sigma-1))\n",
        "\n",
        "    numI1   = (( (-1)**(k+1) )*siglog) * (A-l)**2\n",
        "    numI2   = (logAB - ((-1)**k) * np.log( np.maximum(sigma, eps) ))*(A-l+eps)\n",
        "    gamma1  = 1/(I-(A-l) * sqA)\n",
        "    gamma2  = 1/(I-(A-l) * sqB)\n",
        "    M       = I * (gamma2 - gamma1)+ rho/I\n",
        "    ABGamma = A * gamma1 + (l-A+r) * gamma2\n",
        "    ABGammaR= (1/A) * gamma1 + (1/(l-A+r)) * gamma2\n",
        "    G41     = ( 1- (A-l)*ABGamma )*( logSBA + (A-l) * siglog )\n",
        "    G42     = ( 1- (A-l)*ABGamma )* M\n",
        "    G43     = ( I+ ( ((-1)**k) * (A-l) ) ) * siglog * M/(A-l)\n",
        "    GR      =( ( I**2-(A-l)**2 )/(A-l) ) * M * ABGammaR\n",
        "\n",
        "\n",
        "\n",
        "    f1 = rho - (I* ( np.log( np.maximum( I-(A-l)*sqB, eps) /np.maximum( I-(A-l)*sqA , eps) )  ))\n",
        "    f2 = V - logAB + ((I*logSBA-rho)/(A-l))\n",
        "    f3 = I - ( (numI1 + numI2+rho)/(logSBA + siglog*(A-l))  )\n",
        "    f4 = G41 - G42 + G43 - GR\n",
        "\n",
        "    return [f1, f2, f3, f4]\n",
        "\n",
        "# set a range of initial values\n",
        "A_range = np.linspace(0.01, 10, 20)\n",
        "I_range = np.linspace(-60, 60, 20)\n",
        "V_range = np.linspace(-80, 80, 20)\n",
        "l_range = np.linspace(0.01, 10, 20)\n",
        "\n",
        "r = fixed_r\n",
        "print(r)\n",
        "\n",
        "# Create a boolean mask for the constraint\n",
        "# The resulting arrays for A_range, I_range, V_range, and L_range\n",
        "# will only contain values that satisfy the constraint.\n",
        "# Calculate Am\n",
        "Am = l_range + r\n",
        "\n",
        "# Calculate the expressions\n",
        "expression1 = (A_range - l_range) * np.sqrt(1 + A_range**2)\n",
        "expression2 = (A_range - l_range) * np.sqrt(1 + (l_range - A_range + r)**2)\n",
        "\n",
        "# Calculate the maximum and minimum expressions\n",
        "max_expression = np.maximum(expression1, expression2)\n",
        "min_expression = np.minimum(expression1, expression2)\n",
        "\n",
        "eps = 1e-15 #  a small number\n",
        "mask = ( (I_range > max_expression) | (I_range < min_expression) ) & (np.abs(I_range) > eps) & (A_range > 0) & (A_range <= Am) & (np.abs(l_range-r) > eps)\n",
        "\n",
        "# Apply the mask to all arrays\n",
        "A_range = A_range[mask]\n",
        "I_range = I_range[mask]\n",
        "V_range = V_range[mask]\n",
        "l_range = l_range[mask]\n",
        "\n",
        "# initialize arrays to store solutions\n",
        "A_sol = []\n",
        "I_sol = []\n",
        "V_sol = []\n",
        "l_sol = []\n",
        "\n",
        "# loop through all combinations of initial values\n",
        "for a in A_range:\n",
        "    for i in I_range:\n",
        "        for v in V_range:\n",
        "            for ll in l_range:\n",
        "                x0 = [a, i, v, ll]\n",
        "                sol = root(equations, x0, method='hybr')\n",
        "                # Calculate lmd1 and lmd2\n",
        "\n",
        "                if sol.success: # check if solution was found\n",
        "                    # check if solution satisfies the mask\n",
        "                    expression12 = (sol.x[0] - sol.x[3]) * np.sqrt(1 + sol.x[0]**2)\n",
        "                    expression22 = (sol.x[0] - sol.x[3]) * np.sqrt(1 + (sol.x[3] - sol.x[0] + r)**2)\n",
        "                    max_expression2 = np.maximum(expression12, expression22)\n",
        "                    min_expression2 = np.minimum(expression12, expression22)\n",
        "\n",
        "                    lmd1_sol = 3*(sol.x[3] - sol.x[0] + sol.x[1]) * \\\n",
        "                     (np.log(np.maximum(sol.x[3]/r, 1e-15))) / \\\n",
        "                     ((sol.x[3] - r) * (sol.x[2] +  np.log(sol.x[3]) - np.log(r)  ))\n",
        "\n",
        "                    lmd2_sol = 3*(sol.x[3] - sol.x[0] - sol.x[1]) * \\\n",
        "                    (np.log(sol.x[3]) - np.log(r)) / \\\n",
        "                       ((sol.x[3] - r) * (-sol.x[2] + np.log(sol.x[3]) - np.log(r)  ))\n",
        "\n",
        "                    mask2 =  ( (sol.x[1] > max_expression2) | (sol.x[1] < min_expression2) ) & (np.abs(sol.x[1]) > eps) &  (np.abs(sol.x[3]-r) > eps)  & (sol.x[0] >= 0) & (sol.x[0] <= sol.x[3] + r)  &(lmd1_sol<=lmd2_sol)\n",
        "                    if np.all(mask2): # only append if all elements of mask are True\n",
        "                      A_sol = np.append(A_sol, sol.x[0])\n",
        "                      I_sol = np.append(I_sol, sol.x[1])\n",
        "                      V_sol = np.append(V_sol, sol.x[2])\n",
        "                      l_sol = np.append(l_sol, sol.x[3])\n",
        "r = fixed_r\n",
        "print('r is ', r)\n",
        "print('k is ', k)\n",
        "\n",
        "# Calculate lmd1 and lmd2\n",
        "lmd1 = 3*(l_sol - A_sol + I_sol) * \\\n",
        "       (np.log(np.maximum(l_sol/r, 1e-15))) / \\\n",
        "       ((l_sol - r) * ( V_sol + np.log(l_sol) - np.log(r)   ))\n",
        "\n",
        "lmd2 = 3*(l_sol - A_sol - I_sol) * \\\n",
        "       (np.log(np.maximum(l_sol/r, +1e-15))) / \\\n",
        "       ((l_sol - r) * (-V_sol + np.log(l_sol) - np.log(r)   ))\n",
        "\n",
        "J1 = (l_sol - A_sol + I_sol) /2\n",
        "J2 = (l_sol - A_sol - I_sol) /2\n",
        "\n",
        "\n"
      ]
    },
    {
      "cell_type": "code",
      "source": [],
      "metadata": {
        "id": "Pl87tIK4sUUM"
      },
      "execution_count": 2,
      "outputs": []
    },
    {
      "cell_type": "code",
      "source": [
        "def equations2(x2):\n",
        "    A2, I2, V2, l2 = x2\n",
        "\n",
        "    # k = 1\n",
        "    r2 =  fixed_r2\n",
        "    eps = 1e-15 #  a small number\n",
        "\n",
        "    sqA2    = np.sqrt(1+A2**2)\n",
        "    sqB2   = np.sqrt(1+(l2-A2+r2)**2) #assume that alpha=1/3, beta=2/3\n",
        "    logAB2  = np.log(np.maximum( (l2-A2+r2)*(sqA2-1), eps)/np.maximum( A2*(sqB2-1), eps) )\n",
        "    rho2    = (A2-l2)**2 + (sqA2 - sqB2)*(A2-l2)\n",
        "    sigma2  = l2/r2\n",
        "    logSBA2 = np.log(np.maximum( sigma2*(l2-A2+r2) , eps)/ np.maximum(A2, eps) ) # not a real number\n",
        "    siglog2 = 3*sigma2*np.log( np.maximum( sigma2, eps) )/(l2*(sigma2-1))\n",
        "\n",
        "    numI12   = (( (-1)**(k+1) )*siglog2) * (A2-l2)**2\n",
        "    numI22   = (logAB2 - ((-1)**k) * np.log( np.maximum(sigma2, eps) ))*(A2-l2+eps)\n",
        "    gamma12  = 1/(I2-(A2-l2) * sqA2)\n",
        "    gamma22  = 1/(I2-(A2-l2) * sqB2)\n",
        "    M2       = I2 * (gamma22 - gamma12)+ rho2/I2\n",
        "    ABGamma2 = A2 * gamma12 + (l2-A2+r2) * gamma22\n",
        "    ABGammaR2= (1/A2) * gamma12 + (1/(l2-A2+r2)) * gamma22\n",
        "    G412     = ( 1- (A2-l2)*ABGamma2 )*( logSBA2 + (A2-l2) * siglog2 )\n",
        "    G422     = ( 1- (A2-l2)*ABGamma2 )* M2\n",
        "    G432     = ( I2+ ( ((-1)**k) * (A2-l2) ) ) * siglog2 * M2/(A2-l2)\n",
        "    GR2      =( ( I2**2-(A2-l2)**2 )/(A2-l2) ) * M2 * ABGammaR2\n",
        "\n",
        "\n",
        "\n",
        "    f12 = rho2 - (I2* ( np.log( np.maximum( I2-(A2-l2)*sqB2, eps) /np.maximum( I2-(A2-l2)*sqA2 , eps) )  ))\n",
        "    f22 = V2 - logAB2 + ((I2*logSBA2-rho2)/(A2-l2))\n",
        "    f32 = I2 - ( (numI12 + numI22+rho2)/(logSBA2 + siglog2*(A2-l2))  )\n",
        "    f42 = G412 - G422 + G432 - GR2\n",
        "\n",
        "    return [f12, f22, f32, f42]\n",
        "\n",
        "# set a range of initial values\n",
        "A2_range = np.linspace(0.01, 10, 20)\n",
        "I2_range = np.linspace(-60, 60, 20)\n",
        "V2_range = np.linspace(-80, 80, 20)\n",
        "l2_range = np.linspace(0.01, 10, 20)\n",
        "\n",
        "r2 = fixed_r2\n",
        "print(r2)\n",
        "\n",
        "# Create a boolean mask for the constraint\n",
        "# The resulting arrays for A_range, I_range, V_range, and L_range\n",
        "# will only contain values that satisfy the constraint.\n",
        "# Calculate Am\n",
        "Am2 = l2_range + r2\n",
        "\n",
        "# Calculate the expressions\n",
        "expression12 = (A2_range - l2_range) * np.sqrt(1 + A2_range**2)\n",
        "expression22 = (A2_range - l2_range) * np.sqrt(1 + (l2_range - A2_range + r2)**2)\n",
        "\n",
        "# Calculate the maximum and minimum expressions\n",
        "max_expression2 = np.maximum(expression12, expression22)\n",
        "min_expression2 = np.minimum(expression12, expression22)\n",
        "\n",
        "eps = 1e-15 #  a small number\n",
        "mask2 = ( (I2_range > max_expression2) | (I2_range < min_expression2) ) & (np.abs(I2_range) > eps) & (A2_range > 0) & (A2_range <= Am2) & (np.abs(l2_range-r2) > eps)\n",
        "\n",
        "# Apply the mask to all arrays\n",
        "A2_range = A2_range[mask2]\n",
        "I2_range = I2_range[mask2]\n",
        "V2_range = V2_range[mask2]\n",
        "l2_range = l2_range[mask2]\n",
        "\n",
        "# initialize arrays to store solutions\n",
        "A2_sol = []\n",
        "I2_sol = []\n",
        "V2_sol = []\n",
        "l2_sol = []\n",
        "\n",
        "# loop through all combinations of initial values\n",
        "for a2 in A2_range:\n",
        "    for i2 in I2_range:\n",
        "        for v2 in V2_range:\n",
        "            for ll2 in l2_range:\n",
        "                x02 = [a2, i2, v2, ll2]\n",
        "                sol2 = root(equations2, x02, method='hybr')\n",
        "                # Calculate lmd1 and lmd2\n",
        "\n",
        "                if sol2.success: # check if solution was found\n",
        "                    # check if solution satisfies the mask\n",
        "                    expression122 = (sol2.x[0] - sol2.x[3]) * np.sqrt(1 + sol2.x[0]**2)\n",
        "                    expression222 = (sol2.x[0] - sol2.x[3]) * np.sqrt(1 + (sol2.x[3] - sol2.x[0] + r2)**2)\n",
        "                    max_expression22 = np.maximum(expression122, expression222)\n",
        "                    min_expression22 = np.minimum(expression122, expression222)\n",
        "\n",
        "                    lmd1_sol2 = 3*(sol2.x[3] - sol2.x[0] + sol2.x[1]) * \\\n",
        "                     (np.log(np.maximum(sol2.x[3]/r2, 1e-15))) / \\\n",
        "                     ((sol2.x[3] - r2) * (sol2.x[2] +  np.log(sol2.x[3]) - np.log(r2)  ))\n",
        "\n",
        "                    lmd2_sol2 = 3*(sol2.x[3] - sol2.x[0] - sol2.x[1]) * \\\n",
        "                    (np.log(sol2.x[3]) - np.log(r2)) / \\\n",
        "                       ((sol2.x[3] - r2) * (-sol2.x[2] + np.log(sol2.x[3]) - np.log(r2)  ))\n",
        "\n",
        "                    mask22 =  ( (sol2.x[1] > max_expression22) | (sol2.x[1] < min_expression22) ) & (np.abs(sol2.x[1]) > eps) &  (np.abs(sol2.x[3]-r2) > eps)  & (sol2.x[0] >= 0) & (sol2.x[0] <= sol2.x[3] + r2)  &(lmd1_sol2<=lmd2_sol2)\n",
        "                    if np.all(mask22): # only append if all elements of mask are True\n",
        "                      A2_sol = np.append(A2_sol, sol2.x[0])\n",
        "                      I2_sol = np.append(I2_sol, sol2.x[1])\n",
        "                      V2_sol = np.append(V2_sol, sol2.x[2])\n",
        "                      l2_sol = np.append(l2_sol, sol2.x[3])\n",
        "\n",
        "\n",
        "r2 = fixed_r2\n",
        "print('r2 is ', r2)\n",
        "print('k is ', k)\n",
        "\n",
        "# Calculate lmd1 and lmd2\n",
        "lmd12 = 3*(l2_sol - A2_sol + I2_sol) * \\\n",
        "       (np.log(np.maximum(l2_sol/r2, 1e-15))) / \\\n",
        "       ((l2_sol - r2) * ( V2_sol + np.log(l2_sol) - np.log(r2)   ))\n",
        "\n",
        "lmd22 = 3*(l2_sol - A2_sol - I2_sol) * \\\n",
        "       (np.log(np.maximum(l2_sol/r2, +1e-15))) / \\\n",
        "       ((l2_sol - r2) * (-V2_sol + np.log(l2_sol) - np.log(r2)   ))\n",
        "\n",
        "J12 = (l2_sol - A2_sol + I2_sol) /2\n",
        "J22 = (l2_sol - A2_sol - I2_sol) /2"
      ],
      "metadata": {
        "id": "Ujm3qnvhN-zU",
        "colab": {
          "base_uri": "https://localhost:8080/"
        },
        "outputId": "85259939-4d50-40d8-a5cb-a2734209af1a"
      },
      "execution_count": 3,
      "outputs": [
        {
          "metadata": {
            "tags": null
          },
          "name": "stdout",
          "output_type": "stream",
          "text": [
            "1\n"
          ]
        },
        {
          "metadata": {
            "tags": null
          },
          "name": "stderr",
          "output_type": "stream",
          "text": [
            "<ipython-input-3-a2c9e86fb408>:25: RuntimeWarning: invalid value encountered in double_scalars\n",
            "  G432     = ( I2+ ( ((-1)**k) * (A2-l2) ) ) * siglog2 * M2/(A2-l2)\n",
            "<ipython-input-3-a2c9e86fb408>:26: RuntimeWarning: divide by zero encountered in double_scalars\n",
            "  GR2      =( ( I2**2-(A2-l2)**2 )/(A2-l2) ) * M2 * ABGammaR2\n",
            "<ipython-input-3-a2c9e86fb408>:26: RuntimeWarning: invalid value encountered in double_scalars\n",
            "  GR2      =( ( I2**2-(A2-l2)**2 )/(A2-l2) ) * M2 * ABGammaR2\n",
            "<ipython-input-3-a2c9e86fb408>:31: RuntimeWarning: invalid value encountered in double_scalars\n",
            "  f22 = V2 - logAB2 + ((I2*logSBA2-rho2)/(A2-l2))\n",
            "<ipython-input-3-a2c9e86fb408>:32: RuntimeWarning: divide by zero encountered in double_scalars\n",
            "  f32 = I2 - ( (numI12 + numI22+rho2)/(logSBA2 + siglog2*(A2-l2))  )\n",
            "<ipython-input-3-a2c9e86fb408>:93: RuntimeWarning: invalid value encountered in log\n",
            "  ((sol2.x[3] - r2) * (sol2.x[2] +  np.log(sol2.x[3]) - np.log(r2)  ))\n",
            "<ipython-input-3-a2c9e86fb408>:96: RuntimeWarning: invalid value encountered in log\n",
            "  (np.log(sol2.x[3]) - np.log(r2)) / \\\n",
            "<ipython-input-3-a2c9e86fb408>:97: RuntimeWarning: invalid value encountered in log\n",
            "  ((sol2.x[3] - r2) * (-sol2.x[2] + np.log(sol2.x[3]) - np.log(r2)  ))\n"
          ]
        },
        {
          "metadata": {
            "tags": null
          },
          "name": "stdout",
          "output_type": "stream",
          "text": [
            "r2 is  1\n",
            "k is  1\n"
          ]
        }
      ]
    },
    {
      "cell_type": "code",
      "source": [
        "def equations3(x3):\n",
        "    A3, I3, V3, l3 = x3\n",
        "\n",
        "    # k = 1\n",
        "    r3 =  fixed_r3\n",
        "    eps = 1e-15 #  a small number\n",
        "\n",
        "    sqA3    = np.sqrt(1+A3**2)\n",
        "    sqB3   = np.sqrt(1+(l3-A3+r3)**2) #assume that alpha=1/3, beta=2/3\n",
        "    logAB3  = np.log(np.maximum( (l3-A3+r3)*(sqA3-1), eps)/np.maximum( A3*(sqB3-1), eps) )\n",
        "    rho3    = (A3-l3)**2 + (sqA3 - sqB3)*(A3-l3)\n",
        "    sigma3  = l3/r3\n",
        "    logSBA3 = np.log(np.maximum( sigma3*(l3-A3+r3) , eps)/ np.maximum(A3, eps) ) # not a real number\n",
        "    siglog3 = 3*sigma3*np.log( np.maximum( sigma3, eps) )/(l3*(sigma3-1))\n",
        "\n",
        "    numI13   = (( (-1)**(k+1) )*siglog3) * (A3-l3)**2\n",
        "    numI23   = (logAB3 - ((-1)**k) * np.log( np.maximum(sigma3, eps) ))*(A3-l3+eps)\n",
        "    gamma13  = 1/(I3-(A3-l3) * sqA3)\n",
        "    gamma23  = 1/(I3-(A3-l3) * sqB3)\n",
        "    M3       = I3 * (gamma23 - gamma13)+ rho3/I3\n",
        "    ABGamma3 = A3 * gamma13 + (l3-A3+r3) * gamma23\n",
        "    ABGammaR3= (1/A3) * gamma13 + (1/(l3-A3+r3)) * gamma23\n",
        "    G413     = ( 1- (A3-l3)*ABGamma3 )*( logSBA3 + (A3-l3) * siglog3 )\n",
        "    G423     = ( 1- (A3-l3)*ABGamma3 )* M3\n",
        "    G433     = ( I3+ ( ((-1)**k) * (A3-l3) ) ) * siglog3 * M3/(A3-l3)\n",
        "    GR3      =( ( I3**2-(A3-l3)**2 )/(A3-l3) ) * M3 * ABGammaR3\n",
        "\n",
        "\n",
        "\n",
        "    f13 = rho3 - (I3* ( np.log( np.maximum( I3-(A3-l3)*sqB3, eps) /np.maximum( I3-(A3-l3)*sqA3 , eps) )  ))\n",
        "    f23 = V3 - logAB3 + ((I3*logSBA3-rho3)/(A3-l3))\n",
        "    f33 = I3 - ( (numI13 + numI23+rho3)/(logSBA3 + siglog3*(A3-l3))  )\n",
        "    f43 = G413 - G423 + G433 - GR3\n",
        "\n",
        "    return [f13, f23, f33, f43]\n",
        "\n",
        "# set a range of initial values\n",
        "A3_range = np.linspace(0.01, 10, 20)\n",
        "I3_range = np.linspace(-60, 60, 20)\n",
        "V3_range = np.linspace(-80, 80, 20)\n",
        "l3_range = np.linspace(0.01, 10, 20)\n",
        "\n",
        "r3 = fixed_r3\n",
        "print(r3)\n",
        "\n",
        "# Create a boolean mask for the constraint\n",
        "# The resulting arrays for A_range, I_range, V_range, and L_range\n",
        "# will only contain values that satisfy the constraint.\n",
        "# Calculate Am\n",
        "Am3 = l3_range + r3\n",
        "\n",
        "# Calculate the expressions\n",
        "expression13 = (A3_range - l3_range) * np.sqrt(1 + A3_range**2)\n",
        "expression23 = (A3_range - l3_range) * np.sqrt(1 + (l3_range - A3_range + r3)**2)\n",
        "\n",
        "# Calculate the maximum and minimum expressions\n",
        "max_expression3 = np.maximum(expression13, expression23)\n",
        "min_expression3 = np.minimum(expression13, expression23)\n",
        "\n",
        "eps = 1e-15 #  a small number\n",
        "mask3 = ( (I3_range > max_expression3) | (I3_range < min_expression3) ) & (np.abs(I3_range) > eps) & (A3_range > 0) & (A3_range <= Am3) & (np.abs(l3_range-r3) > eps)\n",
        "\n",
        "# Apply the mask to all arrays\n",
        "A3_range = A3_range[mask3]\n",
        "I3_range = I3_range[mask3]\n",
        "V3_range = V3_range[mask3]\n",
        "l3_range = l3_range[mask3]\n",
        "\n",
        "# initialize arrays to store solutions\n",
        "A3_sol = []\n",
        "I3_sol = []\n",
        "V3_sol = []\n",
        "l3_sol = []\n",
        "\n",
        "# loop through all combinations of initial values\n",
        "for a3 in A3_range:\n",
        "    for i3 in I3_range:\n",
        "        for v3 in V3_range:\n",
        "            for ll3 in l3_range:\n",
        "                x03 = [a3, i3, v3, ll3]\n",
        "                sol3 = root(equations3, x03, method='hybr')\n",
        "                # Calculate lmd1 and lmd2\n",
        "\n",
        "                if sol3.success: # check if solution was found\n",
        "                    # check if solution satisfies the mask\n",
        "                    expression123 = (sol3.x[0] - sol3.x[3]) * np.sqrt(1 + sol3.x[0]**2)\n",
        "                    expression223 = (sol3.x[0] - sol3.x[3]) * np.sqrt(1 + (sol3.x[3] - sol3.x[0] + r3)**2)\n",
        "                    max_expression23 = np.maximum(expression123, expression223)\n",
        "                    min_expression23 = np.minimum(expression123, expression223)\n",
        "\n",
        "                    lmd1_sol3 = 3*(sol3.x[3] - sol3.x[0] + sol3.x[1]) * \\\n",
        "                     (np.log(np.maximum(sol3.x[3]/r3, 1e-15))) / \\\n",
        "                     ((sol3.x[3] - r3) * (sol3.x[2] +  np.log(sol3.x[3]) - np.log(r3)  ))\n",
        "\n",
        "                    lmd2_sol3 = 3*(sol3.x[3] - sol3.x[0] - sol3.x[1]) * \\\n",
        "                    (np.log(sol3.x[3]) - np.log(r3)) / \\\n",
        "                       ((sol3.x[3] - r3) * (-sol3.x[2] + np.log(sol3.x[3]) - np.log(r3)  ))\n",
        "\n",
        "                    mask23 =  ( (sol3.x[1] > max_expression23) | (sol3.x[1] < min_expression23) ) & (np.abs(sol3.x[1]) > eps) &  (np.abs(sol3.x[3]-r3) > eps)  & (sol3.x[0] >= 0) & (sol3.x[0] <= sol3.x[3] + r3)  &(lmd1_sol3<=lmd2_sol3)\n",
        "                    if np.all(mask23): # only append if all elements of mask are True\n",
        "                      A3_sol = np.append(A3_sol, sol3.x[0])\n",
        "                      I3_sol = np.append(I3_sol, sol3.x[1])\n",
        "                      V3_sol = np.append(V3_sol, sol3.x[2])\n",
        "                      l3_sol = np.append(l3_sol, sol3.x[3])\n",
        "\n",
        "\n",
        "r3 = fixed_r3\n",
        "print('r3 is ', r3)\n",
        "print('k is ', k)\n",
        "\n",
        "# Calculate lmd1 and lmd2\n",
        "lmd13 = 3*(l3_sol - A3_sol + I3_sol) * \\\n",
        "       (np.log(np.maximum(l3_sol/r3, 1e-15))) / \\\n",
        "       ((l3_sol - r3) * ( V3_sol + np.log(l3_sol) - np.log(r3)   ))\n",
        "\n",
        "lmd23 = 3*(l3_sol - A3_sol - I3_sol) * \\\n",
        "       (np.log(np.maximum(l3_sol/r3, +1e-15))) / \\\n",
        "       ((l3_sol - r3) * (-V3_sol + np.log(l3_sol) - np.log(r3)   ))\n",
        "\n",
        "J13 = (l3_sol - A3_sol + I3_sol) /2\n",
        "J23 = (l3_sol - A3_sol - I3_sol) /2"
      ],
      "metadata": {
        "id": "OUtnJbGEUFf2",
        "colab": {
          "base_uri": "https://localhost:8080/"
        },
        "outputId": "b1f66e79-16e2-48fb-ae42-d97de10c26fa"
      },
      "execution_count": 4,
      "outputs": [
        {
          "metadata": {
            "tags": null
          },
          "name": "stdout",
          "output_type": "stream",
          "text": [
            "2\n"
          ]
        },
        {
          "metadata": {
            "tags": null
          },
          "name": "stderr",
          "output_type": "stream",
          "text": [
            "<ipython-input-4-b78e8a8695ac>:25: RuntimeWarning: invalid value encountered in double_scalars\n",
            "  G433     = ( I3+ ( ((-1)**k) * (A3-l3) ) ) * siglog3 * M3/(A3-l3)\n",
            "<ipython-input-4-b78e8a8695ac>:26: RuntimeWarning: divide by zero encountered in double_scalars\n",
            "  GR3      =( ( I3**2-(A3-l3)**2 )/(A3-l3) ) * M3 * ABGammaR3\n",
            "<ipython-input-4-b78e8a8695ac>:26: RuntimeWarning: invalid value encountered in double_scalars\n",
            "  GR3      =( ( I3**2-(A3-l3)**2 )/(A3-l3) ) * M3 * ABGammaR3\n",
            "<ipython-input-4-b78e8a8695ac>:31: RuntimeWarning: invalid value encountered in double_scalars\n",
            "  f23 = V3 - logAB3 + ((I3*logSBA3-rho3)/(A3-l3))\n",
            "<ipython-input-4-b78e8a8695ac>:32: RuntimeWarning: divide by zero encountered in double_scalars\n",
            "  f33 = I3 - ( (numI13 + numI23+rho3)/(logSBA3 + siglog3*(A3-l3))  )\n",
            "<ipython-input-4-b78e8a8695ac>:93: RuntimeWarning: invalid value encountered in log\n",
            "  ((sol3.x[3] - r3) * (sol3.x[2] +  np.log(sol3.x[3]) - np.log(r3)  ))\n",
            "<ipython-input-4-b78e8a8695ac>:96: RuntimeWarning: invalid value encountered in log\n",
            "  (np.log(sol3.x[3]) - np.log(r3)) / \\\n",
            "<ipython-input-4-b78e8a8695ac>:97: RuntimeWarning: invalid value encountered in log\n",
            "  ((sol3.x[3] - r3) * (-sol3.x[2] + np.log(sol3.x[3]) - np.log(r3)  ))\n"
          ]
        },
        {
          "output_type": "stream",
          "name": "stdout",
          "text": [
            "r3 is  2\n",
            "k is  1\n"
          ]
        }
      ]
    },
    {
      "cell_type": "code",
      "source": [
        "def equations4(x4):\n",
        "    A4, I4, V4, l4 = x4\n",
        "\n",
        "    # k = 1\n",
        "    r4 =  fixed_r4\n",
        "    eps = 1e-15 #  a small number\n",
        "\n",
        "    sqA4    = np.sqrt(1+A4**2)\n",
        "    sqB4   = np.sqrt(1+(l4-A4+r4)**2) #assume that alpha=1/3, beta=2/3\n",
        "    logAB4  = np.log(np.maximum( (l4-A4+r4)*(sqA4-1), eps)/np.maximum( A4*(sqB4-1), eps) )\n",
        "    rho4    = (A4-l4)**2 + (sqA4 - sqB4)*(A4-l4)\n",
        "    sigma4  = l4/r4\n",
        "    logSBA4 = np.log(np.maximum( sigma4*(l4-A4+r4) , eps)/ np.maximum(A4, eps) ) # not a real number\n",
        "    siglog4 = 3*sigma4*np.log( np.maximum( sigma4, eps) )/(l4*(sigma4-1))\n",
        "\n",
        "    numI14   = (( (-1)**(k+1) )*siglog4) * (A4-l4)**2\n",
        "    numI24   = (logAB4 - ((-1)**k) * np.log( np.maximum(sigma4, eps) ))*(A4-l4+eps)\n",
        "    gamma14  = 1/(I4-(A4-l4) * sqA4)\n",
        "    gamma24  = 1/(I4-(A4-l4) * sqB4)\n",
        "    M4       = I4 * (gamma24 - gamma14)+ rho4/I4\n",
        "    ABGamma4 = A4 * gamma14 + (l4-A4+r4) * gamma24\n",
        "    ABGammaR4= (1/A4) * gamma14 + (1/(l4-A4+r4)) * gamma24\n",
        "    G414     = ( 1- (A4-l4)*ABGamma4 )*( logSBA4 + (A4-l4) * siglog4 )\n",
        "    G424     = ( 1- (A4-l4)*ABGamma4 )* M4\n",
        "    G434     = ( I4+ ( ((-1)**k) * (A4-l4) ) ) * siglog4 * M4/(A4-l4)\n",
        "    GR4      =( ( I4**4-(A4-l4)**2 )/(A4-l4) ) * M4 * ABGammaR4\n",
        "\n",
        "\n",
        "\n",
        "    f14 = rho4 - (I4* ( np.log( np.maximum( I4-(A4-l4)*sqB4, eps) /np.maximum( I4-(A4-l4)*sqA4 , eps) )  ))\n",
        "    f24 = V4 - logAB4 + ((I4*logSBA4-rho4)/(A4-l4))\n",
        "    f34 = I4 - ( (numI14 + numI24+rho4)/(logSBA4 + siglog4*(A4-l4))  )\n",
        "    f44 = G414 - G424 + G434 - GR4\n",
        "\n",
        "    return [f14, f24, f34, f44]\n",
        "\n",
        "# set a range of initial values\n",
        "A4_range = np.linspace(0.01, 10, 20)\n",
        "I4_range = np.linspace(-60, 60, 20)\n",
        "V4_range = np.linspace(-80, 80, 20)\n",
        "l4_range = np.linspace(0.01, 10, 20)\n",
        "\n",
        "r4 = fixed_r4\n",
        "print(r4)\n",
        "\n",
        "# Create a boolean mask for the constraint\n",
        "# The resulting arrays for A_range, I_range, V_range, and L_range\n",
        "# will only contain values that satisfy the constraint.\n",
        "# Calculate Am\n",
        "Am4 = l4_range + r4\n",
        "\n",
        "# Calculate the expressions\n",
        "expression14 = (A4_range - l4_range) * np.sqrt(1 + A4_range**2)\n",
        "expression24 = (A4_range - l4_range) * np.sqrt(1 + (l4_range - A4_range + r4)**2)\n",
        "\n",
        "# Calculate the maximum and minimum expressions\n",
        "max_expression4 = np.maximum(expression14, expression24)\n",
        "min_expression4 = np.minimum(expression14, expression24)\n",
        "\n",
        "eps = 1e-15 #  a small number\n",
        "mask4 = ( (I4_range > max_expression4) | (I4_range < min_expression4) ) & (np.abs(I4_range) > eps) & (A4_range > 0) & (A4_range <= Am4) & (np.abs(l4_range-r4) > eps)\n",
        "\n",
        "# Apply the mask to all arrays\n",
        "A4_range = A4_range[mask4]\n",
        "I4_range = I4_range[mask4]\n",
        "V4_range = V4_range[mask4]\n",
        "l4_range = l4_range[mask4]\n",
        "\n",
        "# initialize arrays to store solutions\n",
        "A4_sol = []\n",
        "I4_sol = []\n",
        "V4_sol = []\n",
        "l4_sol = []\n",
        "\n",
        "# loop through all combinations of initial values\n",
        "for a4 in A4_range:\n",
        "    for i4 in I4_range:\n",
        "        for v4 in V4_range:\n",
        "            for ll4 in l4_range:\n",
        "                x04 = [a4, i4, v4, ll4]\n",
        "                sol4 = root(equations4, x04, method='hybr')\n",
        "                # Calculate lmd1 and lmd2\n",
        "\n",
        "                if sol4.success: # check if solution was found\n",
        "                    # check if solution satisfies the mask\n",
        "                    expression124 = (sol4.x[0] - sol4.x[3]) * np.sqrt(1 + sol4.x[0]**2)\n",
        "                    expression224 = (sol4.x[0] - sol4.x[3]) * np.sqrt(1 + (sol4.x[3] - sol4.x[0] + r4)**2)\n",
        "                    max_expression24 = np.maximum(expression124, expression224)\n",
        "                    min_expression24 = np.minimum(expression124, expression224)\n",
        "\n",
        "                    lmd1_sol4 = 3*(sol4.x[3] - sol4.x[0] + sol4.x[1]) * \\\n",
        "                     (np.log(np.maximum(sol4.x[3]/r4, 1e-15))) / \\\n",
        "                     ((sol4.x[3] - r4) * (sol4.x[2] +  np.log(sol4.x[3]) - np.log(r4)  ))\n",
        "\n",
        "                    lmd2_sol4 = 3*(sol4.x[3] - sol4.x[0] - sol4.x[1]) * \\\n",
        "                    (np.log(sol4.x[3]) - np.log(r4)) / \\\n",
        "                       ((sol4.x[3] - r4) * (-sol4.x[2] + np.log(sol4.x[3]) - np.log(r4)  ))\n",
        "\n",
        "                    mask24 =  ( (sol4.x[1] > max_expression24) | (sol4.x[1] < min_expression24) ) & (np.abs(sol4.x[1]) > eps) &  (np.abs(sol4.x[3]-r4) > eps)  & (sol4.x[0] >= 0) & (sol4.x[0] <= sol4.x[3] + r4)  &(lmd1_sol4<=lmd2_sol4)\n",
        "                    if np.all(mask24): # only append if all elements of mask are True\n",
        "                      A4_sol = np.append(A4_sol, sol4.x[0])\n",
        "                      I4_sol = np.append(I4_sol, sol4.x[1])\n",
        "                      V4_sol = np.append(V4_sol, sol4.x[2])\n",
        "                      l4_sol = np.append(l4_sol, sol4.x[3])\n",
        "\n",
        "\n",
        "r4 = fixed_r4\n",
        "print('r4 is ', r4)\n",
        "print('k is ', k)\n",
        "\n",
        "# Calculate lmd1 and lmd2\n",
        "lmd14 = 3*(l4_sol - A4_sol + I4_sol) * \\\n",
        "       (np.log(np.maximum(l4_sol/r4, 1e-15))) / \\\n",
        "       ((l4_sol - r4) * ( V4_sol + np.log(l4_sol) - np.log(r4)   ))\n",
        "\n",
        "lmd24 = 3*(l4_sol - A4_sol - I4_sol) * \\\n",
        "       (np.log(np.maximum(l4_sol/r4, +1e-15))) / \\\n",
        "       ((l4_sol - r4) * (-V4_sol + np.log(l4_sol) - np.log(r4)   ))\n",
        "\n",
        "J14 = (l4_sol - A4_sol + I4_sol) /2\n",
        "J24 = (l4_sol - A4_sol - I4_sol) /2"
      ],
      "metadata": {
        "id": "ugYbJSrmXj97",
        "colab": {
          "base_uri": "https://localhost:8080/"
        },
        "outputId": "4c146396-317f-4eed-abd4-0a1d266bba57"
      },
      "execution_count": 5,
      "outputs": [
        {
          "output_type": "stream",
          "name": "stdout",
          "text": [
            "5\n"
          ]
        },
        {
          "output_type": "stream",
          "name": "stderr",
          "text": [
            "<ipython-input-5-f87ee3ef0dc1>:25: RuntimeWarning: invalid value encountered in double_scalars\n",
            "  G434     = ( I4+ ( ((-1)**k) * (A4-l4) ) ) * siglog4 * M4/(A4-l4)\n",
            "<ipython-input-5-f87ee3ef0dc1>:26: RuntimeWarning: divide by zero encountered in double_scalars\n",
            "  GR4      =( ( I4**4-(A4-l4)**2 )/(A4-l4) ) * M4 * ABGammaR4\n",
            "<ipython-input-5-f87ee3ef0dc1>:26: RuntimeWarning: invalid value encountered in double_scalars\n",
            "  GR4      =( ( I4**4-(A4-l4)**2 )/(A4-l4) ) * M4 * ABGammaR4\n",
            "<ipython-input-5-f87ee3ef0dc1>:31: RuntimeWarning: invalid value encountered in double_scalars\n",
            "  f24 = V4 - logAB4 + ((I4*logSBA4-rho4)/(A4-l4))\n",
            "<ipython-input-5-f87ee3ef0dc1>:32: RuntimeWarning: divide by zero encountered in double_scalars\n",
            "  f34 = I4 - ( (numI14 + numI24+rho4)/(logSBA4 + siglog4*(A4-l4))  )\n",
            "<ipython-input-5-f87ee3ef0dc1>:93: RuntimeWarning: invalid value encountered in log\n",
            "  ((sol4.x[3] - r4) * (sol4.x[2] +  np.log(sol4.x[3]) - np.log(r4)  ))\n",
            "<ipython-input-5-f87ee3ef0dc1>:96: RuntimeWarning: invalid value encountered in log\n",
            "  (np.log(sol4.x[3]) - np.log(r4)) / \\\n",
            "<ipython-input-5-f87ee3ef0dc1>:97: RuntimeWarning: invalid value encountered in log\n",
            "  ((sol4.x[3] - r4) * (-sol4.x[2] + np.log(sol4.x[3]) - np.log(r4)  ))\n",
            "<ipython-input-5-f87ee3ef0dc1>:31: RuntimeWarning: divide by zero encountered in double_scalars\n",
            "  f24 = V4 - logAB4 + ((I4*logSBA4-rho4)/(A4-l4))\n",
            "<ipython-input-5-f87ee3ef0dc1>:91: RuntimeWarning: divide by zero encountered in double_scalars\n",
            "  lmd1_sol4 = 3*(sol4.x[3] - sol4.x[0] + sol4.x[1]) * \\\n"
          ]
        },
        {
          "output_type": "stream",
          "name": "stdout",
          "text": [
            "r4 is  5\n",
            "k is  1\n"
          ]
        },
        {
          "output_type": "stream",
          "name": "stderr",
          "text": [
            "<ipython-input-5-f87ee3ef0dc1>:112: RuntimeWarning: divide by zero encountered in divide\n",
            "  lmd14 = 3*(l4_sol - A4_sol + I4_sol) * \\\n"
          ]
        }
      ]
    },
    {
      "cell_type": "code",
      "source": [
        "print(np.shape(lmd22))"
      ],
      "metadata": {
        "id": "rC-J_Vec3hyK",
        "colab": {
          "base_uri": "https://localhost:8080/"
        },
        "outputId": "862f3ac7-3fde-427a-f7d7-17125b28371d"
      },
      "execution_count": 6,
      "outputs": [
        {
          "metadata": {
            "tags": null
          },
          "name": "stdout",
          "output_type": "stream",
          "text": [
            "(32486,)\n"
          ]
        }
      ]
    },
    {
      "cell_type": "code",
      "source": [
        "# plot the solutions\n",
        "fig, axs = plt.subplots(1, 2, figsize=(10, 3), squeeze=False)\n",
        "\n",
        "# First set of figures\n",
        "axs[0, 0].scatter(V3_sol, lmd13, label='$\\lambda_1$', s=1, color='red')\n",
        "axs[0, 0].scatter(V_sol, lmd2, label='$\\lambda_2(r=0.1)$', s=1, color='cyan')\n",
        "axs[0, 0].set_xlabel('V')\n",
        "axs[0, 0].set_ylabel('Flux ratios $\\lambda$')\n",
        "axs[0, 0].legend(fontsize='small')\n",
        "axs[0, 0].set_xlim(-90, 90)  # Adjust the x-axis limits\n",
        "axs[0, 0].set_ylim(.9, 1.55)  # Adjust the y-axis limits\n",
        "\n",
        "axs[0, 1].scatter(I3_sol, lmd13, label='$\\lambda_1$', s=1, color='red')\n",
        "axs[0, 1].scatter(I_sol, lmd2, label='$\\lambda_2(r=0.1)$', s=1, color='cyan')\n",
        "axs[0, 1].set_xlabel('$\\mathcal{I}$')\n",
        "axs[0, 1].set_ylabel('Flux ratios $\\lambda$')\n",
        "axs[0, 1].legend(fontsize='small')\n",
        "axs[0, 1].set_xlim(-30, 30)  # Adjust the x-axis limits\n",
        "axs[0, 1].set_ylim(.9, 1.55)  # Adjust the y-axis limits\n",
        "\n",
        "# Second set of figures\n",
        "axs[0, 0].scatter(V2_sol, lmd22, label='$\\lambda_2(r=1)$', s=1, color='limegreen')\n",
        "axs[0, 1].scatter(I2_sol, lmd22, label='$\\lambda_2(r=1)$', s=1, color='limegreen')\n",
        "axs[0, 0].legend(fontsize='small')\n",
        "axs[0, 1].legend(fontsize='small')\n",
        "\n",
        "# Third set of figures\n",
        "axs[0, 0].scatter(V3_sol, lmd23, label='$\\lambda_2(r=2)$', s=1, color='blueviolet')\n",
        "axs[0, 1].scatter(I3_sol, lmd23, label='$\\lambda_2(r=2)$', s=1, color='blueviolet')\n",
        "axs[0, 0].legend(fontsize='small')\n",
        "axs[0, 1].legend(fontsize='small')\n",
        "\n",
        "# Fourth set of figures\n",
        "axs[0, 0].scatter(V4_sol, lmd24, label='$\\lambda_2(r=5)$', s=1, color='blue')\n",
        "axs[0, 1].scatter(I4_sol, lmd24, label='$\\lambda_2(r=5)$', s=1, color='blue')\n",
        "axs[0, 0].legend(fontsize='small')\n",
        "axs[0, 1].legend(fontsize='small')\n",
        "\n",
        "plt.show()"
      ],
      "metadata": {
        "id": "CBuUUthdvJMz",
        "colab": {
          "base_uri": "https://localhost:8080/",
          "height": 311
        },
        "outputId": "3cb73403-f009-4d97-f139-9b06d61d32a0"
      },
      "execution_count": 19,
      "outputs": [
        {
          "output_type": "display_data",
          "data": {
            "text/plain": [
              "<Figure size 1000x300 with 2 Axes>"
            ],
            "image/png": "[encoded data removed]"
          },
          "metadata": {}
        }
      ]
    },
    {
      "cell_type": "code",
      "source": [
        "# plot the solutions\n",
        "fig, axs = plt.subplots(1, 2, figsize=(10, 3), squeeze=False)\n",
        "\n",
        "# First set of figures\n",
        "axs[0, 0].scatter(l3_sol, lmd13, label='$\\lambda_1$', s=1, color='red')\n",
        "axs[0, 0].scatter(l_sol, lmd2, label='$\\lambda_2(r=0.5)$', s=1, color='cyan')\n",
        "axs[0, 0].set_xlabel('$l$')\n",
        "axs[0, 0].set_ylabel('Flux ratios $\\lambda$')\n",
        "axs[0, 0].legend(fontsize='small')\n",
        "axs[0, 0].set_xlim(0, 10)  # Adjust the x-axis limits\n",
        "axs[0, 0].set_ylim(.9, 1.5)  # Adjust the y-axis limits\n",
        "\n",
        "axs[0, 1].scatter(l_sol, J1, label='$j_1(r=0.5)$', s=1, color='cyan')\n",
        "axs[0, 1].scatter(l_sol, J2, label='$j_2(r=0.5)$', s=1, color='dimgrey')\n",
        "axs[0, 1].set_xlabel('$l$')\n",
        "axs[0, 1].set_ylabel('Fluxes')\n",
        "axs[0, 1].legend(fontsize='small')\n",
        "axs[0, 1].set_xlim(0, 10)  # Adjust the x-axis limits\n",
        "axs[0, 1].set_ylim(-50, 50)  # Adjust the y-axis limits\n",
        "\n",
        "# Second set of figures\n",
        "axs[0, 0].scatter(l2_sol, lmd22, label='$\\lambda_2(r=1)$', s=1, color='limegreen')\n",
        "axs[0, 1].scatter(l2_sol, J12, label='$j_1(r=1)$', s=1, color='green')\n",
        "axs[0, 1].scatter(l2_sol, J22, label='$j_2(r=1)$', s=1, color='lime')\n",
        "axs[0, 0].legend(fontsize='small')\n",
        "axs[0, 1].legend(fontsize='small')\n",
        "\n",
        "# Third set of figures\n",
        "axs[0, 0].scatter(l3_sol, lmd23, label='$\\lambda_2(r=2)$', s=1, color='blueviolet')\n",
        "axs[0, 1].scatter(l3_sol, J13, label='$j_1(r=2)$', s=1, color='blueviolet')\n",
        "axs[0, 1].scatter(l3_sol, J23, label='$j_2(r=2)$', s=1, color='violet')\n",
        "axs[0, 0].legend(fontsize='small')\n",
        "axs[0, 1].legend(fontsize='small')\n",
        "\n",
        "# Fourth set of figures\n",
        "axs[0, 0].scatter(l4_sol, lmd24, label='$\\lambda_2(r=5)$', s=1, color='blue')\n",
        "axs[0, 1].scatter(l4_sol, J14, label='$j_1(r=5)$', s=1, color='blue')\n",
        "axs[0, 1].scatter(l4_sol, J24, label='$j_2(r=5)$', s=1, color='deepskyblue')\n",
        "axs[0, 0].legend(fontsize='small')\n",
        "axs[0, 1].legend(fontsize='small')\n",
        "\n",
        "plt.show()"
      ],
      "metadata": {
        "id": "Fmrq3UseNyGX",
        "outputId": "996b533e-f24a-474d-df40-cbf0806a860c",
        "colab": {
          "base_uri": "https://localhost:8080/",
          "height": 352
        }
      },
      "execution_count": 18,
      "outputs": [
        {
          "output_type": "stream",
          "name": "stderr",
          "text": [
            "/usr/local/lib/python3.10/dist-packages/IPython/core/pylabtools.py:151: UserWarning: Creating legend with loc=\"best\" can be slow with large amounts of data.\n",
            "  fig.canvas.print_figure(bytes_io, **kw)\n"
          ]
        },
        {
          "output_type": "display_data",
          "data": {
            "text/plain": [
              "<Figure size 1000x300 with 2 Axes>"
            ],
            "image/png": "[encoded data removed]"
          },
          "metadata": {}
        }
      ]
    },
    {
      "cell_type": "markdown",
      "source": [
        "## Due to the computation errors, it is almost impossible to avoid the noises we get on the figure. However, the structure of the figures shows the behavior of variables."
      ],
      "metadata": {
        "id": "DxXAihjgLAwm"
      }
    }
  ]
}