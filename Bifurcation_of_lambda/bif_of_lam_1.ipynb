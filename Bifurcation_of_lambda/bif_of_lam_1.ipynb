{
  "nbformat": 4,
  "nbformat_minor": 0,
  "metadata": {
    "colab": {
      "provenance": [],
      "authorship_tag": "ABX9TyNaLG003hzEKv1B4BqQIBnG",
      "include_colab_link": true
    },
    "kernelspec": {
      "name": "python3",
      "display_name": "Python 3"
    },
    "language_info": {
      "name": "python"
    }
  },
  "cells": [
    {
      "cell_type": "markdown",
      "metadata": {
        "id": "view-in-github",
        "colab_type": "text"
      },
      "source": [
        "<a href=\"https://colab.research.google.com/github/Hamid-Mofidi/PNP/blob/main/Bifurcation_of_lambda/bif_of_lam_1.ipynb\" target=\"_parent\"><img src=\"https://colab.research.google.com/assets/colab-badge.svg\" alt=\"Open In Colab\"/></a>"
      ]
    },
    {
      "cell_type": "markdown",
      "source": [
        "This code is for the bifurcation analysis of flux ratio for studying the\n",
        "effects of permanent charges on ionic flows"
      ],
      "metadata": {
        "id": "JmlF3kMUNpU7"
      }
    },
    {
      "cell_type": "code",
      "execution_count": null,
      "metadata": {
        "id": "WwLWz6voNmaa"
      },
      "outputs": [],
      "source": [
        "from scipy.optimize import root\n",
        "import numpy as np\n",
        "import matplotlib.pyplot as plt\n",
        "\n",
        "def equations(x):\n",
        "    A, I, V, l = x\n",
        "\n",
        "    k = 1\n",
        "    r = 2\n",
        "\n",
        "    sqA    = np.sqrt(1+A**2)\n",
        "    sqB    = np.sqrt(1+(l-A+r)**2) #assume that alpha=1/3, beta=2/3\n",
        "    logAB  = np.log(np.nan_to_num((l-A+r)*(sqA-1), nan = +1e-15) )- np.log(np.nan_to_num (A*(sqB-1), nan = +1e-15) )\n",
        "    rho    = (A-l)**2 + (sqA - sqB)*(A-l)\n",
        "    sigma  = l/r \n",
        "    logSBA = np.log(np.nan_to_num( sigma*(l-A+r) , nan = +1e-15) ) - np.log( np.nan_to_num(A, nan = +1e-15) ) # not a real number\n",
        "    siglog = 3*sigma*np.log( np.nan_to_num(sigma, nan = +1e-15) )/(l*(sigma-1))\n",
        "\n",
        "    numI1   = (( (-1)**(k+1) )*siglog) * (A-l)**2\n",
        "    numI2   = (logAB - ((-1)**k) * np.log( np.nan_to_num(sigma, nan = +1e-15) ))*(A-l)\n",
        "    gamma1  = 1/(I-(A-l) * sqA)\n",
        "    gamma2  = 1/(I-(A-l) * sqB)\n",
        "    M       = I * (gamma2 - gamma1)+ rho/I\n",
        "    ABGamma = A * gamma1 + (l-A+r) * gamma2\n",
        "    ABGammaR= (1/A) * gamma1 + (1/(l-A+r)) * gamma2\n",
        "    G41     = ( 1- (A-l)*ABGamma )*( logSBA + (A-l) * siglog )\n",
        "    G42     = ( 1- (A-l)*ABGamma )* M\n",
        "    G43     = ( I+ ( ((-1)**k) * (A-l) ) ) * siglog * M\n",
        "    GR      =( ( I**2-(A-l)**2 )/(A-l) ) * M * ABGammaR\n",
        "\n",
        "  \n",
        "    \n",
        "    f1 = rho - (I* ( np.nan_to_num(np.log(np.nan_to_num( I-(A-l)*sqB, nan = +1e-10) ), nan = +1e-10)- np.nan_to_num(np.log(np.nan_to_num( I-(A-l)*sqA , nan = +1e-10) ) , nan = +1e-10) ) )\n",
        "    f2 = V - logAB + ((I*logSBA-rho)/(A-l))\n",
        "    f3 = I - (numI1 + numI2+rho)/(logSBA + (siglog)*(A-l))\n",
        "    f4 = G41 - G42 + G43 - GR\n",
        "    \n",
        "    return [f1, f2, f3, f4]\n",
        "\n",
        "\n",
        "# set a range of initial values\n",
        "A_range = np.linspace(0, 2, 20)\n",
        "I_range = np.linspace(0, 2, 20)\n",
        "V_range = np.linspace(0, 10, 20)\n",
        "l_range = np.linspace(0, 10, 20)\n",
        "\n",
        "# initialize arrays to store solutions\n",
        "A_sol = []\n",
        "I_sol = []\n",
        "V_sol = []\n",
        "l_sol = []\n",
        "\n",
        "# loop through all combinations of initial values\n",
        "for a in A_range:\n",
        "    for i in I_range:\n",
        "        for v in V_range:\n",
        "            for ll in l_range:\n",
        "                x0 = [a, i, v, ll]\n",
        "                sol = root(equations, x0, method='hybr')\n",
        "                if sol.success: # check if solution was found\n",
        "                    A_sol.append(sol.x[0])\n",
        "                    I_sol.append(sol.x[1])\n",
        "                    V_sol.append(sol.x[2])\n",
        "                    l_sol.append(sol.x[3])\n",
        "\n",
        "# plot the solutions\n",
        "fig, axs = plt.subplots(2, 2, figsize=(10, 10))\n",
        "axs[0, 0].scatter(A_sol, I_sol)\n",
        "axs[0, 0].set_xlabel('A')\n",
        "axs[0, 0].set_ylabel('I')\n",
        "axs[0, 1].scatter(A_sol, V_sol)\n",
        "axs[0, 1].set_xlabel('A')\n",
        "axs[0, 1].set_ylabel('V')\n",
        "axs[1, 0].scatter(A_sol, l_sol)\n",
        "axs[1, 0].set_xlabel('A')\n",
        "axs[1, 0].set_ylabel('l')\n",
        "axs[1, 1].scatter(I_sol, V_sol)\n",
        "axs[1, 1].set_xlabel('I')\n",
        "axs[1, 1].set_ylabel('V')\n",
        "plt.show()\n",
        "\n",
        "# x0 = [0.5, 0.5, 5, 5]\n",
        "# sol = root(equations, x0, method='hybr')\n",
        "# sol = root(equations, x0, method='broyden1')\n",
        "# sol = root(equations, x0, method='anderson')\n",
        "\n",
        "# print(sol.x)\n"
      ]
    }
  ]
}